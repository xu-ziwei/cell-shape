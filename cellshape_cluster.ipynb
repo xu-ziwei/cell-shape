{
 "cells": [
  {
   "cell_type": "code",
   "execution_count": 1,
   "metadata": {},
   "outputs": [],
   "source": [
    "import torch\n",
    "from torch.utils.data import DataLoader\n",
    "from cellshape_cloud import CloudAutoEncoder\n",
    "import cellshape_cloud as cloud\n",
    "import cellshape_cluster as cluster\n",
    "from cellshape_cloud.vendor.chamfer_distance import ChamferLoss\n",
    "import os\n",
    "#try chamfer loss\n"
   ]
  },
  {
   "cell_type": "code",
   "execution_count": 3,
   "metadata": {},
   "outputs": [
    {
     "name": "stdout",
     "output_type": "stream",
     "text": [
      "CUDA available: True\n",
      "GPU Name: NVIDIA GeForce RTX 3090\n"
     ]
    }
   ],
   "source": [
    "import torch\n",
    "\n",
    "# Check if CUDA is available\n",
    "cuda_available = torch.cuda.is_available()\n",
    "\n",
    "# Get the name of the GPU\n",
    "gpu_name = torch.cuda.get_device_name(0) if cuda_available else \"No GPU available\"\n",
    "\n",
    "print(\"CUDA available:\", cuda_available)\n",
    "print(\"GPU Name:\", gpu_name)"
   ]
  },
  {
   "cell_type": "code",
   "execution_count": 6,
   "metadata": {},
   "outputs": [
    {
     "name": "stdout",
     "output_type": "stream",
     "text": [
      "Performing k-means to get initial cluster centres\n",
      "Initialising target distribution\n",
      "Training epoch 0\n"
     ]
    },
    {
     "name": "stderr",
     "output_type": "stream",
     "text": [
      "Epoch 0: 100%|██████████| 58/58 [01:33<00:00,  1.61s/batch, clu_loss=0.874, rec_loss=6.61, tot_loss=7.49] \n"
     ]
    },
    {
     "name": "stdout",
     "output_type": "stream",
     "text": [
      "Training epoch 1\n"
     ]
    },
    {
     "name": "stderr",
     "output_type": "stream",
     "text": [
      "Epoch 1: 100%|██████████| 58/58 [01:33<00:00,  1.61s/batch, clu_loss=0.711, rec_loss=3.93, tot_loss=4.64] \n"
     ]
    },
    {
     "name": "stdout",
     "output_type": "stream",
     "text": [
      "Training epoch 2\n"
     ]
    },
    {
     "name": "stderr",
     "output_type": "stream",
     "text": [
      "Epoch 2: 100%|██████████| 58/58 [01:33<00:00,  1.62s/batch, clu_loss=0.679, rec_loss=3.38, tot_loss=4.05] \n"
     ]
    },
    {
     "name": "stdout",
     "output_type": "stream",
     "text": [
      "Training epoch 3\n"
     ]
    },
    {
     "name": "stderr",
     "output_type": "stream",
     "text": [
      "Epoch 3: 100%|██████████| 58/58 [01:33<00:00,  1.61s/batch, clu_loss=0.67, rec_loss=3.13, tot_loss=3.8]   \n"
     ]
    },
    {
     "name": "stdout",
     "output_type": "stream",
     "text": [
      "Training epoch 4\n"
     ]
    },
    {
     "name": "stderr",
     "output_type": "stream",
     "text": [
      "Epoch 4: 100%|██████████| 58/58 [01:33<00:00,  1.61s/batch, clu_loss=0.644, rec_loss=2.93, tot_loss=3.57] \n"
     ]
    },
    {
     "name": "stdout",
     "output_type": "stream",
     "text": [
      "Training epoch 5\n"
     ]
    },
    {
     "name": "stderr",
     "output_type": "stream",
     "text": [
      "Epoch 5: 100%|██████████| 58/58 [01:39<00:00,  1.71s/batch, clu_loss=0.625, rec_loss=2.71, tot_loss=3.34] \n"
     ]
    },
    {
     "name": "stdout",
     "output_type": "stream",
     "text": [
      "Training epoch 6\n"
     ]
    },
    {
     "name": "stderr",
     "output_type": "stream",
     "text": [
      "Epoch 6: 100%|██████████| 58/58 [01:33<00:00,  1.62s/batch, clu_loss=0.609, rec_loss=2.57, tot_loss=3.18] \n"
     ]
    },
    {
     "name": "stdout",
     "output_type": "stream",
     "text": [
      "Training epoch 7\n"
     ]
    },
    {
     "name": "stderr",
     "output_type": "stream",
     "text": [
      "Epoch 7: 100%|██████████| 58/58 [01:34<00:00,  1.63s/batch, clu_loss=0.598, rec_loss=2.47, tot_loss=3.07] \n"
     ]
    },
    {
     "name": "stdout",
     "output_type": "stream",
     "text": [
      "Training epoch 8\n"
     ]
    },
    {
     "name": "stderr",
     "output_type": "stream",
     "text": [
      "Epoch 8: 100%|██████████| 58/58 [01:32<00:00,  1.60s/batch, clu_loss=0.588, rec_loss=2.27, tot_loss=2.85] \n"
     ]
    },
    {
     "name": "stdout",
     "output_type": "stream",
     "text": [
      "Training epoch 9\n"
     ]
    },
    {
     "name": "stderr",
     "output_type": "stream",
     "text": [
      "Epoch 9: 100%|██████████| 58/58 [01:33<00:00,  1.60s/batch, clu_loss=0.583, rec_loss=2.16, tot_loss=2.75] \n"
     ]
    },
    {
     "name": "stdout",
     "output_type": "stream",
     "text": [
      "Training epoch 10\n"
     ]
    },
    {
     "name": "stderr",
     "output_type": "stream",
     "text": [
      "Epoch 10: 100%|██████████| 58/58 [01:34<00:00,  1.63s/batch, clu_loss=0.577, rec_loss=2.09, tot_loss=2.67] \n"
     ]
    },
    {
     "name": "stdout",
     "output_type": "stream",
     "text": [
      "Training epoch 11\n"
     ]
    },
    {
     "name": "stderr",
     "output_type": "stream",
     "text": [
      "Epoch 11: 100%|██████████| 58/58 [01:34<00:00,  1.64s/batch, clu_loss=0.575, rec_loss=1.97, tot_loss=2.54] \n"
     ]
    },
    {
     "name": "stdout",
     "output_type": "stream",
     "text": [
      "Training epoch 12\n"
     ]
    },
    {
     "name": "stderr",
     "output_type": "stream",
     "text": [
      "Epoch 12: 100%|██████████| 58/58 [01:35<00:00,  1.64s/batch, clu_loss=0.574, rec_loss=1.91, tot_loss=2.48] \n"
     ]
    },
    {
     "name": "stdout",
     "output_type": "stream",
     "text": [
      "Training epoch 13\n"
     ]
    },
    {
     "name": "stderr",
     "output_type": "stream",
     "text": [
      "Epoch 13: 100%|██████████| 58/58 [01:38<00:00,  1.69s/batch, clu_loss=0.569, rec_loss=1.84, tot_loss=2.41] \n"
     ]
    },
    {
     "name": "stdout",
     "output_type": "stream",
     "text": [
      "Training epoch 14\n"
     ]
    },
    {
     "name": "stderr",
     "output_type": "stream",
     "text": [
      "Epoch 14: 100%|██████████| 58/58 [01:34<00:00,  1.63s/batch, clu_loss=0.564, rec_loss=1.81, tot_loss=2.38] \n"
     ]
    },
    {
     "name": "stdout",
     "output_type": "stream",
     "text": [
      "Training epoch 15\n"
     ]
    },
    {
     "name": "stderr",
     "output_type": "stream",
     "text": [
      "Epoch 15: 100%|██████████| 58/58 [01:35<00:00,  1.64s/batch, clu_loss=0.562, rec_loss=1.77, tot_loss=2.33] \n"
     ]
    },
    {
     "name": "stdout",
     "output_type": "stream",
     "text": [
      "Training epoch 16\n"
     ]
    },
    {
     "name": "stderr",
     "output_type": "stream",
     "text": [
      "Epoch 16: 100%|██████████| 58/58 [01:34<00:00,  1.64s/batch, clu_loss=0.56, rec_loss=1.72, tot_loss=2.28]  \n"
     ]
    },
    {
     "name": "stdout",
     "output_type": "stream",
     "text": [
      "Training epoch 17\n"
     ]
    },
    {
     "name": "stderr",
     "output_type": "stream",
     "text": [
      "Epoch 17: 100%|██████████| 58/58 [01:35<00:00,  1.64s/batch, clu_loss=0.557, rec_loss=1.72, tot_loss=2.28] \n"
     ]
    },
    {
     "name": "stdout",
     "output_type": "stream",
     "text": [
      "Training epoch 18\n"
     ]
    },
    {
     "name": "stderr",
     "output_type": "stream",
     "text": [
      "Epoch 18: 100%|██████████| 58/58 [01:34<00:00,  1.64s/batch, clu_loss=0.555, rec_loss=1.69, tot_loss=2.25] \n"
     ]
    },
    {
     "name": "stdout",
     "output_type": "stream",
     "text": [
      "Training epoch 19\n"
     ]
    },
    {
     "name": "stderr",
     "output_type": "stream",
     "text": [
      "Epoch 19: 100%|██████████| 58/58 [01:35<00:00,  1.64s/batch, clu_loss=0.553, rec_loss=1.67, tot_loss=2.22] \n"
     ]
    },
    {
     "name": "stdout",
     "output_type": "stream",
     "text": [
      "Training epoch 20\n"
     ]
    },
    {
     "name": "stderr",
     "output_type": "stream",
     "text": [
      "Epoch 20: 100%|██████████| 58/58 [01:35<00:00,  1.65s/batch, clu_loss=0.553, rec_loss=1.65, tot_loss=2.2]  \n"
     ]
    },
    {
     "name": "stdout",
     "output_type": "stream",
     "text": [
      "Training epoch 21\n"
     ]
    },
    {
     "name": "stderr",
     "output_type": "stream",
     "text": [
      "Epoch 21: 100%|██████████| 58/58 [01:37<00:00,  1.69s/batch, clu_loss=0.55, rec_loss=1.63, tot_loss=2.18]  \n"
     ]
    },
    {
     "name": "stdout",
     "output_type": "stream",
     "text": [
      "Training epoch 22\n"
     ]
    },
    {
     "name": "stderr",
     "output_type": "stream",
     "text": [
      "Epoch 22: 100%|██████████| 58/58 [01:34<00:00,  1.64s/batch, clu_loss=0.551, rec_loss=1.62, tot_loss=2.17] \n"
     ]
    },
    {
     "name": "stdout",
     "output_type": "stream",
     "text": [
      "Training epoch 23\n"
     ]
    },
    {
     "name": "stderr",
     "output_type": "stream",
     "text": [
      "Epoch 23: 100%|██████████| 58/58 [01:35<00:00,  1.64s/batch, clu_loss=0.549, rec_loss=1.63, tot_loss=2.18] \n"
     ]
    },
    {
     "name": "stdout",
     "output_type": "stream",
     "text": [
      "Training epoch 24\n"
     ]
    },
    {
     "name": "stderr",
     "output_type": "stream",
     "text": [
      "Epoch 24: 100%|██████████| 58/58 [01:34<00:00,  1.64s/batch, clu_loss=0.546, rec_loss=1.61, tot_loss=2.16] \n"
     ]
    },
    {
     "name": "stdout",
     "output_type": "stream",
     "text": [
      "Training epoch 25\n"
     ]
    },
    {
     "name": "stderr",
     "output_type": "stream",
     "text": [
      "Epoch 25: 100%|██████████| 58/58 [01:35<00:00,  1.64s/batch, clu_loss=0.543, rec_loss=1.61, tot_loss=2.16] \n"
     ]
    },
    {
     "name": "stdout",
     "output_type": "stream",
     "text": [
      "Training epoch 26\n"
     ]
    },
    {
     "name": "stderr",
     "output_type": "stream",
     "text": [
      "Epoch 26: 100%|██████████| 58/58 [01:34<00:00,  1.64s/batch, clu_loss=0.543, rec_loss=1.59, tot_loss=2.14] \n"
     ]
    },
    {
     "name": "stdout",
     "output_type": "stream",
     "text": [
      "Training epoch 27\n"
     ]
    },
    {
     "name": "stderr",
     "output_type": "stream",
     "text": [
      "Epoch 27: 100%|██████████| 58/58 [01:35<00:00,  1.64s/batch, clu_loss=0.542, rec_loss=1.61, tot_loss=2.15] \n"
     ]
    },
    {
     "name": "stdout",
     "output_type": "stream",
     "text": [
      "Training epoch 28\n"
     ]
    },
    {
     "name": "stderr",
     "output_type": "stream",
     "text": [
      "Epoch 28: 100%|██████████| 58/58 [01:34<00:00,  1.63s/batch, clu_loss=0.54, rec_loss=1.62, tot_loss=2.16]  \n"
     ]
    },
    {
     "name": "stdout",
     "output_type": "stream",
     "text": [
      "Training epoch 29\n"
     ]
    },
    {
     "name": "stderr",
     "output_type": "stream",
     "text": [
      "Epoch 29: 100%|██████████| 58/58 [01:36<00:00,  1.66s/batch, clu_loss=0.537, rec_loss=1.6, tot_loss=2.14]  \n"
     ]
    },
    {
     "name": "stdout",
     "output_type": "stream",
     "text": [
      "Training epoch 30\n"
     ]
    },
    {
     "name": "stderr",
     "output_type": "stream",
     "text": [
      "Epoch 30: 100%|██████████| 58/58 [01:34<00:00,  1.64s/batch, clu_loss=0.535, rec_loss=1.65, tot_loss=2.18] \n"
     ]
    },
    {
     "name": "stdout",
     "output_type": "stream",
     "text": [
      "Training epoch 31\n"
     ]
    },
    {
     "name": "stderr",
     "output_type": "stream",
     "text": [
      "Epoch 31: 100%|██████████| 58/58 [01:34<00:00,  1.64s/batch, clu_loss=0.534, rec_loss=1.66, tot_loss=2.19] \n"
     ]
    },
    {
     "name": "stdout",
     "output_type": "stream",
     "text": [
      "Training epoch 32\n"
     ]
    },
    {
     "name": "stderr",
     "output_type": "stream",
     "text": [
      "Epoch 32: 100%|██████████| 58/58 [01:35<00:00,  1.64s/batch, clu_loss=0.532, rec_loss=1.65, tot_loss=2.18] \n"
     ]
    },
    {
     "name": "stdout",
     "output_type": "stream",
     "text": [
      "Training epoch 33\n"
     ]
    },
    {
     "name": "stderr",
     "output_type": "stream",
     "text": [
      "Epoch 33: 100%|██████████| 58/58 [01:34<00:00,  1.63s/batch, clu_loss=0.53, rec_loss=1.64, tot_loss=2.17]  \n"
     ]
    },
    {
     "name": "stdout",
     "output_type": "stream",
     "text": [
      "Training epoch 34\n"
     ]
    },
    {
     "name": "stderr",
     "output_type": "stream",
     "text": [
      "Epoch 34: 100%|██████████| 58/58 [01:35<00:00,  1.64s/batch, clu_loss=0.528, rec_loss=1.66, tot_loss=2.18] \n"
     ]
    },
    {
     "name": "stdout",
     "output_type": "stream",
     "text": [
      "Training epoch 35\n"
     ]
    },
    {
     "name": "stderr",
     "output_type": "stream",
     "text": [
      "Epoch 35: 100%|██████████| 58/58 [01:34<00:00,  1.64s/batch, clu_loss=0.528, rec_loss=1.68, tot_loss=2.21] \n"
     ]
    },
    {
     "name": "stdout",
     "output_type": "stream",
     "text": [
      "Training epoch 36\n"
     ]
    },
    {
     "name": "stderr",
     "output_type": "stream",
     "text": [
      "Epoch 36: 100%|██████████| 58/58 [01:34<00:00,  1.63s/batch, clu_loss=0.526, rec_loss=1.67, tot_loss=2.2]  \n"
     ]
    },
    {
     "name": "stdout",
     "output_type": "stream",
     "text": [
      "Training epoch 37\n"
     ]
    },
    {
     "name": "stderr",
     "output_type": "stream",
     "text": [
      "Epoch 37: 100%|██████████| 58/58 [01:35<00:00,  1.64s/batch, clu_loss=0.524, rec_loss=1.72, tot_loss=2.25] \n"
     ]
    },
    {
     "name": "stdout",
     "output_type": "stream",
     "text": [
      "Training epoch 38\n"
     ]
    },
    {
     "name": "stderr",
     "output_type": "stream",
     "text": [
      "Epoch 38: 100%|██████████| 58/58 [01:34<00:00,  1.63s/batch, clu_loss=0.523, rec_loss=1.76, tot_loss=2.29] \n"
     ]
    },
    {
     "name": "stdout",
     "output_type": "stream",
     "text": [
      "Training epoch 39\n"
     ]
    },
    {
     "name": "stderr",
     "output_type": "stream",
     "text": [
      "Epoch 39: 100%|██████████| 58/58 [01:34<00:00,  1.64s/batch, clu_loss=0.52, rec_loss=1.74, tot_loss=2.26]  \n"
     ]
    },
    {
     "name": "stdout",
     "output_type": "stream",
     "text": [
      "Training epoch 40\n"
     ]
    },
    {
     "name": "stderr",
     "output_type": "stream",
     "text": [
      "Epoch 40: 100%|██████████| 58/58 [01:47<00:00,  1.85s/batch, clu_loss=0.518, rec_loss=1.76, tot_loss=2.27] \n"
     ]
    },
    {
     "name": "stdout",
     "output_type": "stream",
     "text": [
      "Training epoch 41\n"
     ]
    },
    {
     "name": "stderr",
     "output_type": "stream",
     "text": [
      "Epoch 41: 100%|██████████| 58/58 [01:35<00:00,  1.64s/batch, clu_loss=0.518, rec_loss=1.78, tot_loss=2.3]  \n"
     ]
    },
    {
     "name": "stdout",
     "output_type": "stream",
     "text": [
      "Training epoch 42\n"
     ]
    },
    {
     "name": "stderr",
     "output_type": "stream",
     "text": [
      "Epoch 42: 100%|██████████| 58/58 [01:34<00:00,  1.62s/batch, clu_loss=0.518, rec_loss=1.78, tot_loss=2.3]  \n"
     ]
    },
    {
     "name": "stdout",
     "output_type": "stream",
     "text": [
      "Training epoch 43\n"
     ]
    },
    {
     "name": "stderr",
     "output_type": "stream",
     "text": [
      "Epoch 43: 100%|██████████| 58/58 [01:33<00:00,  1.60s/batch, clu_loss=0.518, rec_loss=1.79, tot_loss=2.3]  \n"
     ]
    },
    {
     "name": "stdout",
     "output_type": "stream",
     "text": [
      "Training epoch 44\n"
     ]
    },
    {
     "name": "stderr",
     "output_type": "stream",
     "text": [
      "Epoch 44: 100%|██████████| 58/58 [01:26<00:00,  1.49s/batch, clu_loss=0.516, rec_loss=1.82, tot_loss=2.33] \n"
     ]
    },
    {
     "name": "stdout",
     "output_type": "stream",
     "text": [
      "Training epoch 45\n"
     ]
    },
    {
     "name": "stderr",
     "output_type": "stream",
     "text": [
      "Epoch 45: 100%|██████████| 58/58 [01:17<00:00,  1.33s/batch, clu_loss=0.516, rec_loss=1.83, tot_loss=2.35] \n"
     ]
    },
    {
     "name": "stdout",
     "output_type": "stream",
     "text": [
      "Training epoch 46\n"
     ]
    },
    {
     "name": "stderr",
     "output_type": "stream",
     "text": [
      "Epoch 46: 100%|██████████| 58/58 [01:28<00:00,  1.52s/batch, clu_loss=0.516, rec_loss=1.83, tot_loss=2.35] \n"
     ]
    },
    {
     "name": "stdout",
     "output_type": "stream",
     "text": [
      "Training epoch 47\n"
     ]
    },
    {
     "name": "stderr",
     "output_type": "stream",
     "text": [
      "Epoch 47: 100%|██████████| 58/58 [01:17<00:00,  1.33s/batch, clu_loss=0.517, rec_loss=1.87, tot_loss=2.39] \n"
     ]
    },
    {
     "name": "stdout",
     "output_type": "stream",
     "text": [
      "Training epoch 48\n"
     ]
    },
    {
     "name": "stderr",
     "output_type": "stream",
     "text": [
      "Epoch 48: 100%|██████████| 58/58 [01:17<00:00,  1.33s/batch, clu_loss=0.515, rec_loss=1.87, tot_loss=2.39] \n"
     ]
    },
    {
     "name": "stdout",
     "output_type": "stream",
     "text": [
      "Training epoch 49\n"
     ]
    },
    {
     "name": "stderr",
     "output_type": "stream",
     "text": [
      "Epoch 49: 100%|██████████| 58/58 [01:17<00:00,  1.33s/batch, clu_loss=0.515, rec_loss=1.87, tot_loss=2.39] \n"
     ]
    }
   ],
   "source": [
    "from cellshape_cluster import DeepEmbeddedClustering\n",
    "\n",
    "dataset_dir = \"data/pointcloud/\"\n",
    "autoencoder_model = \"model_100epoch/model_output/save/model.pth\"\n",
    "\n",
    "num_features = 128\n",
    "k = 40\n",
    "encoder_type = \"dgcnn\"\n",
    "num_clusters = 4\n",
    "num_epochs = 50\n",
    "learning_rate = 0.00001\n",
    "gamma = 1\n",
    "divergence_tolerance = 0.001\n",
    "batch_size = 16\n",
    "output_dir = \"cluster/output/\"\n",
    "update_interval = 1\n",
    "\n",
    "autoencoder = CloudAutoEncoder(\n",
    "    num_features=128, \n",
    "    k=k, \n",
    "    encoder_type=\"dgcnn\"\n",
    ")\n",
    "\n",
    "checkpoint = torch.load(autoencoder_model)\n",
    "\n",
    "autoencoder.load_state_dict(checkpoint['model_state_dict'])\n",
    "\n",
    "model = DeepEmbeddedClustering(autoencoder=autoencoder, \n",
    "                               num_clusters=10,\n",
    "                               )\n",
    "\n",
    "\n",
    "dataset = cloud.PointCloudDataset(dataset_dir)\n",
    "\n",
    "dataloader = DataLoader(dataset, batch_size=batch_size, shuffle=False) # it is very important that shuffle=False here!\n",
    "dataloader_inf = DataLoader(dataset, batch_size=1, shuffle=False) \n",
    "\n",
    "\n",
    "optimizer = torch.optim.Adam(\n",
    "    model.parameters(),\n",
    "    lr=learning_rate * 16 / batch_size,\n",
    "    betas=(0.9, 0.999),\n",
    "    weight_decay=1e-6,\n",
    ")\n",
    "\n",
    "reconstruction_criterion = ChamferLoss()\n",
    "cluster_criterion = torch.nn.KLDivLoss(reduction=\"sum\")\n",
    "\n",
    "\n",
    "name_logging = output_dir + \"logging/directory\"\n",
    "name_model = output_dir + \"save/model.pth\"\n",
    "name_writer = output_dir + \"tensorboard/logs\"\n",
    "name = \"my_experiment\"\n",
    "# Make sure directories exist\n",
    "os.makedirs(name_logging, exist_ok=True)\n",
    "os.makedirs(os.path.dirname(name_model), exist_ok=True)  # Since name_model includes the filename\n",
    "os.makedirs(name_writer, exist_ok=True)\n",
    "\n",
    "logging_info = (name_logging, name_model, name_writer, name)\n",
    "\n",
    "cluster.train(\n",
    "    model,\n",
    "    dataloader,\n",
    "    dataloader_inf,\n",
    "    num_epochs,\n",
    "    optimizer,\n",
    "    reconstruction_criterion,\n",
    "    cluster_criterion,\n",
    "    update_interval,\n",
    "    gamma,\n",
    "    divergence_tolerance,\n",
    "    logging_info\n",
    ")"
   ]
  },
  {
   "cell_type": "code",
   "execution_count": null,
   "metadata": {},
   "outputs": [],
   "source": []
  }
 ],
 "metadata": {
  "kernelspec": {
   "display_name": "Python 3",
   "language": "python",
   "name": "python3"
  },
  "language_info": {
   "codemirror_mode": {
    "name": "ipython",
    "version": 3
   },
   "file_extension": ".py",
   "mimetype": "text/x-python",
   "name": "python",
   "nbconvert_exporter": "python",
   "pygments_lexer": "ipython3",
   "version": "3.8.18"
  }
 },
 "nbformat": 4,
 "nbformat_minor": 2
}
