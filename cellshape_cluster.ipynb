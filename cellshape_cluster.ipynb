{
 "cells": [
  {
   "cell_type": "code",
   "execution_count": 17,
   "metadata": {},
   "outputs": [],
   "source": [
    "import torch\n",
    "from torch.utils.data import DataLoader\n",
    "from cellshape_cloud import CloudAutoEncoder\n",
    "import cellshape_cloud as cloud\n",
    "import cellshape_cluster as cluster\n",
    "from cellshape_cloud.vendor.chamfer_distance import ChamferLoss\n",
    "import os\n",
    "#try chamfer loss\n"
   ]
  },
  {
   "cell_type": "code",
   "execution_count": null,
   "metadata": {},
   "outputs": [],
   "source": [
    "\n",
    "from torch.utils.data import DataLoader\n",
    "import cellshape_cloud as cloud\n",
    "\n",
    "\n",
    "model = cloud.CloudAutoEncoder(num_features=128, \n",
    "                         k=40,\n",
    "                         encoder_type=\"dgcnn\",\n",
    "                         decoder_type=\"foldingnet\")\n",
    "checkpoint = torch.load('testmodel_100epoch\\model_output\\save\\model.pth')\n",
    "model.load_state_dict(checkpoint['model_state_dict'])"
   ]
  },
  {
   "cell_type": "code",
   "execution_count": 6,
   "metadata": {},
   "outputs": [
    {
     "name": "stdout",
     "output_type": "stream",
     "text": [
      "CUDA available: True\n",
      "GPU Name: NVIDIA GeForce RTX 3090\n"
     ]
    }
   ],
   "source": [
    "import torch\n",
    "\n",
    "# Check if CUDA is available\n",
    "cuda_available = torch.cuda.is_available()\n",
    "\n",
    "# Get the name of the GPU\n",
    "gpu_name = torch.cuda.get_device_name(0) if cuda_available else \"No GPU available\"\n",
    "\n",
    "print(\"CUDA available:\", cuda_available)\n",
    "print(\"GPU Name:\", gpu_name)"
   ]
  },
  {
   "cell_type": "code",
   "execution_count": 18,
   "metadata": {},
   "outputs": [
    {
     "name": "stdout",
     "output_type": "stream",
     "text": [
      "Performing k-means to get initial cluster centres\n",
      "Initialising target distribution\n",
      "Training epoch 0\n"
     ]
    },
    {
     "name": "stderr",
     "output_type": "stream",
     "text": [
      "Epoch 0: 100%|██████████| 58/58 [01:19<00:00,  1.37s/batch, clu_loss=0.847, rec_loss=6.62, tot_loss=7.46]\n"
     ]
    }
   ],
   "source": [
    "from cellshape_cluster import DeepEmbeddedClustering\n",
    "\n",
    "dataset_dir = \"data/pointcloud/\"\n",
    "autoencoder_model = \"model_100epoch/model_output/save/model.pth\"\n",
    "\n",
    "num_features = 128\n",
    "k = 40\n",
    "encoder_type = \"dgcnn\"\n",
    "num_clusters = 10\n",
    "num_epochs = 50\n",
    "learning_rate = 0.00001\n",
    "gamma = 1\n",
    "divergence_tolerance = 0.01\n",
    "batch_size = 16\n",
    "output_dir = \"cluster/output/\"\n",
    "update_interval = 1\n",
    "\n",
    "autoencoder = CloudAutoEncoder(\n",
    "    num_features=128, \n",
    "    k=k, \n",
    "    encoder_type=\"dgcnn\"\n",
    ")\n",
    "\n",
    "checkpoint = torch.load(autoencoder_model)\n",
    "\n",
    "autoencoder.load_state_dict(checkpoint['model_state_dict'])\n",
    "\n",
    "model = DeepEmbeddedClustering(autoencoder=autoencoder, \n",
    "                               num_clusters=10,\n",
    "                               )\n",
    "\n",
    "\n",
    "dataset = cloud.PointCloudDataset(dataset_dir)\n",
    "\n",
    "dataloader = DataLoader(dataset, batch_size=batch_size, shuffle=False) # it is very important that shuffle=False here!\n",
    "dataloader_inf = DataLoader(dataset, batch_size=1, shuffle=False) \n",
    "\n",
    "\n",
    "optimizer = torch.optim.Adam(\n",
    "    model.parameters(),\n",
    "    lr=learning_rate * 16 / batch_size,\n",
    "    betas=(0.9, 0.999),\n",
    "    weight_decay=1e-6,\n",
    ")\n",
    "\n",
    "reconstruction_criterion = ChamferLoss()\n",
    "cluster_criterion = torch.nn.KLDivLoss(reduction=\"sum\")\n",
    "\n",
    "\n",
    "name_logging = output_dir + \"logging/directory\"\n",
    "name_model = output_dir + \"save/model.pth\"\n",
    "name_writer = output_dir + \"tensorboard/logs\"\n",
    "name = \"my_experiment\"\n",
    "# Make sure directories exist\n",
    "os.makedirs(name_logging, exist_ok=True)\n",
    "os.makedirs(os.path.dirname(name_model), exist_ok=True)  # Since name_model includes the filename\n",
    "os.makedirs(name_writer, exist_ok=True)\n",
    "\n",
    "logging_info = (name_logging, name_model, name_writer, name)\n",
    "\n",
    "cluster.train(\n",
    "    model,\n",
    "    dataloader,\n",
    "    dataloader_inf,\n",
    "    num_epochs,\n",
    "    optimizer,\n",
    "    reconstruction_criterion,\n",
    "    cluster_criterion,\n",
    "    update_interval,\n",
    "    gamma,\n",
    "    divergence_tolerance,\n",
    "    logging_info\n",
    ")"
   ]
  }
 ],
 "metadata": {
  "kernelspec": {
   "display_name": "Python 3",
   "language": "python",
   "name": "python3"
  },
  "language_info": {
   "codemirror_mode": {
    "name": "ipython",
    "version": 3
   },
   "file_extension": ".py",
   "mimetype": "text/x-python",
   "name": "python",
   "nbconvert_exporter": "python",
   "pygments_lexer": "ipython3",
   "version": "3.8.18"
  }
 },
 "nbformat": 4,
 "nbformat_minor": 2
}
