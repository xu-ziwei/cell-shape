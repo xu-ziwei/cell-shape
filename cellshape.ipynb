{
 "cells": [
  {
   "cell_type": "markdown",
   "metadata": {},
   "source": [
    "### read segmentation data "
   ]
  },
  {
   "cell_type": "code",
   "execution_count": 1,
   "metadata": {},
   "outputs": [],
   "source": [
    "import cellshape_helper as helper\n",
    "from tifffile import imread\n",
    "import napari\n",
    "from skimage.measure import marching_cubes, regionprops\n",
    "import trimesh\n",
    "import numpy as np\n",
    "import os"
   ]
  },
  {
   "cell_type": "code",
   "execution_count": null,
   "metadata": {},
   "outputs": [],
   "source": [
    "membrane_dir = 'mari_second_data_5_frame/seg_timelapse_second_dataset.tif'\n",
    "#nuclei_dir = 'data/test_nuclei.tif'\n",
    "membrane_raw_dir = 'mari_second_data_5_frame/membrane_timelapse_second_dataset.tif'\n",
    "#nuclei_raw_dir = 'data/nuclei_raw.tif'\n",
    "\n",
    "membrane_seg = imread(membrane_dir)\n",
    "#nuclei_seg = imread(nuclei_dir)\n",
    "#membrane_raw = imread(membrane_raw_dir)\n",
    "#nuclei_raw = imread(nuclei_raw_dir)"
   ]
  },
  {
   "cell_type": "code",
   "execution_count": 4,
   "metadata": {},
   "outputs": [
    {
     "name": "stdout",
     "output_type": "stream",
     "text": [
      "(53, 17, 2439, 2439)\n"
     ]
    }
   ],
   "source": [
    "print(membrane_seg.shape)"
   ]
  },
  {
   "cell_type": "code",
   "execution_count": 3,
   "metadata": {},
   "outputs": [
    {
     "name": "stdout",
     "output_type": "stream",
     "text": [
      "CUDA available: True\n",
      "GPU Name: Quadro RTX 8000\n"
     ]
    }
   ],
   "source": [
    "import torch\n",
    "\n",
    "# Check if CUDA is available\n",
    "cuda_available = torch.cuda.is_available()\n",
    "\n",
    "# Get the name of the GPU\n",
    "gpu_name = torch.cuda.get_device_name(0) if cuda_available else \"No GPU available\"\n",
    "\n",
    "print(\"CUDA available:\", cuda_available)\n",
    "print(\"GPU Name:\", gpu_name)"
   ]
  },
  {
   "cell_type": "markdown",
   "metadata": {
    "jp-MarkdownHeadingCollapsed": true,
    "tags": []
   },
   "source": [
    "### `tif_to_mesh` rewrite the function without saving"
   ]
  },
  {
   "cell_type": "code",
   "execution_count": 5,
   "metadata": {},
   "outputs": [],
   "source": [
    "# marching_cubes require 3D input\n",
    "vertices, faces, normals, values = marching_cubes(x)\n",
    "mesh_obj = trimesh.Trimesh(\n",
    "            vertices=vertices, faces=faces, process=False\n",
    "        )\n",
    "mesh_obj.export('data/test_nuclei_x.off')"
   ]
  },
  {
   "cell_type": "code",
   "execution_count": 10,
   "metadata": {},
   "outputs": [],
   "source": [
    "from cellshape_helper.vendor.pytorch_geometric_files import read_off, sample_points\n",
    "# dict pos, face\n",
    "data = read_off('data/test_nuclei_x.off')\n",
    "# change to .numpy() \n",
    "num_points = 1024\n",
    "points = sample_points(data=data, num=num_points).numpy()\n",
    "\n",
    "viewer = napari.Viewer()\n",
    "viewer.add_image(nuclei_raw[0,6:14,1024:1040,895:910])\n",
    "viewer.add_labels(x)\n",
    "\n",
    "# Add the 3D mesh to the viewer\n",
    "viewer.add_surface((vertices, faces, values), name=\"Marching Cubes Mesh\")\n",
    "\n",
    "# Add the sampled points to the viewer\n",
    "viewer.add_points(points, size=1, name=\"Sampled Points\")"
   ]
  },
  {
   "cell_type": "markdown",
   "metadata": {},
   "source": [
    "### Creat single cell box"
   ]
  },
  {
   "cell_type": "code",
   "execution_count": 12,
   "metadata": {},
   "outputs": [
    {
     "name": "stdout",
     "output_type": "stream",
     "text": [
      "The maximum size across all frames is: [ 13 127 128]\n",
      "Maximum dimensions with margin: [ 18 147 148]\n"
     ]
    }
   ],
   "source": [
    "from skimage import measure\n",
    "from tifffile import imwrite\n",
    "from skimage import measure\n",
    "import os\n",
    "from tqdm import tqdm\n",
    "\n",
    "def get_max_dims(seg_img):\n",
    "    max_dims = np.array([0, 0, 0])\n",
    "    for region in measure.regionprops(seg_img):\n",
    "        minz, miny, minx, maxz, maxy, maxx = region.bbox\n",
    "        dims = np.array([maxz-minz, maxy-miny, maxx-minx])\n",
    "        max_dims = np.maximum(max_dims, dims)\n",
    "    return max_dims\n",
    "\n",
    "def get_max_dims_for_stack(image_stack):\n",
    "    overall_max_dims = np.array([0, 0, 0])\n",
    "    for frame in image_stack:\n",
    "        max_dims = get_max_dims(frame)\n",
    "        overall_max_dims = np.maximum(overall_max_dims, max_dims)\n",
    "    return overall_max_dims\n",
    "\n",
    "# Assuming membrane_seg is your image stack\n",
    "overall_max_dims = get_max_dims_for_stack(membrane_seg)\n",
    "\n",
    "# Print the maximum dimensions across all frames\n",
    "print('The maximum size across all frames is:', overall_max_dims)\n",
    "\n",
    "# Add a margin to the maximum dimensions\n",
    "margin = np.array([5, 20, 20])  # Adjust the values as needed\n",
    "max_dims_with_margin = overall_max_dims + margin\n",
    "print('Maximum dimensions with margin:', max_dims_with_margin)\n"
   ]
  },
  {
   "cell_type": "code",
   "execution_count": 19,
   "metadata": {},
   "outputs": [
    {
     "name": "stderr",
     "output_type": "stream",
     "text": [
      "Processing Cells in Frame 0: 100%|██████████| 650/650 [00:03<00:00, 196.13it/s]\n",
      "Processing Cells in Frame 1: 100%|██████████| 706/706 [00:03<00:00, 199.23it/s]\n",
      "Processing Cells in Frame 2: 100%|██████████| 743/743 [00:04<00:00, 180.36it/s]\n",
      "Processing Cells in Frame 3: 100%|██████████| 812/812 [00:03<00:00, 203.21it/s]\n",
      "Processing Cells in Frame 4: 100%|██████████| 889/889 [00:04<00:00, 194.36it/s]\n",
      "Processing Cells in Frame 5: 100%|██████████| 931/931 [00:04<00:00, 194.64it/s]\n",
      "Processing Cells in Frame 6: 100%|██████████| 964/964 [00:05<00:00, 187.48it/s]\n",
      "Processing Cells in Frame 7: 100%|██████████| 980/980 [00:05<00:00, 182.66it/s]\n",
      "Processing Cells in Frame 8: 100%|██████████| 1050/1050 [00:05<00:00, 186.73it/s]\n",
      "Processing Cells in Frame 9: 100%|██████████| 1078/1078 [00:05<00:00, 188.27it/s]\n",
      "Processing Cells in Frame 10: 100%|██████████| 1127/1127 [00:05<00:00, 188.99it/s]\n",
      "Processing Cells in Frame 11: 100%|██████████| 1170/1170 [00:06<00:00, 192.40it/s]\n",
      "Processing Cells in Frame 12: 100%|██████████| 1196/1196 [00:06<00:00, 184.27it/s]\n",
      "Processing Cells in Frame 13: 100%|██████████| 1195/1195 [00:06<00:00, 189.87it/s]\n",
      "Processing Cells in Frame 14: 100%|██████████| 1250/1250 [00:06<00:00, 189.17it/s]\n",
      "Processing Cells in Frame 15: 100%|██████████| 1287/1287 [00:07<00:00, 177.66it/s]\n",
      "Processing Cells in Frame 16: 100%|██████████| 1433/1433 [00:07<00:00, 187.47it/s]\n",
      "Processing Cells in Frame 17: 100%|██████████| 1445/1445 [00:08<00:00, 180.07it/s]\n",
      "Processing Cells in Frame 18: 100%|██████████| 1512/1512 [00:08<00:00, 179.70it/s]\n",
      "Processing Cells in Frame 19: 100%|██████████| 1614/1614 [00:08<00:00, 186.63it/s]\n",
      "Processing Cells in Frame 20: 100%|██████████| 1566/1566 [00:08<00:00, 185.58it/s]\n",
      "Processing Cells in Frame 21: 100%|██████████| 1763/1763 [00:09<00:00, 178.34it/s]\n",
      "Processing Cells in Frame 22: 100%|██████████| 1821/1821 [00:10<00:00, 179.99it/s]\n",
      "Processing Cells in Frame 23: 100%|██████████| 1818/1818 [00:11<00:00, 151.86it/s]\n",
      "Processing Cells in Frame 24: 100%|██████████| 1977/1977 [00:13<00:00, 149.55it/s]\n",
      "Processing Cells in Frame 25: 100%|██████████| 2111/2111 [00:13<00:00, 156.45it/s]\n",
      "Processing Cells in Frame 26: 100%|██████████| 2170/2170 [00:11<00:00, 187.38it/s]\n",
      "Processing Cells in Frame 27: 100%|██████████| 2242/2242 [00:12<00:00, 185.42it/s]\n",
      "Processing Cells in Frame 28: 100%|██████████| 2432/2432 [00:13<00:00, 181.26it/s]\n",
      "Processing Cells in Frame 29: 100%|██████████| 2679/2679 [00:15<00:00, 178.18it/s]\n",
      "Processing Cells in Frame 30: 100%|██████████| 2679/2679 [00:22<00:00, 121.26it/s]\n",
      "Processing Cells in Frame 31: 100%|██████████| 2836/2836 [00:14<00:00, 194.31it/s]\n",
      "Processing Cells in Frame 32: 100%|██████████| 3073/3073 [00:15<00:00, 193.06it/s]\n",
      "Processing Cells in Frame 33: 100%|██████████| 2986/2986 [00:15<00:00, 197.17it/s]\n",
      "Processing Cells in Frame 34: 100%|██████████| 3163/3163 [00:17<00:00, 182.45it/s]\n",
      "Processing Cells in Frame 35: 100%|██████████| 3358/3358 [00:18<00:00, 183.63it/s]\n",
      "Processing Cells in Frame 36: 100%|██████████| 3160/3160 [00:17<00:00, 177.09it/s]\n",
      "Processing Cells in Frame 37: 100%|██████████| 3565/3565 [00:19<00:00, 184.58it/s]\n",
      "Processing Cells in Frame 38: 100%|██████████| 3353/3353 [00:17<00:00, 190.71it/s]\n",
      "Processing Cells in Frame 39: 100%|██████████| 3442/3442 [00:18<00:00, 190.17it/s]\n",
      "Processing Cells in Frame 40: 100%|██████████| 3508/3508 [00:18<00:00, 193.05it/s]\n",
      "Processing Cells in Frame 41: 100%|██████████| 3703/3703 [00:19<00:00, 194.70it/s]\n",
      "Processing Cells in Frame 42: 100%|██████████| 3706/3706 [00:20<00:00, 180.78it/s]\n",
      "Processing Cells in Frame 43: 100%|██████████| 3702/3702 [00:18<00:00, 198.54it/s]\n",
      "Processing Cells in Frame 44: 100%|██████████| 3850/3850 [00:19<00:00, 199.97it/s]\n",
      "Processing Cells in Frame 45: 100%|██████████| 3852/3852 [00:18<00:00, 205.03it/s]\n",
      "Processing Cells in Frame 46: 100%|██████████| 3820/3820 [00:21<00:00, 177.22it/s]\n",
      "Processing Cells in Frame 47: 100%|██████████| 3992/3992 [00:21<00:00, 189.37it/s]\n",
      "Processing Cells in Frame 48: 100%|██████████| 3925/3925 [00:20<00:00, 188.40it/s]\n",
      "Processing Cells in Frame 49: 100%|██████████| 3877/3877 [00:22<00:00, 171.23it/s]\n",
      "Processing Cells in Frame 50: 100%|██████████| 3976/3976 [00:20<00:00, 192.21it/s]\n",
      "Processing Cells in Frame 51: 100%|██████████| 4135/4135 [00:24<00:00, 172.02it/s]\n",
      "Processing Cells in Frame 52: 100%|██████████| 3954/3954 [00:23<00:00, 167.37it/s]\n"
     ]
    }
   ],
   "source": [
    "def save_individual_label(seg_img, save_singlecell_dir, max_dims_with_margin,t):\n",
    "    regions = measure.regionprops(seg_img)\n",
    "    num_cells = len(regions)\n",
    "    all_cells = np.zeros((num_cells, *max_dims_with_margin), dtype=seg_img.dtype)\n",
    "\n",
    "def save_individual_label(seg, save_singlecell_dir, max_dims_with_margin):\n",

    "    if not os.path.exists(save_singlecell_dir):\n",
    "        os.makedirs(save_singlecell_dir)\n",
    "\n",
    "    for t, seg_img in enumerate(seg):\n",
    "        regions = measure.regionprops(seg_img)\n",
    "\n",
    "        for i, region in tqdm(enumerate(regions), total=len(regions), desc=f\"Processing Cells in Frame {t}\"):\n",
    "            minz, miny, minx, maxz, maxy, maxx = region.bbox\n",
    "            cropped_image = seg_img[minz:maxz, miny:maxy, minx:maxx]\n",
    "            label_mask = (cropped_image == region.label)\n",
    "\n",
    "        padded_image = np.pad(label_mask, padding, mode='constant', constant_values=0)\n",
    "        # Save the padded image with the label as the filename\n",
    "        imwrite(f\"{save_singlecell_dir}/{str(t)+region.label}.tif\", padded_image)\n",
    "        all_cells[i] = padded_image\n",

    "            padding = [\n",
    "                ((max_dims_with_margin[0] - label_mask.shape[0]) // 2,\n",
    "                 max_dims_with_margin[0] - label_mask.shape[0] - ((max_dims_with_margin[0] - label_mask.shape[0]) // 2)),\n",
    "                ((max_dims_with_margin[1] - label_mask.shape[1]) // 2,\n",
    "                 max_dims_with_margin[1] - label_mask.shape[1] - ((max_dims_with_margin[1] - label_mask.shape[1]) // 2)),\n",
    "                ((max_dims_with_margin[2] - label_mask.shape[2]) // 2,\n",
    "                 max_dims_with_margin[2] - label_mask.shape[2] - ((max_dims_with_margin[2] - label_mask.shape[2]) // 2))\n",
    "            ]\n",
    "\n",
    "            padded_image = np.pad(label_mask, padding, mode='constant', constant_values=0)\n",
    "            imwrite(f\"{save_singlecell_dir}/{t}_{region.label}.tif\", padded_image)\n",
    "\n",
    "\n",
    "\n",
    "save_singlecell_dir = 'data/singlecell'\n",
    "save_individual_label(membrane_seg, save_singlecell_dir, max_dims_with_margin)"
   ]
  },
  {
   "cell_type": "markdown",
   "metadata": {},
   "source": [
    "### cellshape"
   ]
  },
  {
   "cell_type": "markdown",
   "metadata": {},
   "source": [
    "#### read from crop pointcloud "
   ]
  },
  {
   "cell_type": "code",
   "execution_count": 21,
   "metadata": {},
   "outputs": [
    {
     "name": "stderr",
     "output_type": "stream",
     "text": [
      "100%|██████████| 124226/124226 [1:07:19<00:00, 30.75it/s]\n",
      "100%|██████████| 124226/124226 [1:54:36<00:00, 18.06it/s]  \n"
     ]
    }
   ],
   "source": [
    "PATH_TO_TIF_FILES = \"data/singlecell\"\n",
    "PATH_TO_SAVE_MESH = \"data/mesh/\"\n",
    "PATH_TO_SAVE_PC = \"data/pointcloud/\"\n",
    "NUM_POINTS = 1024\n",
    "\n",
    "helper.tif_to_pc_directory(PATH_TO_TIF_FILES, \n",
    "                           PATH_TO_SAVE_MESH, \n",
    "                           PATH_TO_SAVE_PC, \n",
    "                           NUM_POINTS)"
   ]
  },
  {
   "cell_type": "code",
   "execution_count": 2,
   "metadata": {},
   "outputs": [],
   "source": [
    "import torch\n",
    "from cellshape_cloud import CloudAutoEncoder\n",
    "\n",
    "model = CloudAutoEncoder(num_features=128, \n",
    "                         k=20,\n",
    "                         encoder_type=\"dgcnn\",\n",
    "                         decoder_type=\"foldingnet\")\n",
    "\n",
    "\n",
    "\n",
    "# model is not trained so far\n",
    "points = torch.randn(1, 1024, 3)\n",
    "recon, features = model(points)"
   ]
  },
  {
   "cell_type": "markdown",
   "metadata": {},
   "source": [
    "#### To train an autoencoder on a set of point clouds created using cellshape-helper:"
   ]
  },
  {
   "cell_type": "code",
   "execution_count": 2,
   "metadata": {},
   "outputs": [],
   "source": [
    "import torch\n",
    "from torch.utils.data import DataLoader\n",
    "\n",
    "import cellshape_cloud as cloud\n",
    "from cellshape_cloud.vendor.chamfer_distance import ChamferLoss\n",
    "\n",
    "input_dir = \"data/pointcloud/\"\n",
    "batch_size = 64\n",
    "learning_rate = 0.0001\n",
    "num_epochs = 80\n",
    "output_dir = \"model_80epoch_5_frame/model_output/\"\n",
    "\n",
    "model = cloud.CloudAutoEncoder(num_features=128, \n",
    "                         k=20,\n",
    "                         encoder_type=\"dgcnn\",\n",
    "                         decoder_type=\"foldingnet\")\n",
    "\n",
    "\n",
    "dataset = cloud.PointCloudDataset(input_dir)\n",
    "\n",
    "dataloader = DataLoader(dataset, batch_size=batch_size, shuffle=True)"
   ]
  },
  {
   "cell_type": "code",
   "execution_count": 7,
   "metadata": {},
   "outputs": [],
   "source": [
    "\"\"\"\n",
    "according to cellshape_cloud/pointcloud_dataset.py class PointCloudDataset(Dataset)\n",
    "each data point in your dataset is a tuple of four elements: (point_cloud, 0, 0, 0)\n",
    "\n",
    "data_iter = iter(dataloader)\n",
    "first_batch = next(data_iter)\n",
    "first_batch_point_clouds = first_batch[0]\n",
    "\n",
    "first_batch_point_clouds shape is (16,2048,3)\n",
    "first_batch[1], first_batch[2], first_batch[4] is (16,) the value is 0\n",
    "\n",
    "\n",
    "from cellshape_cloud.vendor import get_graph_feature\n",
    "data_iter = iter(dataloader)\n",
    "point_clouds = next(data_iter)\n",
    "x = point_clouds[0]\n",
    "x = x.transpose(2, 1)\n",
    "batch_size = x.size(0)\n",
    "graph_feature = get_graph_feature(x, k=40)\n",
    "knn_graph = graph_feature.numpy()\n",
    "knn_graph has shape (16,6,2048,20)\n",
    "\"\"\""
   ]
  },
  {
   "cell_type": "code",
   "execution_count": 3,
   "metadata": {},
   "outputs": [
    {
     "name": "stdout",
     "output_type": "stream",
     "text": [
      "Model is on CPU.\n"
     ]
    }
   ],
   "source": [
    "# check cuda\n",
    "# Assuming 'model' is your PyTorch model\n",
    "if next(model.parameters()).is_cuda:\n",
    "    print(\"Model is on GPU.\")\n",
    "else:\n",
    "    print(\"Model is on CPU.\")\n"
   ]
  },
  {
   "cell_type": "code",
   "execution_count": null,
   "metadata": {},
   "outputs": [
    {
     "name": "stderr",
     "output_type": "stream",
     "text": [
      "Epoch 0: 100%|██████████| 1942/1942 [16:56<00:00,  1.91batch/s, loss=61.9]\n"
     ]
    },
    {
     "name": "stdout",
     "output_type": "stream",
     "text": [
      "Saving model to model_80epoch_5_frame/model_output/save/model.pth with loss = 159.59683896682535.\n",
      "Finished epoch 0 with loss=159.59683896682535.\n"
     ]
    },
    {
     "name": "stderr",
     "output_type": "stream",
     "text": [
      "Epoch 1: 100%|██████████| 1942/1942 [15:50<00:00,  2.04batch/s, loss=41.8]\n"
     ]
    },
    {
     "name": "stdout",
     "output_type": "stream",
     "text": [
      "Saving model to model_80epoch_5_frame/model_output/save/model.pth with loss = 18.195672444776697.\n",
      "Finished epoch 1 with loss=18.195672444776697.\n"
     ]
    },
    {
     "name": "stderr",
     "output_type": "stream",
     "text": [
      "Epoch 2: 100%|██████████| 1942/1942 [15:49<00:00,  2.04batch/s, loss=24]  \n"
     ]
    },
    {
     "name": "stdout",
     "output_type": "stream",
     "text": [
      "Saving model to model_80epoch_5_frame/model_output/save/model.pth with loss = 14.069743914658206.\n",
      "Finished epoch 2 with loss=14.069743914658206.\n"
     ]
    },
    {
     "name": "stderr",
     "output_type": "stream",
     "text": [
      "Epoch 3: 100%|██████████| 1942/1942 [15:53<00:00,  2.04batch/s, loss=15.2]\n"
     ]
    },
    {
     "name": "stdout",
     "output_type": "stream",
     "text": [
      "Saving model to model_80epoch_5_frame/model_output/save/model.pth with loss = 12.67683317044982.\n",
      "Finished epoch 3 with loss=12.67683317044982.\n"
     ]
    },
    {
     "name": "stderr",
     "output_type": "stream",
     "text": [
      "Epoch 4: 100%|██████████| 1942/1942 [16:15<00:00,  1.99batch/s, loss=13.8]\n"
     ]
    },
    {
     "name": "stdout",
     "output_type": "stream",
     "text": [
      "Saving model to model_80epoch_5_frame/model_output/save/model.pth with loss = 11.747113328024238.\n",
      "Finished epoch 4 with loss=11.747113328024238.\n"
     ]
    },
    {
     "name": "stderr",
     "output_type": "stream",
     "text": [
      "Epoch 5: 100%|██████████| 1942/1942 [15:49<00:00,  2.04batch/s, loss=22]  \n"
     ]
    },
    {
     "name": "stdout",
     "output_type": "stream",
     "text": [
      "Saving model to model_80epoch_5_frame/model_output/save/model.pth with loss = 11.235530755546876.\n",
      "Finished epoch 5 with loss=11.235530755546876.\n"
     ]
    },
    {
     "name": "stderr",
     "output_type": "stream",
     "text": [
      "Epoch 6: 100%|██████████| 1942/1942 [15:49<00:00,  2.05batch/s, loss=13.2]\n"
     ]
    },
    {
     "name": "stdout",
     "output_type": "stream",
     "text": [
      "Saving model to model_80epoch_5_frame/model_output/save/model.pth with loss = 10.80360957891148.\n",
      "Finished epoch 6 with loss=10.80360957891148.\n"
     ]
    },
    {
     "name": "stderr",
     "output_type": "stream",
     "text": [
      "Epoch 7: 100%|██████████| 1942/1942 [16:06<00:00,  2.01batch/s, loss=18.7]\n"
     ]
    },
    {
     "name": "stdout",
     "output_type": "stream",
     "text": [
      "Saving model to model_80epoch_5_frame/model_output/save/model.pth with loss = 10.429669715594558.\n",
      "Finished epoch 7 with loss=10.429669715594558.\n"
     ]
    },
    {
     "name": "stderr",
     "output_type": "stream",
     "text": [
      "Epoch 8: 100%|██████████| 1942/1942 [16:28<00:00,  1.97batch/s, loss=17.6]\n"
     ]
    },
    {
     "name": "stdout",
     "output_type": "stream",
     "text": [
      "Saving model to model_80epoch_5_frame/model_output/save/model.pth with loss = 10.172294565135983.\n",
      "Finished epoch 8 with loss=10.172294565135983.\n"
     ]
    },
    {
     "name": "stderr",
     "output_type": "stream",
     "text": [
      "Epoch 9: 100%|██████████| 1942/1942 [16:05<00:00,  2.01batch/s, loss=15.4]\n"
     ]
    },
    {
     "name": "stdout",
     "output_type": "stream",
     "text": [
      "Saving model to model_80epoch_5_frame/model_output/save/model.pth with loss = 9.986104576766921.\n",
      "Finished epoch 9 with loss=9.986104576766921.\n"
     ]
    },
    {
     "name": "stderr",
     "output_type": "stream",
     "text": [
      "Epoch 10: 100%|██████████| 1942/1942 [15:48<00:00,  2.05batch/s, loss=22]  \n"
     ]
    },
    {
     "name": "stdout",
     "output_type": "stream",
     "text": [
      "Saving model to model_80epoch_5_frame/model_output/save/model.pth with loss = 9.85555162783386.\n",
      "Finished epoch 10 with loss=9.85555162783386.\n"
     ]
    },
    {
     "name": "stderr",
     "output_type": "stream",
     "text": [
      "Epoch 11: 100%|██████████| 1942/1942 [15:56<00:00,  2.03batch/s, loss=11.2]\n"
     ]
    },
    {
     "name": "stdout",
     "output_type": "stream",
     "text": [
      "Saving model to model_80epoch_5_frame/model_output/save/model.pth with loss = 9.64055176007146.\n",
      "Finished epoch 11 with loss=9.64055176007146.\n"
     ]
    },
    {
     "name": "stderr",
     "output_type": "stream",
     "text": [
      "Epoch 12: 100%|██████████| 1942/1942 [16:21<00:00,  1.98batch/s, loss=97]  \n"
     ]
    },
    {
     "name": "stdout",
     "output_type": "stream",
     "text": [
      "Saving model to model_80epoch_5_frame/model_output/save/model.pth with loss = 9.592963405544308.\n",
      "Finished epoch 12 with loss=9.592963405544308.\n"
     ]
    },
    {
     "name": "stderr",
     "output_type": "stream",
     "text": [
      "Epoch 13: 100%|██████████| 1942/1942 [16:16<00:00,  1.99batch/s, loss=26.2]\n"
     ]
    },
    {
     "name": "stdout",
     "output_type": "stream",
     "text": [
      "Saving model to model_80epoch_5_frame/model_output/save/model.pth with loss = 9.349007788696445.\n",
      "Finished epoch 13 with loss=9.349007788696445.\n"
     ]
    },
    {
     "name": "stderr",
     "output_type": "stream",
     "text": [
      "Epoch 14: 100%|██████████| 1942/1942 [15:55<00:00,  2.03batch/s, loss=12.8]\n"
     ]
    },
    {
     "name": "stdout",
     "output_type": "stream",
     "text": [
      "Saving model to model_80epoch_5_frame/model_output/save/model.pth with loss = 9.287887825656503.\n",
      "Finished epoch 14 with loss=9.287887825656503.\n"
     ]
    },
    {
     "name": "stderr",
     "output_type": "stream",
     "text": [
      "Epoch 15: 100%|██████████| 1942/1942 [16:03<00:00,  2.02batch/s, loss=16.7]\n"
     ]
    },
    {
     "name": "stdout",
     "output_type": "stream",
     "text": [
      "Saving model to model_80epoch_5_frame/model_output/save/model.pth with loss = 9.186198591081048.\n",
      "Finished epoch 15 with loss=9.186198591081048.\n"
     ]
    },
    {
     "name": "stderr",
     "output_type": "stream",
     "text": [
      "Epoch 16: 100%|██████████| 1942/1942 [17:10<00:00,  1.88batch/s, loss=8.01]\n"
     ]
    },
    {
     "name": "stdout",
     "output_type": "stream",
     "text": [
      "Saving model to model_80epoch_5_frame/model_output/save/model.pth with loss = 9.06796419289036.\n",
      "Finished epoch 16 with loss=9.06796419289036.\n"
     ]
    },
    {
     "name": "stderr",
     "output_type": "stream",
     "text": [
      "Epoch 17: 100%|██████████| 1942/1942 [16:42<00:00,  1.94batch/s, loss=25.6]  \n"
     ]
    },
    {
     "name": "stdout",
     "output_type": "stream",
     "text": [
      "Saving model to model_80epoch_5_frame/model_output/save/model.pth with loss = 9.028015075088407.\n",
      "Finished epoch 17 with loss=9.028015075088407.\n"
     ]
    },
    {
     "name": "stderr",
     "output_type": "stream",
     "text": [
      "Epoch 18: 100%|██████████| 1942/1942 [16:11<00:00,  2.00batch/s, loss=19.8]\n"
     ]
    },
    {
     "name": "stdout",
     "output_type": "stream",
     "text": [
      "Saving model to model_80epoch_5_frame/model_output/save/model.pth with loss = 8.931668328207627.\n",
      "Finished epoch 18 with loss=8.931668328207627.\n"
     ]
    },
    {
     "name": "stderr",
     "output_type": "stream",
     "text": [
      "Epoch 19: 100%|██████████| 1942/1942 [16:04<00:00,  2.01batch/s, loss=9.86]\n"
     ]
    },
    {
     "name": "stdout",
     "output_type": "stream",
     "text": [
      "Saving model to model_80epoch_5_frame/model_output/save/model.pth with loss = 8.804892797057587.\n",
      "Finished epoch 19 with loss=8.804892797057587.\n"
     ]
    },
    {
     "name": "stderr",
     "output_type": "stream",
     "text": [
      "Epoch 20: 100%|██████████| 1942/1942 [15:55<00:00,  2.03batch/s, loss=23.5]\n"
     ]
    },
    {
     "name": "stdout",
     "output_type": "stream",
     "text": [
      "Saving model to model_80epoch_5_frame/model_output/save/model.pth with loss = 8.786563473062094.\n",
      "Finished epoch 20 with loss=8.786563473062094.\n"
     ]
    },
    {
     "name": "stderr",
     "output_type": "stream",
     "text": [
      "Epoch 21: 100%|██████████| 1942/1942 [15:58<00:00,  2.03batch/s, loss=17.3]\n"
     ]
    },
    {
     "name": "stdout",
     "output_type": "stream",
     "text": [
      "Saving model to model_80epoch_5_frame/model_output/save/model.pth with loss = 8.722014490043097.\n",
      "Finished epoch 21 with loss=8.722014490043097.\n"
     ]
    },
    {
     "name": "stderr",
     "output_type": "stream",
     "text": [
      "Epoch 22: 100%|██████████| 1942/1942 [16:54<00:00,  1.91batch/s, loss=10.9] \n"
     ]
    },
    {
     "name": "stdout",
     "output_type": "stream",
     "text": [
      "Saving model to model_80epoch_5_frame/model_output/save/model.pth with loss = 8.62770335337897.\n",
      "Finished epoch 22 with loss=8.62770335337897.\n"
     ]
    },
    {
     "name": "stderr",
     "output_type": "stream",
     "text": [
      "Epoch 23: 100%|██████████| 1942/1942 [16:00<00:00,  2.02batch/s, loss=9.93]\n"
     ]
    },
    {
     "name": "stdout",
     "output_type": "stream",
     "text": [
      "Saving model to model_80epoch_5_frame/model_output/save/model.pth with loss = 8.61349681084237.\n",
      "Finished epoch 23 with loss=8.61349681084237.\n"
     ]
    },
    {
     "name": "stderr",
     "output_type": "stream",
     "text": [
      "Epoch 24: 100%|██████████| 1942/1942 [15:57<00:00,  2.03batch/s, loss=13.3]\n"
     ]
    },
    {
     "name": "stdout",
     "output_type": "stream",
     "text": [
      "Saving model to model_80epoch_5_frame/model_output/save/model.pth with loss = 8.559451309463391.\n",
      "Finished epoch 24 with loss=8.559451309463391.\n"
     ]
    },
    {
     "name": "stderr",
     "output_type": "stream",
     "text": [
      "Epoch 25: 100%|██████████| 1942/1942 [15:59<00:00,  2.02batch/s, loss=10.9]\n"
     ]
    },
    {
     "name": "stdout",
     "output_type": "stream",
     "text": [
      "Saving model to model_80epoch_5_frame/model_output/save/model.pth with loss = 8.487730679379434.\n",
      "Finished epoch 25 with loss=8.487730679379434.\n"
     ]
    },
    {
     "name": "stderr",
     "output_type": "stream",
     "text": [
      "Epoch 26: 100%|██████████| 1942/1942 [16:29<00:00,  1.96batch/s, loss=10.5]\n"
     ]
    },
    {
     "name": "stdout",
     "output_type": "stream",
     "text": [
      "Saving model to model_80epoch_5_frame/model_output/save/model.pth with loss = 8.478728136981921.\n",
      "Finished epoch 26 with loss=8.478728136981921.\n"
     ]
    },
    {
     "name": "stderr",
     "output_type": "stream",
     "text": [
      "Epoch 27: 100%|██████████| 1942/1942 [16:17<00:00,  1.99batch/s, loss=22.4]\n"
     ]
    },
    {
     "name": "stdout",
     "output_type": "stream",
     "text": [
      "Saving model to model_80epoch_5_frame/model_output/save/model.pth with loss = 8.39572280344585.\n",
      "Finished epoch 27 with loss=8.39572280344585.\n"
     ]
    },
    {
     "name": "stderr",
     "output_type": "stream",
     "text": [
      "Epoch 28: 100%|██████████| 1942/1942 [16:01<00:00,  2.02batch/s, loss=89.9]\n"
     ]
    },
    {
     "name": "stdout",
     "output_type": "stream",
     "text": [
      "Finished epoch 28 with loss=8.39572280344585.\n"
     ]
    },
    {
     "name": "stderr",
     "output_type": "stream",
     "text": [
      "Epoch 29: 100%|██████████| 1942/1942 [16:11<00:00,  2.00batch/s, loss=19.4]\n"
     ]
    },
    {
     "name": "stdout",
     "output_type": "stream",
     "text": [
      "Saving model to model_80epoch_5_frame/model_output/save/model.pth with loss = 8.353911717077976.\n",
      "Finished epoch 29 with loss=8.353911717077976.\n"
     ]
    },
    {
     "name": "stderr",
     "output_type": "stream",
     "text": [
      "Epoch 30: 100%|██████████| 1942/1942 [16:25<00:00,  1.97batch/s, loss=16.5]\n"
     ]
    },
    {
     "name": "stdout",
     "output_type": "stream",
     "text": [
      "Finished epoch 30 with loss=8.353911717077976.\n"
     ]
    },
    {
     "name": "stderr",
     "output_type": "stream",
     "text": [
      "Epoch 31: 100%|██████████| 1942/1942 [16:19<00:00,  1.98batch/s, loss=13.6]\n"
     ]
    },
    {
     "name": "stdout",
     "output_type": "stream",
     "text": [
      "Saving model to model_80epoch_5_frame/model_output/save/model.pth with loss = 8.34341788684794.\n",
      "Finished epoch 31 with loss=8.34341788684794.\n"
     ]
    },
    {
     "name": "stderr",
     "output_type": "stream",
     "text": [
      "Epoch 32: 100%|██████████| 1942/1942 [15:59<00:00,  2.02batch/s, loss=19.2]\n"
     ]
    },
    {
     "name": "stdout",
     "output_type": "stream",
     "text": [
      "Saving model to model_80epoch_5_frame/model_output/save/model.pth with loss = 8.311597114979422.\n",
      "Finished epoch 32 with loss=8.311597114979422.\n"
     ]
    },
    {
     "name": "stderr",
     "output_type": "stream",
     "text": [
      "Epoch 33: 100%|██████████| 1942/1942 [16:11<00:00,  2.00batch/s, loss=11.7]\n"
     ]
    },
    {
     "name": "stdout",
     "output_type": "stream",
     "text": [
      "Saving model to model_80epoch_5_frame/model_output/save/model.pth with loss = 8.30689512443346.\n",
      "Finished epoch 33 with loss=8.30689512443346.\n"
     ]
    },
    {
     "name": "stderr",
     "output_type": "stream",
     "text": [
      "Epoch 34: 100%|██████████| 1942/1942 [16:18<00:00,  1.99batch/s, loss=8.68]\n"
     ]
    },
    {
     "name": "stdout",
     "output_type": "stream",
     "text": [
      "Saving model to model_80epoch_5_frame/model_output/save/model.pth with loss = 8.257133481431326.\n",
      "Finished epoch 34 with loss=8.257133481431326.\n"
     ]
    },
    {
     "name": "stderr",
     "output_type": "stream",
     "text": [
      "Epoch 35: 100%|██████████| 1942/1942 [16:24<00:00,  1.97batch/s, loss=66.2]\n"
     ]
    },
    {
     "name": "stdout",
     "output_type": "stream",
     "text": [
      "Saving model to model_80epoch_5_frame/model_output/save/model.pth with loss = 8.25628103139349.\n",
      "Finished epoch 35 with loss=8.25628103139349.\n"
     ]
    },
    {
     "name": "stderr",
     "output_type": "stream",
     "text": [
      "Epoch 36: 100%|██████████| 1942/1942 [16:05<00:00,  2.01batch/s, loss=272] \n"
     ]
    },
    {
     "name": "stdout",
     "output_type": "stream",
     "text": [
      "Finished epoch 36 with loss=8.25628103139349.\n"
     ]
    },
    {
     "name": "stderr",
     "output_type": "stream",
     "text": [
      "Epoch 37: 100%|██████████| 1942/1942 [16:36<00:00,  1.95batch/s, loss=7.48]\n"
     ]
    },
    {
     "name": "stdout",
     "output_type": "stream",
     "text": [
      "Saving model to model_80epoch_5_frame/model_output/save/model.pth with loss = 8.19261939861993.\n",
      "Finished epoch 37 with loss=8.19261939861993.\n"
     ]
    },
    {
     "name": "stderr",
     "output_type": "stream",
     "text": [
      "Epoch 38: 100%|██████████| 1942/1942 [17:03<00:00,  1.90batch/s, loss=12]  \n"
     ]
    },
    {
     "name": "stdout",
     "output_type": "stream",
     "text": [
      "Saving model to model_80epoch_5_frame/model_output/save/model.pth with loss = 8.161903343780157.\n",
      "Finished epoch 38 with loss=8.161903343780157.\n"
     ]
    },
    {
     "name": "stderr",
     "output_type": "stream",
     "text": [
      "Epoch 39: 100%|██████████| 1942/1942 [15:50<00:00,  2.04batch/s, loss=13.7]\n"
     ]
    },
    {
     "name": "stdout",
     "output_type": "stream",
     "text": [
      "Saving model to model_80epoch_5_frame/model_output/save/model.pth with loss = 8.10238813690987.\n",
      "Finished epoch 39 with loss=8.10238813690987.\n"
     ]
    },
    {
     "name": "stderr",
     "output_type": "stream",
     "text": [
      "Epoch 40:  73%|███████▎  | 1415/1942 [12:17<04:16,  2.05batch/s, loss=8.73]  "
     ]
    }
   ],
   "source": [
    "\n",
    "criterion = ChamferLoss()\n",
    "\n",
    "optimizer = torch.optim.Adam(\n",
    "    model.parameters(),\n",
    "    lr=learning_rate * 64 / batch_size,\n",
    "    betas=(0.9, 0.999),\n",
    "    weight_decay=1e-6,\n",
    ")\n",
    "\n",
    "#passing correct logging_infoto `clou_train` by\n",
    "# Define paths and experiment name\n",
    "name_logging = output_dir + \"logging/directory\"\n",
    "name_model = output_dir + \"save/model.pth\"\n",
    "name_writer = output_dir + \"tensorboard/logs\"\n",
    "name = \"my_experiment\"\n",
    "\n",
    "# Make sure directories exist\n",
    "os.makedirs(name_logging, exist_ok=True)\n",
    "os.makedirs(os.path.dirname(name_model), exist_ok=True)  # Since name_model includes the filename\n",
    "os.makedirs(name_writer, exist_ok=True)\n",
    "\n",
    "# Create the logging_info tuple\n",
    "logging_info = (name_logging, name_model, name_writer, name)\n",
    "\n",
    "cloud.train(model, dataloader, num_epochs, criterion, optimizer, logging_info)\n"
   ]
  },
  {
   "cell_type": "code",
   "execution_count": null,
   "metadata": {},
   "outputs": [],
   "source": []
  }
 ],
 "metadata": {
  "kernelspec": {
   "display_name": "Python 3",
   "language": "python",
   "name": "python3"
  },
  "language_info": {
   "codemirror_mode": {
    "name": "ipython",
    "version": 3
   },
   "file_extension": ".py",
   "mimetype": "text/x-python",
   "name": "python",
   "nbconvert_exporter": "python",
   "pygments_lexer": "ipython3",
   "version": "3.8.18"
  }
 },
 "nbformat": 4,
 "nbformat_minor": 4
}
