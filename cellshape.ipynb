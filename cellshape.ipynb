{
 "cells": [
  {
   "cell_type": "markdown",
   "metadata": {},
   "source": [
    "### read segmentation data "
   ]
  },
  {
   "cell_type": "code",
   "execution_count": 1,
   "metadata": {},
   "outputs": [],
   "source": [
    "import cellshape_helper as helper\n",
    "from tifffile import imread\n",
    "import napari\n",
    "from skimage.measure import marching_cubes, regionprops\n",
    "import trimesh\n",
    "import numpy as np"
   ]
  },
  {
   "cell_type": "code",
   "execution_count": 4,
   "metadata": {},
   "outputs": [],
   "source": [
    "membrane_dir = 'data/test_membrane.tif'\n",
    "nuclei_dir = 'data/test_nuclei.tif'\n",
    "membrane_raw_dir = 'data/membrane_raw.tif'\n",
    "nuclei_raw_dir = 'data/nuclei_raw.tif'\n",
    "\n",
    "membrane_seg = imread(membrane_dir)\n",
    "nuclei_seg = imread(nuclei_dir)\n",
    "membrane_raw = imread(membrane_raw_dir)\n",
    "nuclei_raw = imread(nuclei_raw_dir)"
   ]
  },
  {
   "cell_type": "markdown",
   "metadata": {
    "jp-MarkdownHeadingCollapsed": true,
    "tags": []
   },
   "source": [
    "### `tif_to_mesh` rewrite the function without saving"
   ]
  },
  {
   "cell_type": "code",
   "execution_count": 5,
   "metadata": {},
   "outputs": [],
   "source": [
    "# marching_cubes require 3D input\n",
    "vertices, faces, normals, values = marching_cubes(x)\n",
    "mesh_obj = trimesh.Trimesh(\n",
    "            vertices=vertices, faces=faces, process=False\n",
    "        )\n",
    "mesh_obj.export('data/test_nuclei_x.off')"
   ]
  },
  {
   "cell_type": "code",
   "execution_count": 10,
   "metadata": {},
   "outputs": [],
   "source": [
    "from cellshape_helper.vendor.pytorch_geometric_files import read_off, sample_points\n",
    "# dict pos, face\n",
    "data = read_off('data/test_nuclei_x.off')\n",
    "# change to .numpy() \n",
    "num_points = 1024\n",
    "points = sample_points(data=data, num=num_points).numpy()\n",
    "\n",
    "viewer = napari.Viewer()\n",
    "viewer.add_image(nuclei_raw[0,6:14,1024:1040,895:910])\n",
    "viewer.add_labels(x)\n",
    "\n",
    "# Add the 3D mesh to the viewer\n",
    "viewer.add_surface((vertices, faces, values), name=\"Marching Cubes Mesh\")\n",
    "\n",
    "# Add the sampled points to the viewer\n",
    "viewer.add_points(points, size=1, name=\"Sampled Points\")"
   ]
  },
  {
   "cell_type": "markdown",
   "metadata": {},
   "source": [
    "### Creat single cell box"
   ]
  },
  {
   "cell_type": "code",
   "execution_count": 5,
   "metadata": {},
   "outputs": [],
   "source": [
    "from skimage import measure\n",
    "from tifffile import imwrite\n",
    "from skimage import measure\n",
    "import os\n",
    "from tqdm import tqdm\n",
    "\n",
    "\n",
    "def get_max_dims(seg_img):\n",
    "    max_dims = np.array([0, 0, 0])\n",
    "    # Determine the dimensions of the largest bounding box\n",
    "    for region in measure.regionprops(seg_img):\n",
    "        minz, miny, minx, maxz, maxy, maxx = region.bbox\n",
    "        dims = np.array([maxz-minz, maxy-miny, maxx-minx])\n",
    "        max_dims = np.maximum(max_dims, dims)\n",
    "    \n",
    "    return max_dims\n",
    "\n",
    "\n",
    "seg_img = nuclei_seg[0]\n",
    "max_dims = get_max_dims(seg_img)\n",
    "\n",
    "# Add a margin to max_dims\n",
    "margin = np.array([5, 10, 10])  # adjust the values as needed\n",
    "max_dims_with_margin = max_dims + margin"
   ]
  },
  {
   "cell_type": "code",
   "execution_count": 6,
   "metadata": {},
   "outputs": [
    {
     "name": "stderr",
     "output_type": "stream",
     "text": [
      "Processing Cells: 100%|██████████| 921/921 [00:02<00:00, 357.84it/s]\n"
     ]
    }
   ],
   "source": [
    "def save_individual_label(seg_img, save_singlecell_dir, max_dims_with_margin,t):\n",
    "    regions = measure.regionprops(seg_img)\n",
    "    num_cells = len(regions)\n",
    "    all_cells = np.zeros((num_cells, *max_dims_with_margin), dtype=seg_img.dtype)\n",
    "\n",
    "    if not os.path.exists(save_singlecell_dir):\n",
    "        os.makedirs(save_singlecell_dir)\n",
    "\n",
    "    # Wrap the loop with tqdm to create a progress bar\n",
    "    for i, region in tqdm(enumerate(regions), total=num_cells, desc=\"Processing Cells\"):\n",
    "        minz, miny, minx, maxz, maxy, maxx = region.bbox\n",
    "        cropped_image = seg_img[minz:maxz, miny:maxy, minx:maxx]\n",
    "        label_mask = (cropped_image == region.label)\n",
    "\n",
    "        padding = [\n",
    "            ((max_dims_with_margin[0] - label_mask.shape[0]) // 2,\n",
    "             max_dims_with_margin[0] - label_mask.shape[0] - ((max_dims_with_margin[0] - label_mask.shape[0]) // 2)),\n",
    "            ((max_dims_with_margin[1] - label_mask.shape[1]) // 2,\n",
    "             max_dims_with_margin[1] - label_mask.shape[1] - ((max_dims_with_margin[1] - label_mask.shape[1]) // 2)),\n",
    "            ((max_dims_with_margin[2] - label_mask.shape[2]) // 2,\n",
    "             max_dims_with_margin[2] - label_mask.shape[2] - ((max_dims_with_margin[2] - label_mask.shape[2]) // 2))\n",
    "        ]\n",
    "\n",
    "        padded_image = np.pad(label_mask, padding, mode='constant', constant_values=0)\n",
    "        # Save the padded image with the label as the filename\n",
    "        imwrite(f\"{save_singlecell_dir}/{str(t)+region.label}.tif\", padded_image)\n",
    "        all_cells[i] = padded_image\n",
    "\n",
    "    return all_cells  # This line is now correctly placed outside of the for loop.\n",
    "\n",
    "\n",
    "\n",
    "save_singlecell_dir = 'data/singlecell'\n",
    "all_cells = save_individual_label(seg_img, save_singlecell_dir, max_dims_with_margin)"
   ]
  },
  {
   "cell_type": "code",
   "execution_count": 11,
   "metadata": {},
   "outputs": [
    {
     "data": {
      "text/plain": [
       "<Labels layer 'all_cells' at 0x2cfcedef880>"
      ]
     },
     "execution_count": 11,
     "metadata": {},
     "output_type": "execute_result"
    }
   ],
   "source": [
    "viewer = napari.Viewer()\n",
    "viewer.add_labels(all_cells)"
   ]
  },
  {
   "cell_type": "markdown",
   "metadata": {},
   "source": [
    "### cellshape"
   ]
  },
  {
   "cell_type": "markdown",
   "metadata": {},
   "source": [
    "#### read from crop pointcloud "
   ]
  },
  {
   "cell_type": "code",
   "execution_count": 7,
   "metadata": {},
   "outputs": [
    {
     "name": "stderr",
     "output_type": "stream",
     "text": [
      "100%|██████████| 921/921 [00:07<00:00, 117.93it/s]\n",
      "100%|██████████| 921/921 [00:11<00:00, 77.86it/s]\n"
     ]
    }
   ],
   "source": [
    "PATH_TO_TIF_FILES = \"data/singlecell\"\n",
    "PATH_TO_SAVE_MESH = \"data/mesh/\"\n",
    "PATH_TO_SAVE_PC = \"data/pointcloud/\"\n",
    "NUM_POINTS = 2048\n",
    "\n",
    "helper.tif_to_pc_directory(PATH_TO_TIF_FILES, \n",
    "                           PATH_TO_SAVE_MESH, \n",
    "                           PATH_TO_SAVE_PC, \n",
    "                           NUM_POINTS)"
   ]
  },
  {
   "cell_type": "code",
   "execution_count": 8,
   "metadata": {},
   "outputs": [],
   "source": [
    "import torch\n",
    "from cellshape_cloud import CloudAutoEncoder\n",
    "\n",
    "model = CloudAutoEncoder(num_features=128, \n",
    "                         k=20,\n",
    "                         encoder_type=\"dgcnn\",\n",
    "                         decoder_type=\"foldingnet\")\n",
    "\n",
    "\n",
    "\n",
    "# model is not trained so far\n",
    "points = torch.randn(1, 2048, 3)\n",
    "recon, features = model(points)"
   ]
  },
  {
   "cell_type": "code",
   "execution_count": 3,
   "metadata": {},
   "outputs": [
    {
     "data": {
      "text/plain": [
       "<Points layer 'recon Points' at 0x129c6127a00>"
      ]
     },
     "execution_count": 3,
     "metadata": {},
     "output_type": "execute_result"
    }
   ],
   "source": [
    "\n",
    "# Convert tensor to numpy array\n",
    "recon_np = recon.detach().cpu().numpy()\n",
    "viewer = napari.Viewer()\n",
    "viewer.add_points(points.numpy()[0], size=1, name=\"Test Points\")\n",
    "viewer.add_points(recon_np[0], size=1, name=\"recon Points\")"
   ]
  },
  {
   "cell_type": "markdown",
   "metadata": {},
   "source": [
    "#### To train an autoencoder on a set of point clouds created using cellshape-helper:"
   ]
  },
  {
   "cell_type": "code",
   "execution_count": 9,
   "metadata": {},
   "outputs": [],
   "source": [
    "import torch\n",
    "from torch.utils.data import DataLoader\n",
    "\n",
    "import cellshape_cloud as cloud\n",
    "from cellshape_cloud.vendor.chamfer_distance import ChamferLoss\n",
    "\n",
    "input_dir = \"data/pointcloud/\"\n",
    "batch_size = 16\n",
    "learning_rate = 0.0001\n",
    "num_epochs = 100\n",
    "output_dir = \"model_100epoch/model_output/\"\n",
    "\n",
    "model = cloud.CloudAutoEncoder(num_features=128, \n",
    "                         k=40,\n",
    "                         encoder_type=\"dgcnn\",\n",
    "                         decoder_type=\"foldingnet\")\n",
    "\n",
    "\n",
    "dataset = cloud.PointCloudDataset(input_dir)\n",
    "\n",
    "dataloader = DataLoader(dataset, batch_size=batch_size, shuffle=True)"
   ]
  },
  {
   "cell_type": "code",
   "execution_count": 7,
   "metadata": {},
   "outputs": [],
   "source": [
    "\"\"\"\n",
    "according to cellshape_cloud/pointcloud_dataset.py class PointCloudDataset(Dataset)\n",
    "each data point in your dataset is a tuple of four elements: (point_cloud, 0, 0, 0)\n",
    "\n",
    "data_iter = iter(dataloader)\n",
    "first_batch = next(data_iter)\n",
    "first_batch_point_clouds = first_batch[0]\n",
    "\n",
    "first_batch_point_clouds shape is (16,2048,3)\n",
    "first_batch[1], first_batch[2], first_batch[4] is (16,) the value is 0\n",
    "\n",
    "\n",
    "from cellshape_cloud.vendor import get_graph_feature\n",
    "data_iter = iter(dataloader)\n",
    "point_clouds = next(data_iter)\n",
    "x = point_clouds[0]\n",
    "x = x.transpose(2, 1)\n",
    "batch_size = x.size(0)\n",
    "graph_feature = get_graph_feature(x, k=40)\n",
    "knn_graph = graph_feature.numpy()\n",
    "knn_graph has shape (16,6,2048,20)\n",
    "\"\"\""
   ]
  },
  {
   "cell_type": "code",
   "execution_count": 10,
   "metadata": {},
   "outputs": [
    {
     "name": "stderr",
     "output_type": "stream",
     "text": [
      "Epoch 0: 100%|██████████| 58/58 [00:24<00:00,  2.34batch/s, loss=366]\n"
     ]
    },
    {
     "name": "stdout",
     "output_type": "stream",
     "text": [
      "Saving model to model_100epoch/model_output/save/model.pth with loss = 329.86309101207047.\n",
      "Finished epoch 0 with loss=329.86309101207047.\n"
     ]
    },
    {
     "name": "stderr",
     "output_type": "stream",
     "text": [
      "Epoch 1: 100%|██████████| 58/58 [00:23<00:00,  2.48batch/s, loss=274]\n"
     ]
    },
    {
     "name": "stdout",
     "output_type": "stream",
     "text": [
      "Saving model to model_100epoch/model_output/save/model.pth with loss = 313.922493419428.\n",
      "Finished epoch 1 with loss=313.922493419428.\n"
     ]
    },
    {
     "name": "stderr",
     "output_type": "stream",
     "text": [
      "Epoch 2: 100%|██████████| 58/58 [00:23<00:00,  2.47batch/s, loss=213]\n"
     ]
    },
    {
     "name": "stdout",
     "output_type": "stream",
     "text": [
      "Saving model to model_100epoch/model_output/save/model.pth with loss = 232.16897200076517.\n",
      "Finished epoch 2 with loss=232.16897200076517.\n"
     ]
    },
    {
     "name": "stderr",
     "output_type": "stream",
     "text": [
      "Epoch 3: 100%|██████████| 58/58 [00:23<00:00,  2.47batch/s, loss=194]\n"
     ]
    },
    {
     "name": "stdout",
     "output_type": "stream",
     "text": [
      "Saving model to model_100epoch/model_output/save/model.pth with loss = 192.18627748452843.\n",
      "Finished epoch 3 with loss=192.18627748452843.\n"
     ]
    },
    {
     "name": "stderr",
     "output_type": "stream",
     "text": [
      "Epoch 4: 100%|██████████| 58/58 [00:23<00:00,  2.47batch/s, loss=172]\n"
     ]
    },
    {
     "name": "stdout",
     "output_type": "stream",
     "text": [
      "Saving model to model_100epoch/model_output/save/model.pth with loss = 185.46462615148317.\n",
      "Finished epoch 4 with loss=185.46462615148317.\n"
     ]
    },
    {
     "name": "stderr",
     "output_type": "stream",
     "text": [
      "Epoch 5: 100%|██████████| 58/58 [00:23<00:00,  2.45batch/s, loss=166]\n"
     ]
    },
    {
     "name": "stdout",
     "output_type": "stream",
     "text": [
      "Saving model to model_100epoch/model_output/save/model.pth with loss = 175.46749179299306.\n",
      "Finished epoch 5 with loss=175.46749179299306.\n"
     ]
    },
    {
     "name": "stderr",
     "output_type": "stream",
     "text": [
      "Epoch 6: 100%|██████████| 58/58 [00:23<00:00,  2.47batch/s, loss=94.2]\n"
     ]
    },
    {
     "name": "stdout",
     "output_type": "stream",
     "text": [
      "Saving model to model_100epoch/model_output/save/model.pth with loss = 134.6669159374018.\n",
      "Finished epoch 6 with loss=134.6669159374018.\n"
     ]
    },
    {
     "name": "stderr",
     "output_type": "stream",
     "text": [
      "Epoch 7: 100%|██████████| 58/58 [00:23<00:00,  2.47batch/s, loss=67.7]\n"
     ]
    },
    {
     "name": "stdout",
     "output_type": "stream",
     "text": [
      "Saving model to model_100epoch/model_output/save/model.pth with loss = 79.17990620930989.\n",
      "Finished epoch 7 with loss=79.17990620930989.\n"
     ]
    },
    {
     "name": "stderr",
     "output_type": "stream",
     "text": [
      "Epoch 8: 100%|██████████| 58/58 [00:23<00:00,  2.46batch/s, loss=72.2]\n"
     ]
    },
    {
     "name": "stdout",
     "output_type": "stream",
     "text": [
      "Saving model to model_100epoch/model_output/save/model.pth with loss = 73.19004522155528.\n",
      "Finished epoch 8 with loss=73.19004522155528.\n"
     ]
    },
    {
     "name": "stderr",
     "output_type": "stream",
     "text": [
      "Epoch 9: 100%|██████████| 58/58 [00:23<00:00,  2.48batch/s, loss=66.2]\n"
     ]
    },
    {
     "name": "stdout",
     "output_type": "stream",
     "text": [
      "Saving model to model_100epoch/model_output/save/model.pth with loss = 70.31612185774178.\n",
      "Finished epoch 9 with loss=70.31612185774178.\n"
     ]
    },
    {
     "name": "stderr",
     "output_type": "stream",
     "text": [
      "Epoch 10: 100%|██████████| 58/58 [00:23<00:00,  2.47batch/s, loss=81.4]\n"
     ]
    },
    {
     "name": "stdout",
     "output_type": "stream",
     "text": [
      "Saving model to model_100epoch/model_output/save/model.pth with loss = 67.73574750907576.\n",
      "Finished epoch 10 with loss=67.73574750907576.\n"
     ]
    },
    {
     "name": "stderr",
     "output_type": "stream",
     "text": [
      "Epoch 11: 100%|██████████| 58/58 [00:23<00:00,  2.48batch/s, loss=56.5]\n"
     ]
    },
    {
     "name": "stdout",
     "output_type": "stream",
     "text": [
      "Saving model to model_100epoch/model_output/save/model.pth with loss = 65.66094592887323.\n",
      "Finished epoch 11 with loss=65.66094592887323.\n"
     ]
    },
    {
     "name": "stderr",
     "output_type": "stream",
     "text": [
      "Epoch 12: 100%|██████████| 58/58 [00:23<00:00,  2.47batch/s, loss=95.2]\n"
     ]
    },
    {
     "name": "stdout",
     "output_type": "stream",
     "text": [
      "Finished epoch 12 with loss=65.66094592887323.\n"
     ]
    },
    {
     "name": "stderr",
     "output_type": "stream",
     "text": [
      "Epoch 13: 100%|██████████| 58/58 [00:23<00:00,  2.47batch/s, loss=68.5]\n"
     ]
    },
    {
     "name": "stdout",
     "output_type": "stream",
     "text": [
      "Finished epoch 13 with loss=65.66094592887323.\n"
     ]
    },
    {
     "name": "stderr",
     "output_type": "stream",
     "text": [
      "Epoch 14: 100%|██████████| 58/58 [00:23<00:00,  2.46batch/s, loss=63.1]\n"
     ]
    },
    {
     "name": "stdout",
     "output_type": "stream",
     "text": [
      "Finished epoch 14 with loss=65.66094592887323.\n"
     ]
    },
    {
     "name": "stderr",
     "output_type": "stream",
     "text": [
      "Epoch 15: 100%|██████████| 58/58 [00:23<00:00,  2.47batch/s, loss=60.1]\n"
     ]
    },
    {
     "name": "stdout",
     "output_type": "stream",
     "text": [
      "Saving model to model_100epoch/model_output/save/model.pth with loss = 64.53194054059142.\n",
      "Finished epoch 15 with loss=64.53194054059142.\n"
     ]
    },
    {
     "name": "stderr",
     "output_type": "stream",
     "text": [
      "Epoch 16: 100%|██████████| 58/58 [00:23<00:00,  2.47batch/s, loss=69.6]\n"
     ]
    },
    {
     "name": "stdout",
     "output_type": "stream",
     "text": [
      "Saving model to model_100epoch/model_output/save/model.pth with loss = 64.03386272415804.\n",
      "Finished epoch 16 with loss=64.03386272415804.\n"
     ]
    },
    {
     "name": "stderr",
     "output_type": "stream",
     "text": [
      "Epoch 17: 100%|██████████| 58/58 [00:23<00:00,  2.46batch/s, loss=62.2]\n"
     ]
    },
    {
     "name": "stdout",
     "output_type": "stream",
     "text": [
      "Saving model to model_100epoch/model_output/save/model.pth with loss = 62.54652615251212.\n",
      "Finished epoch 17 with loss=62.54652615251212.\n"
     ]
    },
    {
     "name": "stderr",
     "output_type": "stream",
     "text": [
      "Epoch 18: 100%|██████████| 58/58 [00:23<00:00,  2.46batch/s, loss=60]  \n"
     ]
    },
    {
     "name": "stdout",
     "output_type": "stream",
     "text": [
      "Saving model to model_100epoch/model_output/save/model.pth with loss = 61.02654857562419.\n",
      "Finished epoch 18 with loss=61.02654857562419.\n"
     ]
    },
    {
     "name": "stderr",
     "output_type": "stream",
     "text": [
      "Epoch 19: 100%|██████████| 58/58 [00:23<00:00,  2.46batch/s, loss=51.6]\n"
     ]
    },
    {
     "name": "stdout",
     "output_type": "stream",
     "text": [
      "Saving model to model_100epoch/model_output/save/model.pth with loss = 59.07739080231765.\n",
      "Finished epoch 19 with loss=59.07739080231765.\n"
     ]
    },
    {
     "name": "stderr",
     "output_type": "stream",
     "text": [
      "Epoch 20: 100%|██████████| 58/58 [00:23<00:00,  2.46batch/s, loss=46.3]\n"
     ]
    },
    {
     "name": "stdout",
     "output_type": "stream",
     "text": [
      "Saving model to model_100epoch/model_output/save/model.pth with loss = 56.935799821583245.\n",
      "Finished epoch 20 with loss=56.935799821583245.\n"
     ]
    },
    {
     "name": "stderr",
     "output_type": "stream",
     "text": [
      "Epoch 21: 100%|██████████| 58/58 [00:23<00:00,  2.43batch/s, loss=47.8]\n"
     ]
    },
    {
     "name": "stdout",
     "output_type": "stream",
     "text": [
      "Saving model to model_100epoch/model_output/save/model.pth with loss = 54.52627127197967.\n",
      "Finished epoch 21 with loss=54.52627127197967.\n"
     ]
    },
    {
     "name": "stderr",
     "output_type": "stream",
     "text": [
      "Epoch 22: 100%|██████████| 58/58 [00:23<00:00,  2.46batch/s, loss=49]  \n"
     ]
    },
    {
     "name": "stdout",
     "output_type": "stream",
     "text": [
      "Saving model to model_100epoch/model_output/save/model.pth with loss = 52.214763115192284.\n",
      "Finished epoch 22 with loss=52.214763115192284.\n"
     ]
    },
    {
     "name": "stderr",
     "output_type": "stream",
     "text": [
      "Epoch 23: 100%|██████████| 58/58 [00:23<00:00,  2.45batch/s, loss=52.2]\n"
     ]
    },
    {
     "name": "stdout",
     "output_type": "stream",
     "text": [
      "Saving model to model_100epoch/model_output/save/model.pth with loss = 49.860491025493516.\n",
      "Finished epoch 23 with loss=49.860491025493516.\n"
     ]
    },
    {
     "name": "stderr",
     "output_type": "stream",
     "text": [
      "Epoch 24: 100%|██████████| 58/58 [00:23<00:00,  2.45batch/s, loss=40.8]\n"
     ]
    },
    {
     "name": "stdout",
     "output_type": "stream",
     "text": [
      "Saving model to model_100epoch/model_output/save/model.pth with loss = 47.46816750595853.\n",
      "Finished epoch 24 with loss=47.46816750595853.\n"
     ]
    },
    {
     "name": "stderr",
     "output_type": "stream",
     "text": [
      "Epoch 25: 100%|██████████| 58/58 [00:24<00:00,  2.41batch/s, loss=46.2]\n"
     ]
    },
    {
     "name": "stdout",
     "output_type": "stream",
     "text": [
      "Saving model to model_100epoch/model_output/save/model.pth with loss = 45.57909643238988.\n",
      "Finished epoch 25 with loss=45.57909643238988.\n"
     ]
    },
    {
     "name": "stderr",
     "output_type": "stream",
     "text": [
      "Epoch 26: 100%|██████████| 58/58 [00:24<00:00,  2.37batch/s, loss=43]  \n"
     ]
    },
    {
     "name": "stdout",
     "output_type": "stream",
     "text": [
      "Saving model to model_100epoch/model_output/save/model.pth with loss = 43.61065239011099.\n",
      "Finished epoch 26 with loss=43.61065239011099.\n"
     ]
    },
    {
     "name": "stderr",
     "output_type": "stream",
     "text": [
      "Epoch 27: 100%|██████████| 58/58 [00:24<00:00,  2.38batch/s, loss=50.1]\n"
     ]
    },
    {
     "name": "stdout",
     "output_type": "stream",
     "text": [
      "Saving model to model_100epoch/model_output/save/model.pth with loss = 43.18763279823508.\n",
      "Finished epoch 27 with loss=43.18763279823508.\n"
     ]
    },
    {
     "name": "stderr",
     "output_type": "stream",
     "text": [
      "Epoch 28: 100%|██████████| 58/58 [00:24<00:00,  2.39batch/s, loss=39.8]\n"
     ]
    },
    {
     "name": "stdout",
     "output_type": "stream",
     "text": [
      "Saving model to model_100epoch/model_output/save/model.pth with loss = 42.93485691903651.\n",
      "Finished epoch 28 with loss=42.93485691903651.\n"
     ]
    },
    {
     "name": "stderr",
     "output_type": "stream",
     "text": [
      "Epoch 29: 100%|██████████| 58/58 [00:24<00:00,  2.41batch/s, loss=34.7]\n"
     ]
    },
    {
     "name": "stdout",
     "output_type": "stream",
     "text": [
      "Saving model to model_100epoch/model_output/save/model.pth with loss = 36.71628363013724.\n",
      "Finished epoch 29 with loss=36.71628363013724.\n"
     ]
    },
    {
     "name": "stderr",
     "output_type": "stream",
     "text": [
      "Epoch 30: 100%|██████████| 58/58 [00:23<00:00,  2.47batch/s, loss=29.5]\n"
     ]
    },
    {
     "name": "stdout",
     "output_type": "stream",
     "text": [
      "Saving model to model_100epoch/model_output/save/model.pth with loss = 33.98683730669862.\n",
      "Finished epoch 30 with loss=33.98683730669862.\n"
     ]
    },
    {
     "name": "stderr",
     "output_type": "stream",
     "text": [
      "Epoch 31: 100%|██████████| 58/58 [00:23<00:00,  2.46batch/s, loss=32.7]\n"
     ]
    },
    {
     "name": "stdout",
     "output_type": "stream",
     "text": [
      "Saving model to model_100epoch/model_output/save/model.pth with loss = 31.009026724716712.\n",
      "Finished epoch 31 with loss=31.009026724716712.\n"
     ]
    },
    {
     "name": "stderr",
     "output_type": "stream",
     "text": [
      "Epoch 32: 100%|██████████| 58/58 [00:24<00:00,  2.41batch/s, loss=30.6]\n"
     ]
    },
    {
     "name": "stdout",
     "output_type": "stream",
     "text": [
      "Saving model to model_100epoch/model_output/save/model.pth with loss = 27.837783641742107.\n",
      "Finished epoch 32 with loss=27.837783641742107.\n"
     ]
    },
    {
     "name": "stderr",
     "output_type": "stream",
     "text": [
      "Epoch 33: 100%|██████████| 58/58 [00:24<00:00,  2.40batch/s, loss=18.3]\n"
     ]
    },
    {
     "name": "stdout",
     "output_type": "stream",
     "text": [
      "Saving model to model_100epoch/model_output/save/model.pth with loss = 22.323731908396287.\n",
      "Finished epoch 33 with loss=22.323731908396287.\n"
     ]
    },
    {
     "name": "stderr",
     "output_type": "stream",
     "text": [
      "Epoch 34: 100%|██████████| 58/58 [00:24<00:00,  2.41batch/s, loss=11.9]\n"
     ]
    },
    {
     "name": "stdout",
     "output_type": "stream",
     "text": [
      "Saving model to model_100epoch/model_output/save/model.pth with loss = 15.418986843006822.\n",
      "Finished epoch 34 with loss=15.418986843006822.\n"
     ]
    },
    {
     "name": "stderr",
     "output_type": "stream",
     "text": [
      "Epoch 35: 100%|██████████| 58/58 [00:24<00:00,  2.37batch/s, loss=10.9]\n"
     ]
    },
    {
     "name": "stdout",
     "output_type": "stream",
     "text": [
      "Saving model to model_100epoch/model_output/save/model.pth with loss = 10.787990944595629.\n",
      "Finished epoch 35 with loss=10.787990944595629.\n"
     ]
    },
    {
     "name": "stderr",
     "output_type": "stream",
     "text": [
      "Epoch 36: 100%|██████████| 58/58 [00:24<00:00,  2.33batch/s, loss=8.37]\n"
     ]
    },
    {
     "name": "stdout",
     "output_type": "stream",
     "text": [
      "Saving model to model_100epoch/model_output/save/model.pth with loss = 8.883932944001822.\n",
      "Finished epoch 36 with loss=8.883932944001822.\n"
     ]
    },
    {
     "name": "stderr",
     "output_type": "stream",
     "text": [
      "Epoch 37: 100%|██████████| 58/58 [00:24<00:00,  2.33batch/s, loss=5.47]\n"
     ]
    },
    {
     "name": "stdout",
     "output_type": "stream",
     "text": [
      "Saving model to model_100epoch/model_output/save/model.pth with loss = 7.570875864832794.\n",
      "Finished epoch 37 with loss=7.570875864832794.\n"
     ]
    },
    {
     "name": "stderr",
     "output_type": "stream",
     "text": [
      "Epoch 38: 100%|██████████| 58/58 [00:24<00:00,  2.41batch/s, loss=5.76]\n"
     ]
    },
    {
     "name": "stdout",
     "output_type": "stream",
     "text": [
      "Saving model to model_100epoch/model_output/save/model.pth with loss = 6.925623024103742.\n",
      "Finished epoch 38 with loss=6.925623024103742.\n"
     ]
    },
    {
     "name": "stderr",
     "output_type": "stream",
     "text": [
      "Epoch 39: 100%|██████████| 58/58 [00:24<00:00,  2.38batch/s, loss=7]   \n"
     ]
    },
    {
     "name": "stdout",
     "output_type": "stream",
     "text": [
      "Saving model to model_100epoch/model_output/save/model.pth with loss = 6.368915332231485.\n",
      "Finished epoch 39 with loss=6.368915332231485.\n"
     ]
    },
    {
     "name": "stderr",
     "output_type": "stream",
     "text": [
      "Epoch 40: 100%|██████████| 58/58 [00:23<00:00,  2.43batch/s, loss=5.19]\n"
     ]
    },
    {
     "name": "stdout",
     "output_type": "stream",
     "text": [
      "Saving model to model_100epoch/model_output/save/model.pth with loss = 6.1946820016108255.\n",
      "Finished epoch 40 with loss=6.1946820016108255.\n"
     ]
    },
    {
     "name": "stderr",
     "output_type": "stream",
     "text": [
      "Epoch 41: 100%|██████████| 58/58 [00:24<00:00,  2.40batch/s, loss=6.48]\n"
     ]
    },
    {
     "name": "stdout",
     "output_type": "stream",
     "text": [
      "Finished epoch 41 with loss=6.1946820016108255.\n"
     ]
    },
    {
     "name": "stderr",
     "output_type": "stream",
     "text": [
      "Epoch 42: 100%|██████████| 58/58 [00:24<00:00,  2.39batch/s, loss=6.03]\n"
     ]
    },
    {
     "name": "stdout",
     "output_type": "stream",
     "text": [
      "Saving model to model_100epoch/model_output/save/model.pth with loss = 5.665557830269766.\n",
      "Finished epoch 42 with loss=5.665557830269766.\n"
     ]
    },
    {
     "name": "stderr",
     "output_type": "stream",
     "text": [
      "Epoch 43: 100%|██████████| 58/58 [00:23<00:00,  2.47batch/s, loss=6.54]\n"
     ]
    },
    {
     "name": "stdout",
     "output_type": "stream",
     "text": [
      "Saving model to model_100epoch/model_output/save/model.pth with loss = 5.4562754850277955.\n",
      "Finished epoch 43 with loss=5.4562754850277955.\n"
     ]
    },
    {
     "name": "stderr",
     "output_type": "stream",
     "text": [
      "Epoch 44: 100%|██████████| 58/58 [00:23<00:00,  2.45batch/s, loss=5.92]\n"
     ]
    },
    {
     "name": "stdout",
     "output_type": "stream",
     "text": [
      "Saving model to model_100epoch/model_output/save/model.pth with loss = 5.404183431603443.\n",
      "Finished epoch 44 with loss=5.404183431603443.\n"
     ]
    },
    {
     "name": "stderr",
     "output_type": "stream",
     "text": [
      "Epoch 45: 100%|██████████| 58/58 [00:23<00:00,  2.43batch/s, loss=5.59]\n"
     ]
    },
    {
     "name": "stdout",
     "output_type": "stream",
     "text": [
      "Saving model to model_100epoch/model_output/save/model.pth with loss = 5.214103273048255.\n",
      "Finished epoch 45 with loss=5.214103273048255.\n"
     ]
    },
    {
     "name": "stderr",
     "output_type": "stream",
     "text": [
      "Epoch 46: 100%|██████████| 58/58 [00:23<00:00,  2.48batch/s, loss=6.14]\n"
     ]
    },
    {
     "name": "stdout",
     "output_type": "stream",
     "text": [
      "Finished epoch 46 with loss=5.214103273048255.\n"
     ]
    },
    {
     "name": "stderr",
     "output_type": "stream",
     "text": [
      "Epoch 47: 100%|██████████| 58/58 [00:23<00:00,  2.47batch/s, loss=4.71]\n"
     ]
    },
    {
     "name": "stdout",
     "output_type": "stream",
     "text": [
      "Saving model to model_100epoch/model_output/save/model.pth with loss = 4.798667449147309.\n",
      "Finished epoch 47 with loss=4.798667449147309.\n"
     ]
    },
    {
     "name": "stderr",
     "output_type": "stream",
     "text": [
      "Epoch 48: 100%|██████████| 58/58 [00:24<00:00,  2.40batch/s, loss=6.97]\n"
     ]
    },
    {
     "name": "stdout",
     "output_type": "stream",
     "text": [
      "Finished epoch 48 with loss=4.798667449147309.\n"
     ]
    },
    {
     "name": "stderr",
     "output_type": "stream",
     "text": [
      "Epoch 49: 100%|██████████| 58/58 [00:24<00:00,  2.36batch/s, loss=5.11]\n"
     ]
    },
    {
     "name": "stdout",
     "output_type": "stream",
     "text": [
      "Finished epoch 49 with loss=4.798667449147309.\n"
     ]
    },
    {
     "name": "stderr",
     "output_type": "stream",
     "text": [
      "Epoch 50: 100%|██████████| 58/58 [00:24<00:00,  2.36batch/s, loss=3.73]\n"
     ]
    },
    {
     "name": "stdout",
     "output_type": "stream",
     "text": [
      "Saving model to model_100epoch/model_output/save/model.pth with loss = 4.371545530370368.\n",
      "Finished epoch 50 with loss=4.371545530370368.\n"
     ]
    },
    {
     "name": "stderr",
     "output_type": "stream",
     "text": [
      "Epoch 51: 100%|██████████| 58/58 [00:24<00:00,  2.41batch/s, loss=3.8] \n"
     ]
    },
    {
     "name": "stdout",
     "output_type": "stream",
     "text": [
      "Saving model to model_100epoch/model_output/save/model.pth with loss = 4.266801497945384.\n",
      "Finished epoch 51 with loss=4.266801497945384.\n"
     ]
    },
    {
     "name": "stderr",
     "output_type": "stream",
     "text": [
      "Epoch 52: 100%|██████████| 58/58 [00:23<00:00,  2.44batch/s, loss=4]   \n"
     ]
    },
    {
     "name": "stdout",
     "output_type": "stream",
     "text": [
      "Saving model to model_100epoch/model_output/save/model.pth with loss = 4.05961539736196.\n",
      "Finished epoch 52 with loss=4.05961539736196.\n"
     ]
    },
    {
     "name": "stderr",
     "output_type": "stream",
     "text": [
      "Epoch 53: 100%|██████████| 58/58 [00:23<00:00,  2.43batch/s, loss=3.29]\n"
     ]
    },
    {
     "name": "stdout",
     "output_type": "stream",
     "text": [
      "Finished epoch 53 with loss=4.05961539736196.\n"
     ]
    },
    {
     "name": "stderr",
     "output_type": "stream",
     "text": [
      "Epoch 54: 100%|██████████| 58/58 [00:23<00:00,  2.42batch/s, loss=3.6] \n"
     ]
    },
    {
     "name": "stdout",
     "output_type": "stream",
     "text": [
      "Saving model to model_100epoch/model_output/save/model.pth with loss = 3.8885663528551997.\n",
      "Finished epoch 54 with loss=3.8885663528551997.\n"
     ]
    },
    {
     "name": "stderr",
     "output_type": "stream",
     "text": [
      "Epoch 55: 100%|██████████| 58/58 [00:23<00:00,  2.47batch/s, loss=3.22]\n"
     ]
    },
    {
     "name": "stdout",
     "output_type": "stream",
     "text": [
      "Saving model to model_100epoch/model_output/save/model.pth with loss = 3.6861766476284044.\n",
      "Finished epoch 55 with loss=3.6861766476284044.\n"
     ]
    },
    {
     "name": "stderr",
     "output_type": "stream",
     "text": [
      "Epoch 56: 100%|██████████| 58/58 [00:24<00:00,  2.36batch/s, loss=4.32]\n"
     ]
    },
    {
     "name": "stdout",
     "output_type": "stream",
     "text": [
      "Saving model to model_100epoch/model_output/save/model.pth with loss = 3.592602581356677.\n",
      "Finished epoch 56 with loss=3.592602581356677.\n"
     ]
    },
    {
     "name": "stderr",
     "output_type": "stream",
     "text": [
      "Epoch 57: 100%|██████████| 58/58 [00:24<00:00,  2.41batch/s, loss=4.41]\n"
     ]
    },
    {
     "name": "stdout",
     "output_type": "stream",
     "text": [
      "Saving model to model_100epoch/model_output/save/model.pth with loss = 3.414453041964564.\n",
      "Finished epoch 57 with loss=3.414453041964564.\n"
     ]
    },
    {
     "name": "stderr",
     "output_type": "stream",
     "text": [
      "Epoch 58: 100%|██████████| 58/58 [00:23<00:00,  2.42batch/s, loss=4.25]\n"
     ]
    },
    {
     "name": "stdout",
     "output_type": "stream",
     "text": [
      "Finished epoch 58 with loss=3.414453041964564.\n"
     ]
    },
    {
     "name": "stderr",
     "output_type": "stream",
     "text": [
      "Epoch 59: 100%|██████████| 58/58 [00:24<00:00,  2.39batch/s, loss=2.78]\n"
     ]
    },
    {
     "name": "stdout",
     "output_type": "stream",
     "text": [
      "Saving model to model_100epoch/model_output/save/model.pth with loss = 3.304516718762131.\n",
      "Finished epoch 59 with loss=3.304516718762131.\n"
     ]
    },
    {
     "name": "stderr",
     "output_type": "stream",
     "text": [
      "Epoch 60: 100%|██████████| 58/58 [00:24<00:00,  2.39batch/s, loss=4.72]\n"
     ]
    },
    {
     "name": "stdout",
     "output_type": "stream",
     "text": [
      "Finished epoch 60 with loss=3.304516718762131.\n"
     ]
    },
    {
     "name": "stderr",
     "output_type": "stream",
     "text": [
      "Epoch 61: 100%|██████████| 58/58 [00:24<00:00,  2.41batch/s, loss=3.31]\n"
     ]
    },
    {
     "name": "stdout",
     "output_type": "stream",
     "text": [
      "Saving model to model_100epoch/model_output/save/model.pth with loss = 3.206326481482992.\n",
      "Finished epoch 61 with loss=3.206326481482992.\n"
     ]
    },
    {
     "name": "stderr",
     "output_type": "stream",
     "text": [
      "Epoch 62: 100%|██████████| 58/58 [00:24<00:00,  2.39batch/s, loss=2.85]\n"
     ]
    },
    {
     "name": "stdout",
     "output_type": "stream",
     "text": [
      "Saving model to model_100epoch/model_output/save/model.pth with loss = 3.1289248909530056.\n",
      "Finished epoch 62 with loss=3.1289248909530056.\n"
     ]
    },
    {
     "name": "stderr",
     "output_type": "stream",
     "text": [
      "Epoch 63: 100%|██████████| 58/58 [00:24<00:00,  2.39batch/s, loss=2.75]\n"
     ]
    },
    {
     "name": "stdout",
     "output_type": "stream",
     "text": [
      "Saving model to model_100epoch/model_output/save/model.pth with loss = 2.8600405842865104.\n",
      "Finished epoch 63 with loss=2.8600405842865104.\n"
     ]
    },
    {
     "name": "stderr",
     "output_type": "stream",
     "text": [
      "Epoch 64: 100%|██████████| 58/58 [00:24<00:00,  2.37batch/s, loss=2.66]\n"
     ]
    },
    {
     "name": "stdout",
     "output_type": "stream",
     "text": [
      "Finished epoch 64 with loss=2.8600405842865104.\n"
     ]
    },
    {
     "name": "stderr",
     "output_type": "stream",
     "text": [
      "Epoch 65: 100%|██████████| 58/58 [00:23<00:00,  2.43batch/s, loss=3.11]\n"
     ]
    },
    {
     "name": "stdout",
     "output_type": "stream",
     "text": [
      "Finished epoch 65 with loss=2.8600405842865104.\n"
     ]
    },
    {
     "name": "stderr",
     "output_type": "stream",
     "text": [
      "Epoch 66: 100%|██████████| 58/58 [00:24<00:00,  2.40batch/s, loss=3.84]\n"
     ]
    },
    {
     "name": "stdout",
     "output_type": "stream",
     "text": [
      "Finished epoch 66 with loss=2.8600405842865104.\n"
     ]
    },
    {
     "name": "stderr",
     "output_type": "stream",
     "text": [
      "Epoch 67: 100%|██████████| 58/58 [00:24<00:00,  2.37batch/s, loss=2.35]\n"
     ]
    },
    {
     "name": "stdout",
     "output_type": "stream",
     "text": [
      "Finished epoch 67 with loss=2.8600405842865104.\n"
     ]
    },
    {
     "name": "stderr",
     "output_type": "stream",
     "text": [
      "Epoch 68: 100%|██████████| 58/58 [00:24<00:00,  2.38batch/s, loss=2.18]\n"
     ]
    },
    {
     "name": "stdout",
     "output_type": "stream",
     "text": [
      "Saving model to model_100epoch/model_output/save/model.pth with loss = 2.8177809276800048.\n",
      "Finished epoch 68 with loss=2.8177809276800048.\n"
     ]
    },
    {
     "name": "stderr",
     "output_type": "stream",
     "text": [
      "Epoch 69: 100%|██████████| 58/58 [00:24<00:00,  2.40batch/s, loss=3.45]\n"
     ]
    },
    {
     "name": "stdout",
     "output_type": "stream",
     "text": [
      "Finished epoch 69 with loss=2.8177809276800048.\n"
     ]
    },
    {
     "name": "stderr",
     "output_type": "stream",
     "text": [
      "Epoch 70: 100%|██████████| 58/58 [00:24<00:00,  2.35batch/s, loss=6.19]\n"
     ]
    },
    {
     "name": "stdout",
     "output_type": "stream",
     "text": [
      "Finished epoch 70 with loss=2.8177809276800048.\n"
     ]
    },
    {
     "name": "stderr",
     "output_type": "stream",
     "text": [
      "Epoch 71: 100%|██████████| 58/58 [00:24<00:00,  2.40batch/s, loss=2.5] \n"
     ]
    },
    {
     "name": "stdout",
     "output_type": "stream",
     "text": [
      "Saving model to model_100epoch/model_output/save/model.pth with loss = 2.608377907924725.\n",
      "Finished epoch 71 with loss=2.608377907924725.\n"
     ]
    },
    {
     "name": "stderr",
     "output_type": "stream",
     "text": [
      "Epoch 72: 100%|██████████| 58/58 [00:24<00:00,  2.37batch/s, loss=2.87]\n"
     ]
    },
    {
     "name": "stdout",
     "output_type": "stream",
     "text": [
      "Finished epoch 72 with loss=2.608377907924725.\n"
     ]
    },
    {
     "name": "stderr",
     "output_type": "stream",
     "text": [
      "Epoch 73: 100%|██████████| 58/58 [00:23<00:00,  2.46batch/s, loss=4.82]\n"
     ]
    },
    {
     "name": "stdout",
     "output_type": "stream",
     "text": [
      "Finished epoch 73 with loss=2.608377907924725.\n"
     ]
    },
    {
     "name": "stderr",
     "output_type": "stream",
     "text": [
      "Epoch 74: 100%|██████████| 58/58 [00:23<00:00,  2.46batch/s, loss=2.54]\n"
     ]
    },
    {
     "name": "stdout",
     "output_type": "stream",
     "text": [
      "Saving model to model_100epoch/model_output/save/model.pth with loss = 2.580541657305312.\n",
      "Finished epoch 74 with loss=2.580541657305312.\n"
     ]
    },
    {
     "name": "stderr",
     "output_type": "stream",
     "text": [
      "Epoch 75: 100%|██████████| 58/58 [00:23<00:00,  2.47batch/s, loss=2.63]\n"
     ]
    },
    {
     "name": "stdout",
     "output_type": "stream",
     "text": [
      "Saving model to model_100epoch/model_output/save/model.pth with loss = 2.4437993294434532.\n",
      "Finished epoch 75 with loss=2.4437993294434532.\n"
     ]
    },
    {
     "name": "stderr",
     "output_type": "stream",
     "text": [
      "Epoch 76: 100%|██████████| 58/58 [00:23<00:00,  2.47batch/s, loss=2.57]\n"
     ]
    },
    {
     "name": "stdout",
     "output_type": "stream",
     "text": [
      "Finished epoch 76 with loss=2.4437993294434532.\n"
     ]
    },
    {
     "name": "stderr",
     "output_type": "stream",
     "text": [
      "Epoch 77: 100%|██████████| 58/58 [00:23<00:00,  2.47batch/s, loss=2.74]\n"
     ]
    },
    {
     "name": "stdout",
     "output_type": "stream",
     "text": [
      "Finished epoch 77 with loss=2.4437993294434532.\n"
     ]
    },
    {
     "name": "stderr",
     "output_type": "stream",
     "text": [
      "Epoch 78: 100%|██████████| 58/58 [00:23<00:00,  2.47batch/s, loss=2.09]\n"
     ]
    },
    {
     "name": "stdout",
     "output_type": "stream",
     "text": [
      "Finished epoch 78 with loss=2.4437993294434532.\n"
     ]
    },
    {
     "name": "stderr",
     "output_type": "stream",
     "text": [
      "Epoch 79: 100%|██████████| 58/58 [00:23<00:00,  2.47batch/s, loss=2.12]\n"
     ]
    },
    {
     "name": "stdout",
     "output_type": "stream",
     "text": [
      "Saving model to model_100epoch/model_output/save/model.pth with loss = 2.3656581521490985.\n",
      "Finished epoch 79 with loss=2.3656581521490985.\n"
     ]
    },
    {
     "name": "stderr",
     "output_type": "stream",
     "text": [
      "Epoch 80: 100%|██████████| 58/58 [00:23<00:00,  2.48batch/s, loss=2.1] \n"
     ]
    },
    {
     "name": "stdout",
     "output_type": "stream",
     "text": [
      "Saving model to model_100epoch/model_output/save/model.pth with loss = 2.252840948059184.\n",
      "Finished epoch 80 with loss=2.252840948059184.\n"
     ]
    },
    {
     "name": "stderr",
     "output_type": "stream",
     "text": [
      "Epoch 81: 100%|██████████| 58/58 [00:23<00:00,  2.47batch/s, loss=3.43]\n"
     ]
    },
    {
     "name": "stdout",
     "output_type": "stream",
     "text": [
      "Finished epoch 81 with loss=2.252840948059184.\n"
     ]
    },
    {
     "name": "stderr",
     "output_type": "stream",
     "text": [
      "Epoch 82: 100%|██████████| 58/58 [00:23<00:00,  2.47batch/s, loss=2.26]\n"
     ]
    },
    {
     "name": "stdout",
     "output_type": "stream",
     "text": [
      "Finished epoch 82 with loss=2.252840948059184.\n"
     ]
    },
    {
     "name": "stderr",
     "output_type": "stream",
     "text": [
      "Epoch 83: 100%|██████████| 58/58 [00:23<00:00,  2.47batch/s, loss=2.41]\n"
     ]
    },
    {
     "name": "stdout",
     "output_type": "stream",
     "text": [
      "Finished epoch 83 with loss=2.252840948059184.\n"
     ]
    },
    {
     "name": "stderr",
     "output_type": "stream",
     "text": [
      "Epoch 84: 100%|██████████| 58/58 [00:23<00:00,  2.47batch/s, loss=2.7] \n"
     ]
    },
    {
     "name": "stdout",
     "output_type": "stream",
     "text": [
      "Finished epoch 84 with loss=2.252840948059184.\n"
     ]
    },
    {
     "name": "stderr",
     "output_type": "stream",
     "text": [
      "Epoch 85: 100%|██████████| 58/58 [00:23<00:00,  2.48batch/s, loss=2.19]\n"
     ]
    },
    {
     "name": "stdout",
     "output_type": "stream",
     "text": [
      "Saving model to model_100epoch/model_output/save/model.pth with loss = 2.2333050301705284.\n",
      "Finished epoch 85 with loss=2.2333050301705284.\n"
     ]
    },
    {
     "name": "stderr",
     "output_type": "stream",
     "text": [
      "Epoch 86: 100%|██████████| 58/58 [00:23<00:00,  2.49batch/s, loss=4.68]\n"
     ]
    },
    {
     "name": "stdout",
     "output_type": "stream",
     "text": [
      "Finished epoch 86 with loss=2.2333050301705284.\n"
     ]
    },
    {
     "name": "stderr",
     "output_type": "stream",
     "text": [
      "Epoch 87: 100%|██████████| 58/58 [00:23<00:00,  2.47batch/s, loss=2.75]\n"
     ]
    },
    {
     "name": "stdout",
     "output_type": "stream",
     "text": [
      "Finished epoch 87 with loss=2.2333050301705284.\n"
     ]
    },
    {
     "name": "stderr",
     "output_type": "stream",
     "text": [
      "Epoch 88: 100%|██████████| 58/58 [00:25<00:00,  2.26batch/s, loss=2.35]\n"
     ]
    },
    {
     "name": "stdout",
     "output_type": "stream",
     "text": [
      "Finished epoch 88 with loss=2.2333050301705284.\n"
     ]
    },
    {
     "name": "stderr",
     "output_type": "stream",
     "text": [
      "Epoch 89: 100%|██████████| 58/58 [00:35<00:00,  1.62batch/s, loss=1.98]\n"
     ]
    },
    {
     "name": "stdout",
     "output_type": "stream",
     "text": [
      "Finished epoch 89 with loss=2.2333050301705284.\n"
     ]
    },
    {
     "name": "stderr",
     "output_type": "stream",
     "text": [
      "Epoch 90: 100%|██████████| 58/58 [00:25<00:00,  2.29batch/s, loss=2.14]\n"
     ]
    },
    {
     "name": "stdout",
     "output_type": "stream",
     "text": [
      "Finished epoch 90 with loss=2.2333050301705284.\n"
     ]
    },
    {
     "name": "stderr",
     "output_type": "stream",
     "text": [
      "Epoch 91: 100%|██████████| 58/58 [00:27<00:00,  2.08batch/s, loss=2.01]\n"
     ]
    },
    {
     "name": "stdout",
     "output_type": "stream",
     "text": [
      "Finished epoch 91 with loss=2.2333050301705284.\n"
     ]
    },
    {
     "name": "stderr",
     "output_type": "stream",
     "text": [
      "Epoch 92: 100%|██████████| 58/58 [00:26<00:00,  2.22batch/s, loss=6.45]\n"
     ]
    },
    {
     "name": "stdout",
     "output_type": "stream",
     "text": [
      "Finished epoch 92 with loss=2.2333050301705284.\n"
     ]
    },
    {
     "name": "stderr",
     "output_type": "stream",
     "text": [
      "Epoch 93: 100%|██████████| 58/58 [00:23<00:00,  2.46batch/s, loss=2.63]\n"
     ]
    },
    {
     "name": "stdout",
     "output_type": "stream",
     "text": [
      "Finished epoch 93 with loss=2.2333050301705284.\n"
     ]
    },
    {
     "name": "stderr",
     "output_type": "stream",
     "text": [
      "Epoch 94: 100%|██████████| 58/58 [00:26<00:00,  2.22batch/s, loss=1.95]\n"
     ]
    },
    {
     "name": "stdout",
     "output_type": "stream",
     "text": [
      "Finished epoch 94 with loss=2.2333050301705284.\n"
     ]
    },
    {
     "name": "stderr",
     "output_type": "stream",
     "text": [
      "Epoch 95: 100%|██████████| 58/58 [00:27<00:00,  2.09batch/s, loss=2.14]\n"
     ]
    },
    {
     "name": "stdout",
     "output_type": "stream",
     "text": [
      "Finished epoch 95 with loss=2.2333050301705284.\n"
     ]
    },
    {
     "name": "stderr",
     "output_type": "stream",
     "text": [
      "Epoch 96: 100%|██████████| 58/58 [00:25<00:00,  2.29batch/s, loss=2.55]\n"
     ]
    },
    {
     "name": "stdout",
     "output_type": "stream",
     "text": [
      "Finished epoch 96 with loss=2.2333050301705284.\n"
     ]
    },
    {
     "name": "stderr",
     "output_type": "stream",
     "text": [
      "Epoch 97: 100%|██████████| 58/58 [00:23<00:00,  2.42batch/s, loss=3.29]\n"
     ]
    },
    {
     "name": "stdout",
     "output_type": "stream",
     "text": [
      "Finished epoch 97 with loss=2.2333050301705284.\n"
     ]
    },
    {
     "name": "stderr",
     "output_type": "stream",
     "text": [
      "Epoch 98: 100%|██████████| 58/58 [00:23<00:00,  2.46batch/s, loss=1.91]\n"
     ]
    },
    {
     "name": "stdout",
     "output_type": "stream",
     "text": [
      "Saving model to model_100epoch/model_output/save/model.pth with loss = 2.154494004916414.\n",
      "Finished epoch 98 with loss=2.154494004916414.\n"
     ]
    },
    {
     "name": "stderr",
     "output_type": "stream",
     "text": [
      "Epoch 99: 100%|██████████| 58/58 [00:23<00:00,  2.47batch/s, loss=1.84]"
     ]
    },
    {
     "name": "stdout",
     "output_type": "stream",
     "text": [
      "Saving model to model_100epoch/model_output/save/model.pth with loss = 2.0414001083008633.\n",
      "Finished epoch 99 with loss=2.0414001083008633.\n",
      "Finished training 100 epochs.\n"
     ]
    },
    {
     "name": "stderr",
     "output_type": "stream",
     "text": [
      "\n"
     ]
    },
    {
     "data": {
      "text/plain": [
       "(CloudAutoEncoder(\n",
       "   (encoder): DGCNNEncoder(\n",
       "     (conv1): Sequential(\n",
       "       (0): Conv2d(6, 64, kernel_size=(1, 1), stride=(1, 1), bias=False)\n",
       "       (1): BatchNorm2d(64, eps=1e-05, momentum=0.1, affine=True, track_running_stats=True)\n",
       "       (2): LeakyReLU(negative_slope=0.2)\n",
       "     )\n",
       "     (conv2): Sequential(\n",
       "       (0): Conv2d(128, 64, kernel_size=(1, 1), stride=(1, 1), bias=False)\n",
       "       (1): BatchNorm2d(64, eps=1e-05, momentum=0.1, affine=True, track_running_stats=True)\n",
       "       (2): LeakyReLU(negative_slope=0.2)\n",
       "     )\n",
       "     (conv3): Sequential(\n",
       "       (0): Conv2d(128, 128, kernel_size=(1, 1), stride=(1, 1), bias=False)\n",
       "       (1): BatchNorm2d(128, eps=1e-05, momentum=0.1, affine=True, track_running_stats=True)\n",
       "       (2): LeakyReLU(negative_slope=0.2)\n",
       "     )\n",
       "     (conv4): Sequential(\n",
       "       (0): Conv2d(256, 256, kernel_size=(1, 1), stride=(1, 1), bias=False)\n",
       "       (1): BatchNorm2d(256, eps=1e-05, momentum=0.1, affine=True, track_running_stats=True)\n",
       "       (2): LeakyReLU(negative_slope=0.2)\n",
       "     )\n",
       "     (conv5): Sequential(\n",
       "       (0): Conv1d(512, 512, kernel_size=(1,), stride=(1,), bias=False)\n",
       "       (1): BatchNorm1d(512, eps=1e-05, momentum=0.1, affine=True, track_running_stats=True)\n",
       "       (2): LeakyReLU(negative_slope=0.2)\n",
       "     )\n",
       "     (flatten): Flatten()\n",
       "     (embedding): Linear(in_features=512, out_features=128, bias=False)\n",
       "   )\n",
       "   (decoder): FoldNetDecoder(\n",
       "     (folding1): Sequential(\n",
       "       (0): Conv1d(514, 512, kernel_size=(1,), stride=(1,))\n",
       "       (1): ReLU()\n",
       "       (2): Conv1d(512, 512, kernel_size=(1,), stride=(1,))\n",
       "       (3): ReLU()\n",
       "       (4): Conv1d(512, 3, kernel_size=(1,), stride=(1,))\n",
       "     )\n",
       "     (folding2): Sequential(\n",
       "       (0): Conv1d(515, 512, kernel_size=(1,), stride=(1,))\n",
       "       (1): ReLU()\n",
       "       (2): Conv1d(512, 512, kernel_size=(1,), stride=(1,))\n",
       "       (3): ReLU()\n",
       "       (4): Conv1d(512, 3, kernel_size=(1,), stride=(1,))\n",
       "     )\n",
       "     (deembedding): Linear(in_features=128, out_features=512, bias=False)\n",
       "   )\n",
       " ),\n",
       " 'model_100epoch/model_output/logging/directory',\n",
       " 'model_100epoch/model_output/save/model.pth',\n",
       " 'model_100epoch/model_output/tensorboard/logs',\n",
       " 'my_experiment')"
      ]
     },
     "execution_count": 10,
     "metadata": {},
     "output_type": "execute_result"
    }
   ],
   "source": [
    "\n",
    "criterion = ChamferLoss()\n",
    "\n",
    "optimizer = torch.optim.Adam(\n",
    "    model.parameters(),\n",
    "    lr=learning_rate * 16 / batch_size,\n",
    "    betas=(0.9, 0.999),\n",
    "    weight_decay=1e-6,\n",
    ")\n",
    "\n",
    "#passing correct logging_infoto `clou_train` by\n",
    "# Define paths and experiment name\n",
    "name_logging = output_dir + \"logging/directory\"\n",
    "name_model = output_dir + \"save/model.pth\"\n",
    "name_writer = output_dir + \"tensorboard/logs\"\n",
    "name = \"my_experiment\"\n",
    "\n",
    "# Make sure directories exist\n",
    "os.makedirs(name_logging, exist_ok=True)\n",
    "os.makedirs(os.path.dirname(name_model), exist_ok=True)  # Since name_model includes the filename\n",
    "os.makedirs(name_writer, exist_ok=True)\n",
    "\n",
    "# Create the logging_info tuple\n",
    "logging_info = (name_logging, name_model, name_writer, name)\n",
    "\n",
    "cloud.train(model, dataloader, num_epochs, criterion, optimizer, logging_info)\n"
   ]
  },
  {
   "cell_type": "code",
   "execution_count": null,
   "metadata": {},
   "outputs": [],
   "source": []
  }
 ],
 "metadata": {
  "kernelspec": {
   "display_name": "Python 3",
   "language": "python",
   "name": "python3"
  },
  "language_info": {
   "codemirror_mode": {
    "name": "ipython",
    "version": 3
   },
   "file_extension": ".py",
   "mimetype": "text/x-python",
   "name": "python",
   "nbconvert_exporter": "python",
   "pygments_lexer": "ipython3",
   "version": "3.8.18"
  }
 },
 "nbformat": 4,
 "nbformat_minor": 4
}
