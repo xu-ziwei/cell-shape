{
 "cells": [
  {
   "cell_type": "markdown",
   "metadata": {},
   "source": [
    "### read segmentation data "
   ]
  },
  {
   "cell_type": "code",
   "execution_count": 2,
   "metadata": {},
   "outputs": [],
   "source": [
    "import cellshape_helper as helper\n",
    "from tifffile import imread\n",
    "import napari\n",
    "from skimage.measure import marching_cubes, regionprops\n",
    "import trimesh\n",
    "import numpy as np"
   ]
  },
  {
   "cell_type": "code",
   "execution_count": 3,
   "metadata": {},
   "outputs": [],
   "source": [
    "membrane_dir = 'data/test_membrane.tif'\n",
    "nuclei_dir = 'data/test_nuclei.tif'\n",
    "membrane_raw_dir = 'data/membrane_raw.tif'\n",
    "nuclei_raw_dir = 'data/nuclei_raw.tif'\n",
    "\n",
    "membrane_seg = imread(membrane_dir)\n",
    "nuclei_seg = imread(nuclei_dir)\n",
    "membrane_raw = imread(membrane_raw_dir)\n",
    "nuclei_raw = imread(nuclei_raw_dir)"
   ]
  },
  {
   "cell_type": "markdown",
   "metadata": {},
   "source": [
    "### `tif_to_mesh` rewrite the function without saving"
   ]
  },
  {
   "cell_type": "code",
   "execution_count": 5,
   "metadata": {},
   "outputs": [],
   "source": [
    "# marching_cubes require 3D input\n",
    "vertices, faces, normals, values = marching_cubes(x)\n",
    "mesh_obj = trimesh.Trimesh(\n",
    "            vertices=vertices, faces=faces, process=False\n",
    "        )\n",
    "mesh_obj.export('data/test_nuclei_x.off')"
   ]
  },
  {
   "cell_type": "code",
   "execution_count": 10,
   "metadata": {},
   "outputs": [],
   "source": [
    "from cellshape_helper.vendor.pytorch_geometric_files import read_off, sample_points\n",
    "# dict pos, face\n",
    "data = read_off('data/test_nuclei_x.off')\n",
    "# change to .numpy() \n",
    "num_points = 1024\n",
    "points = sample_points(data=data, num=num_points).numpy()\n",
    "\n",
    "viewer = napari.Viewer()\n",
    "viewer.add_image(nuclei_raw[0,6:14,1024:1040,895:910])\n",
    "viewer.add_labels(x)\n",
    "\n",
    "# Add the 3D mesh to the viewer\n",
    "viewer.add_surface((vertices, faces, values), name=\"Marching Cubes Mesh\")\n",
    "\n",
    "# Add the sampled points to the viewer\n",
    "viewer.add_points(points, size=1, name=\"Sampled Points\")"
   ]
  },
  {
   "cell_type": "markdown",
   "metadata": {},
   "source": [
    "### Creat single cell box"
   ]
  },
  {
   "cell_type": "code",
   "execution_count": 7,
   "metadata": {},
   "outputs": [],
   "source": [
    "from skimage import measure\n",
    "from tifffile import imwrite\n",
    "from skimage import measure\n",
    "import os\n",
    "from tqdm import tqdm\n",
    "\n",
    "\n",
    "def get_max_dims(seg_img):\n",
    "    max_dims = np.array([0, 0, 0])\n",
    "    # Determine the dimensions of the largest bounding box\n",
    "    for region in measure.regionprops(seg_img):\n",
    "        minz, miny, minx, maxz, maxy, maxx = region.bbox\n",
    "        dims = np.array([maxz-minz, maxy-miny, maxx-minx])\n",
    "        max_dims = np.maximum(max_dims, dims)\n",
    "    \n",
    "    return max_dims\n",
    "\n",
    "\n",
    "seg_img = nuclei_seg[0]\n",
    "max_dims = get_max_dims(seg_img)\n",
    "\n",
    "# Add a margin to max_dims\n",
    "margin = np.array([5, 10, 10])  # adjust the values as needed\n",
    "max_dims_with_margin = max_dims + margin"
   ]
  },
  {
   "cell_type": "code",
   "execution_count": 10,
   "metadata": {},
   "outputs": [
    {
     "name": "stderr",
     "output_type": "stream",
     "text": [
      "Processing Cells: 100%|██████████| 921/921 [00:04<00:00, 208.53it/s]\n"
     ]
    }
   ],
   "source": [
    "def save_individual_label(seg_img, save_singlecell_dir, max_dims_with_margin):\n",
    "    regions = measure.regionprops(seg_img)\n",
    "    num_cells = len(regions)\n",
    "    all_cells = np.zeros((num_cells, *max_dims_with_margin), dtype=seg_img.dtype)\n",
    "\n",
    "    if not os.path.exists(save_singlecell_dir):\n",
    "        os.makedirs(save_singlecell_dir)\n",
    "\n",
    "    # Wrap the loop with tqdm to create a progress bar\n",
    "    for i, region in tqdm(enumerate(regions), total=num_cells, desc=\"Processing Cells\"):\n",
    "        minz, miny, minx, maxz, maxy, maxx = region.bbox\n",
    "        cropped_image = seg_img[minz:maxz, miny:maxy, minx:maxx]\n",
    "        label_mask = (cropped_image == region.label)\n",
    "\n",
    "        padding = [\n",
    "            ((max_dims_with_margin[0] - label_mask.shape[0]) // 2,\n",
    "             max_dims_with_margin[0] - label_mask.shape[0] - ((max_dims_with_margin[0] - label_mask.shape[0]) // 2)),\n",
    "            ((max_dims_with_margin[1] - label_mask.shape[1]) // 2,\n",
    "             max_dims_with_margin[1] - label_mask.shape[1] - ((max_dims_with_margin[1] - label_mask.shape[1]) // 2)),\n",
    "            ((max_dims_with_margin[2] - label_mask.shape[2]) // 2,\n",
    "             max_dims_with_margin[2] - label_mask.shape[2] - ((max_dims_with_margin[2] - label_mask.shape[2]) // 2))\n",
    "        ]\n",
    "\n",
    "        padded_image = np.pad(label_mask, padding, mode='constant', constant_values=0)\n",
    "        # Save the padded image with the label as the filename\n",
    "        imwrite(f\"{save_singlecell_dir}/{region.label}.tif\", padded_image)\n",
    "        all_cells[i] = padded_image\n",
    "\n",
    "    return all_cells  # This line is now correctly placed outside of the for loop.\n",
    "\n",
    "\n",
    "\n",
    "save_singlecell_dir = 'data/singlecell'\n",
    "all_cells = save_individual_label(seg_img, save_singlecell_dir, max_dims_with_margin)"
   ]
  },
  {
   "cell_type": "code",
   "execution_count": 11,
   "metadata": {},
   "outputs": [
    {
     "data": {
      "text/plain": [
       "<Labels layer 'all_cells' at 0x2cfcedef880>"
      ]
     },
     "execution_count": 11,
     "metadata": {},
     "output_type": "execute_result"
    }
   ],
   "source": [
    "viewer = napari.Viewer()\n",
    "viewer.add_labels(all_cells)"
   ]
  },
  {
   "cell_type": "markdown",
   "metadata": {},
   "source": [
    "### cellshape"
   ]
  },
  {
   "cell_type": "markdown",
   "metadata": {},
   "source": [
    "#### read from crop pointcloud "
   ]
  },
  {
   "cell_type": "code",
   "execution_count": 13,
   "metadata": {},
   "outputs": [
    {
     "name": "stderr",
     "output_type": "stream",
     "text": [
      "  0%|          | 0/921 [00:00<?, ?it/s]"
     ]
    },
    {
     "name": "stderr",
     "output_type": "stream",
     "text": [
      "100%|██████████| 921/921 [00:15<00:00, 60.20it/s]\n",
      "100%|██████████| 921/921 [00:42<00:00, 21.74it/s]\n"
     ]
    }
   ],
   "source": [
    "PATH_TO_TIF_FILES = \"data/singlecell\"\n",
    "PATH_TO_SAVE_MESH = \"data/mesh/\"\n",
    "PATH_TO_SAVE_PC = \"data/pointcloud/\"\n",
    "NUM_POINTS = 2048\n",
    "\n",
    "helper.tif_to_pc_directory(PATH_TO_TIF_FILES, \n",
    "                           PATH_TO_SAVE_MESH, \n",
    "                           PATH_TO_SAVE_PC, \n",
    "                           NUM_POINTS)"
   ]
  },
  {
   "cell_type": "code",
   "execution_count": 2,
   "metadata": {},
   "outputs": [],
   "source": [
    "import torch\n",
    "from cellshape_cloud import CloudAutoEncoder\n",
    "\n",
    "model = CloudAutoEncoder(num_features=128, \n",
    "                         k=20,\n",
    "                         encoder_type=\"dgcnn\",\n",
    "                         decoder_type=\"foldingnet\")\n",
    "\n",
    "\n",
    "\n",
    "# model is not trained so far\n",
    "points = torch.randn(1, 2048, 3)\n",
    "recon, features = model(points)"
   ]
  },
  {
   "cell_type": "code",
   "execution_count": 3,
   "metadata": {},
   "outputs": [
    {
     "data": {
      "text/plain": [
       "<Points layer 'recon Points' at 0x129c6127a00>"
      ]
     },
     "execution_count": 3,
     "metadata": {},
     "output_type": "execute_result"
    }
   ],
   "source": [
    "\n",
    "# Convert tensor to numpy array\n",
    "recon_np = recon.detach().cpu().numpy()\n",
    "viewer = napari.Viewer()\n",
    "viewer.add_points(points.numpy()[0], size=1, name=\"Test Points\")\n",
    "viewer.add_points(recon_np[0], size=1, name=\"recon Points\")"
   ]
  },
  {
   "cell_type": "markdown",
   "metadata": {},
   "source": [
    "#### To train an autoencoder on a set of point clouds created using cellshape-helper:"
   ]
  },
  {
   "cell_type": "code",
   "execution_count": 1,
   "metadata": {},
   "outputs": [],
   "source": [
    "import torch\n",
    "from torch.utils.data import DataLoader\n",
    "\n",
    "import cellshape_cloud as cloud\n",
    "from cellshape_cloud.vendor.chamfer_distance import ChamferLoss\n",
    "\n",
    "input_dir = \"data/pointcloud/\"\n",
    "batch_size = 16\n",
    "learning_rate = 0.0001\n",
    "num_epochs = 100\n",
    "output_dir = \"model_100epoch/model_output/\"\n",
    "\n",
    "model = cloud.CloudAutoEncoder(num_features=128, \n",
    "                         k=40,\n",
    "                         encoder_type=\"dgcnn\",\n",
    "                         decoder_type=\"foldingnet\")\n",
    "\n",
    "\n",
    "dataset = cloud.PointCloudDataset(input_dir)\n",
    "\n",
    "dataloader = DataLoader(dataset, batch_size=batch_size, shuffle=True)"
   ]
  },
  {
   "cell_type": "code",
   "execution_count": 5,
   "metadata": {},
   "outputs": [],
   "source": [
    "from cellshape_cloud.vendor import get_graph_feature\n",
    "data_iter = iter(dataloader)\n",
    "point_clouds = next(data_iter)\n",
    "x = point_clouds[0]\n",
    "x = x.transpose(2, 1)\n",
    "batch_size = x.size(0)\n",
    "graph_feature = get_graph_feature(x, k=40)\n"
   ]
  },
  {
   "cell_type": "code",
   "execution_count": 37,
   "metadata": {},
   "outputs": [],
   "source": [
    "knn_graph = graph_feature.numpy()\n",
    "\n",
    "knn = knn_graph[0,:,0,:]"
   ]
  },
  {
   "cell_type": "code",
   "execution_count": 7,
   "metadata": {},
   "outputs": [],
   "source": [
    "\"\"\"\n",
    "according to cellshape_cloud/pointcloud_dataset.py class PointCloudDataset(Dataset)\n",
    "each data point in your dataset is a tuple of four elements: (point_cloud, 0, 0, 0)\n",
    "\n",
    "data_iter = iter(dataloader)\n",
    "first_batch = next(data_iter)\n",
    "first_batch_point_clouds = first_batch[0]\n",
    "\n",
    "first_batch_point_clouds shape is (16,2048,3)\n",
    "first_batch[1], first_batch[2], first_batch[4] is (16,) the value is 0\n",
    "\n",
    "\"\"\""
   ]
  },
  {
   "cell_type": "code",
   "execution_count": 32,
   "metadata": {},
   "outputs": [
    {
     "name": "stderr",
     "output_type": "stream",
     "text": [
      "  0%|          | 0/58 [00:00<?, ?batch/s]"
     ]
    },
    {
     "name": "stderr",
     "output_type": "stream",
     "text": [
      "Epoch 0: 100%|██████████| 58/58 [18:55<00:00, 19.58s/batch, loss=425]\n"
     ]
    },
    {
     "name": "stdout",
     "output_type": "stream",
     "text": [
      "Saving model to model_100epoch/model_output/save/model.pth with loss = 389.89953250811936.\n",
      "Finished epoch 0 with loss=389.89953250811936.\n"
     ]
    },
    {
     "name": "stderr",
     "output_type": "stream",
     "text": [
      "Epoch 1: 100%|██████████| 58/58 [18:53<00:00, 19.54s/batch, loss=322]\n"
     ]
    },
    {
     "name": "stdout",
     "output_type": "stream",
     "text": [
      "Saving model to model_100epoch/model_output/save/model.pth with loss = 380.37533095787313.\n",
      "Finished epoch 1 with loss=380.37533095787313.\n"
     ]
    },
    {
     "name": "stderr",
     "output_type": "stream",
     "text": [
      "Epoch 2: 100%|██████████| 58/58 [18:52<00:00, 19.53s/batch, loss=225]\n"
     ]
    },
    {
     "name": "stdout",
     "output_type": "stream",
     "text": [
      "Saving model to model_100epoch/model_output/save/model.pth with loss = 336.4736464343308.\n",
      "Finished epoch 2 with loss=336.4736464343308.\n"
     ]
    },
    {
     "name": "stderr",
     "output_type": "stream",
     "text": [
      "Epoch 3: 100%|██████████| 58/58 [18:52<00:00, 19.52s/batch, loss=157]\n"
     ]
    },
    {
     "name": "stdout",
     "output_type": "stream",
     "text": [
      "Saving model to model_100epoch/model_output/save/model.pth with loss = 243.9528245889364.\n",
      "Finished epoch 3 with loss=243.9528245889364.\n"
     ]
    },
    {
     "name": "stderr",
     "output_type": "stream",
     "text": [
      "Epoch 4: 100%|██████████| 58/58 [18:50<00:00, 19.50s/batch, loss=272]\n"
     ]
    },
    {
     "name": "stdout",
     "output_type": "stream",
     "text": [
      "Saving model to model_100epoch/model_output/save/model.pth with loss = 224.9505431076576.\n",
      "Finished epoch 4 with loss=224.9505431076576.\n"
     ]
    },
    {
     "name": "stderr",
     "output_type": "stream",
     "text": [
      "Epoch 5: 100%|██████████| 58/58 [18:51<00:00, 19.50s/batch, loss=193]\n"
     ]
    },
    {
     "name": "stdout",
     "output_type": "stream",
     "text": [
      "Saving model to model_100epoch/model_output/save/model.pth with loss = 197.65087336690033.\n",
      "Finished epoch 5 with loss=197.65087336690033.\n"
     ]
    },
    {
     "name": "stderr",
     "output_type": "stream",
     "text": [
      "Epoch 6: 100%|██████████| 58/58 [18:46<00:00, 19.42s/batch, loss=113]\n"
     ]
    },
    {
     "name": "stdout",
     "output_type": "stream",
     "text": [
      "Saving model to model_100epoch/model_output/save/model.pth with loss = 170.6148329840766.\n",
      "Finished epoch 6 with loss=170.6148329840766.\n"
     ]
    },
    {
     "name": "stderr",
     "output_type": "stream",
     "text": [
      "Epoch 7: 100%|██████████| 58/58 [18:44<00:00, 19.39s/batch, loss=128] \n"
     ]
    },
    {
     "name": "stdout",
     "output_type": "stream",
     "text": [
      "Saving model to model_100epoch/model_output/save/model.pth with loss = 125.43940752402119.\n",
      "Finished epoch 7 with loss=125.43940752402119.\n"
     ]
    },
    {
     "name": "stderr",
     "output_type": "stream",
     "text": [
      "Epoch 8: 100%|██████████| 58/58 [18:47<00:00, 19.45s/batch, loss=74.8]\n"
     ]
    },
    {
     "name": "stdout",
     "output_type": "stream",
     "text": [
      "Saving model to model_100epoch/model_output/save/model.pth with loss = 105.85036203230935.\n",
      "Finished epoch 8 with loss=105.85036203230935.\n"
     ]
    },
    {
     "name": "stderr",
     "output_type": "stream",
     "text": [
      "Epoch 9: 100%|██████████| 58/58 [18:45<00:00, 19.40s/batch, loss=79]  \n"
     ]
    },
    {
     "name": "stdout",
     "output_type": "stream",
     "text": [
      "Saving model to model_100epoch/model_output/save/model.pth with loss = 92.14523984097887.\n",
      "Finished epoch 9 with loss=92.14523984097887.\n"
     ]
    },
    {
     "name": "stderr",
     "output_type": "stream",
     "text": [
      "Epoch 10: 100%|██████████| 58/58 [18:46<00:00, 19.42s/batch, loss=81.5]\n"
     ]
    },
    {
     "name": "stdout",
     "output_type": "stream",
     "text": [
      "Saving model to model_100epoch/model_output/save/model.pth with loss = 84.784756196413.\n",
      "Finished epoch 10 with loss=84.784756196413.\n"
     ]
    },
    {
     "name": "stderr",
     "output_type": "stream",
     "text": [
      "Epoch 11: 100%|██████████| 58/58 [18:50<00:00, 19.49s/batch, loss=72.1]\n"
     ]
    },
    {
     "name": "stdout",
     "output_type": "stream",
     "text": [
      "Saving model to model_100epoch/model_output/save/model.pth with loss = 79.43396693993346.\n",
      "Finished epoch 11 with loss=79.43396693993346.\n"
     ]
    },
    {
     "name": "stderr",
     "output_type": "stream",
     "text": [
      "Epoch 12: 100%|██████████| 58/58 [18:57<00:00, 19.60s/batch, loss=68.5]\n"
     ]
    },
    {
     "name": "stdout",
     "output_type": "stream",
     "text": [
      "Saving model to model_100epoch/model_output/save/model.pth with loss = 79.10553684453853.\n",
      "Finished epoch 12 with loss=79.10553684453853.\n"
     ]
    },
    {
     "name": "stderr",
     "output_type": "stream",
     "text": [
      "Epoch 13: 100%|██████████| 58/58 [18:50<00:00, 19.49s/batch, loss=86.4]\n"
     ]
    },
    {
     "name": "stdout",
     "output_type": "stream",
     "text": [
      "Finished epoch 13 with loss=79.10553684453853.\n"
     ]
    },
    {
     "name": "stderr",
     "output_type": "stream",
     "text": [
      "Epoch 14: 100%|██████████| 58/58 [18:52<00:00, 19.53s/batch, loss=70.1]\n"
     ]
    },
    {
     "name": "stdout",
     "output_type": "stream",
     "text": [
      "Saving model to model_100epoch/model_output/save/model.pth with loss = 76.90956861123271.\n",
      "Finished epoch 14 with loss=76.90956861123271.\n"
     ]
    },
    {
     "name": "stderr",
     "output_type": "stream",
     "text": [
      "Epoch 15: 100%|██████████| 58/58 [18:46<00:00, 19.42s/batch, loss=68.4]\n"
     ]
    },
    {
     "name": "stdout",
     "output_type": "stream",
     "text": [
      "Saving model to model_100epoch/model_output/save/model.pth with loss = 76.06322137971492.\n",
      "Finished epoch 15 with loss=76.06322137971492.\n"
     ]
    },
    {
     "name": "stderr",
     "output_type": "stream",
     "text": [
      "Epoch 16: 100%|██████████| 58/58 [18:48<00:00, 19.46s/batch, loss=52.1]\n"
     ]
    },
    {
     "name": "stdout",
     "output_type": "stream",
     "text": [
      "Saving model to model_100epoch/model_output/save/model.pth with loss = 73.24878879707892.\n",
      "Finished epoch 16 with loss=73.24878879707892.\n"
     ]
    },
    {
     "name": "stderr",
     "output_type": "stream",
     "text": [
      "Epoch 17: 100%|██████████| 58/58 [18:49<00:00, 19.47s/batch, loss=62.4]\n"
     ]
    },
    {
     "name": "stdout",
     "output_type": "stream",
     "text": [
      "Saving model to model_100epoch/model_output/save/model.pth with loss = 72.20451228554677.\n",
      "Finished epoch 17 with loss=72.20451228554677.\n"
     ]
    },
    {
     "name": "stderr",
     "output_type": "stream",
     "text": [
      "Epoch 18: 100%|██████████| 58/58 [18:51<00:00, 19.50s/batch, loss=88.5]\n"
     ]
    },
    {
     "name": "stdout",
     "output_type": "stream",
     "text": [
      "Saving model to model_100epoch/model_output/save/model.pth with loss = 71.30880058405499.\n",
      "Finished epoch 18 with loss=71.30880058405499.\n"
     ]
    },
    {
     "name": "stderr",
     "output_type": "stream",
     "text": [
      "Epoch 19: 100%|██████████| 58/58 [18:47<00:00, 19.44s/batch, loss=58.4]\n"
     ]
    },
    {
     "name": "stdout",
     "output_type": "stream",
     "text": [
      "Saving model to model_100epoch/model_output/save/model.pth with loss = 70.80668499826015.\n",
      "Finished epoch 19 with loss=70.80668499826015.\n"
     ]
    },
    {
     "name": "stderr",
     "output_type": "stream",
     "text": [
      "Epoch 20: 100%|██████████| 58/58 [18:51<00:00, 19.50s/batch, loss=65.1]\n"
     ]
    },
    {
     "name": "stdout",
     "output_type": "stream",
     "text": [
      "Saving model to model_100epoch/model_output/save/model.pth with loss = 68.80596199620273.\n",
      "Finished epoch 20 with loss=68.80596199620273.\n"
     ]
    },
    {
     "name": "stderr",
     "output_type": "stream",
     "text": [
      "Epoch 21: 100%|██████████| 58/58 [18:48<00:00, 19.45s/batch, loss=60.6]\n"
     ]
    },
    {
     "name": "stdout",
     "output_type": "stream",
     "text": [
      "Saving model to model_100epoch/model_output/save/model.pth with loss = 66.90236143499499.\n",
      "Finished epoch 21 with loss=66.90236143499499.\n"
     ]
    },
    {
     "name": "stderr",
     "output_type": "stream",
     "text": [
      "Epoch 22: 100%|██████████| 58/58 [18:52<00:00, 19.52s/batch, loss=72.7]\n"
     ]
    },
    {
     "name": "stdout",
     "output_type": "stream",
     "text": [
      "Finished epoch 22 with loss=66.90236143499499.\n"
     ]
    },
    {
     "name": "stderr",
     "output_type": "stream",
     "text": [
      "Epoch 23: 100%|██████████| 58/58 [18:50<00:00, 19.49s/batch, loss=70.8]\n"
     ]
    },
    {
     "name": "stdout",
     "output_type": "stream",
     "text": [
      "Finished epoch 23 with loss=66.90236143499499.\n"
     ]
    },
    {
     "name": "stderr",
     "output_type": "stream",
     "text": [
      "Epoch 24: 100%|██████████| 58/58 [18:49<00:00, 19.47s/batch, loss=56.8]\n"
     ]
    },
    {
     "name": "stdout",
     "output_type": "stream",
     "text": [
      "Saving model to model_100epoch/model_output/save/model.pth with loss = 66.08238660878149.\n",
      "Finished epoch 24 with loss=66.08238660878149.\n"
     ]
    },
    {
     "name": "stderr",
     "output_type": "stream",
     "text": [
      "Epoch 25: 100%|██████████| 58/58 [18:43<00:00, 19.37s/batch, loss=49.2]\n"
     ]
    },
    {
     "name": "stdout",
     "output_type": "stream",
     "text": [
      "Finished epoch 25 with loss=66.08238660878149.\n"
     ]
    },
    {
     "name": "stderr",
     "output_type": "stream",
     "text": [
      "Epoch 26: 100%|██████████| 58/58 [18:50<00:00, 19.50s/batch, loss=41]  \n"
     ]
    },
    {
     "name": "stdout",
     "output_type": "stream",
     "text": [
      "Saving model to model_100epoch/model_output/save/model.pth with loss = 65.52441828643681.\n",
      "Finished epoch 26 with loss=65.52441828643681.\n"
     ]
    },
    {
     "name": "stderr",
     "output_type": "stream",
     "text": [
      "Epoch 27: 100%|██████████| 58/58 [18:50<00:00, 19.50s/batch, loss=53.3]\n"
     ]
    },
    {
     "name": "stdout",
     "output_type": "stream",
     "text": [
      "Saving model to model_100epoch/model_output/save/model.pth with loss = 63.60736029175506.\n",
      "Finished epoch 27 with loss=63.60736029175506.\n"
     ]
    },
    {
     "name": "stderr",
     "output_type": "stream",
     "text": [
      "Epoch 28: 100%|██████████| 58/58 [18:58<00:00, 19.63s/batch, loss=75.8]\n"
     ]
    },
    {
     "name": "stdout",
     "output_type": "stream",
     "text": [
      "Saving model to model_100epoch/model_output/save/model.pth with loss = 63.23286808496234.\n",
      "Finished epoch 28 with loss=63.23286808496234.\n"
     ]
    },
    {
     "name": "stderr",
     "output_type": "stream",
     "text": [
      "Epoch 29: 100%|██████████| 58/58 [18:54<00:00, 19.56s/batch, loss=64.9]\n"
     ]
    },
    {
     "name": "stdout",
     "output_type": "stream",
     "text": [
      "Saving model to model_100epoch/model_output/save/model.pth with loss = 61.98649920174903.\n",
      "Finished epoch 29 with loss=61.98649920174903.\n"
     ]
    },
    {
     "name": "stderr",
     "output_type": "stream",
     "text": [
      "Epoch 30: 100%|██████████| 58/58 [18:50<00:00, 19.49s/batch, loss=78]  \n"
     ]
    },
    {
     "name": "stdout",
     "output_type": "stream",
     "text": [
      "Saving model to model_100epoch/model_output/save/model.pth with loss = 60.90384578339442.\n",
      "Finished epoch 30 with loss=60.90384578339442.\n"
     ]
    },
    {
     "name": "stderr",
     "output_type": "stream",
     "text": [
      "Epoch 31: 100%|██████████| 58/58 [18:50<00:00, 19.49s/batch, loss=66.5]\n"
     ]
    },
    {
     "name": "stdout",
     "output_type": "stream",
     "text": [
      "Finished epoch 31 with loss=60.90384578339442.\n"
     ]
    },
    {
     "name": "stderr",
     "output_type": "stream",
     "text": [
      "Epoch 32: 100%|██████████| 58/58 [18:54<00:00, 19.56s/batch, loss=58.7]\n"
     ]
    },
    {
     "name": "stdout",
     "output_type": "stream",
     "text": [
      "Saving model to model_100epoch/model_output/save/model.pth with loss = 57.449645433389364.\n",
      "Finished epoch 32 with loss=57.449645433389364.\n"
     ]
    },
    {
     "name": "stderr",
     "output_type": "stream",
     "text": [
      "Epoch 33: 100%|██████████| 58/58 [18:48<00:00, 19.47s/batch, loss=68.6]\n"
     ]
    },
    {
     "name": "stdout",
     "output_type": "stream",
     "text": [
      "Saving model to model_100epoch/model_output/save/model.pth with loss = 54.914672566556376.\n",
      "Finished epoch 33 with loss=54.914672566556376.\n"
     ]
    },
    {
     "name": "stderr",
     "output_type": "stream",
     "text": [
      "Epoch 34: 100%|██████████| 58/58 [18:44<00:00, 19.39s/batch, loss=50.8]\n"
     ]
    },
    {
     "name": "stdout",
     "output_type": "stream",
     "text": [
      "Finished epoch 34 with loss=54.914672566556376.\n"
     ]
    },
    {
     "name": "stderr",
     "output_type": "stream",
     "text": [
      "Epoch 35: 100%|██████████| 58/58 [18:47<00:00, 19.44s/batch, loss=57]  \n"
     ]
    },
    {
     "name": "stdout",
     "output_type": "stream",
     "text": [
      "Saving model to model_100epoch/model_output/save/model.pth with loss = 52.459355284884516.\n",
      "Finished epoch 35 with loss=52.459355284884516.\n"
     ]
    },
    {
     "name": "stderr",
     "output_type": "stream",
     "text": [
      "Epoch 36: 100%|██████████| 58/58 [18:46<00:00, 19.42s/batch, loss=38.4]\n"
     ]
    },
    {
     "name": "stdout",
     "output_type": "stream",
     "text": [
      "Saving model to model_100epoch/model_output/save/model.pth with loss = 48.40345794122338.\n",
      "Finished epoch 36 with loss=48.40345794122338.\n"
     ]
    },
    {
     "name": "stderr",
     "output_type": "stream",
     "text": [
      "Epoch 37: 100%|██████████| 58/58 [19:01<00:00, 19.68s/batch, loss=37.6]\n"
     ]
    },
    {
     "name": "stdout",
     "output_type": "stream",
     "text": [
      "Saving model to model_100epoch/model_output/save/model.pth with loss = 45.79060124072079.\n",
      "Finished epoch 37 with loss=45.79060124072079.\n"
     ]
    },
    {
     "name": "stderr",
     "output_type": "stream",
     "text": [
      "Epoch 38: 100%|██████████| 58/58 [18:42<00:00, 19.35s/batch, loss=36.7]\n"
     ]
    },
    {
     "name": "stdout",
     "output_type": "stream",
     "text": [
      "Saving model to model_100epoch/model_output/save/model.pth with loss = 43.78184246925559.\n",
      "Finished epoch 38 with loss=43.78184246925559.\n"
     ]
    },
    {
     "name": "stderr",
     "output_type": "stream",
     "text": [
      "Epoch 39: 100%|██████████| 58/58 [18:49<00:00, 19.47s/batch, loss=51.4]\n"
     ]
    },
    {
     "name": "stdout",
     "output_type": "stream",
     "text": [
      "Finished epoch 39 with loss=43.78184246925559.\n"
     ]
    },
    {
     "name": "stderr",
     "output_type": "stream",
     "text": [
      "Epoch 40: 100%|██████████| 58/58 [18:46<00:00, 19.42s/batch, loss=30.8]\n"
     ]
    },
    {
     "name": "stdout",
     "output_type": "stream",
     "text": [
      "Saving model to model_100epoch/model_output/save/model.pth with loss = 41.338545112317554.\n",
      "Finished epoch 40 with loss=41.338545112317554.\n"
     ]
    },
    {
     "name": "stderr",
     "output_type": "stream",
     "text": [
      "Epoch 41: 100%|██████████| 58/58 [18:49<00:00, 19.47s/batch, loss=33.5]\n"
     ]
    },
    {
     "name": "stdout",
     "output_type": "stream",
     "text": [
      "Saving model to model_100epoch/model_output/save/model.pth with loss = 39.090691942821515.\n",
      "Finished epoch 41 with loss=39.090691942821515.\n"
     ]
    },
    {
     "name": "stderr",
     "output_type": "stream",
     "text": [
      "Epoch 42: 100%|██████████| 58/58 [18:25<00:00, 19.07s/batch, loss=40.4]\n"
     ]
    },
    {
     "name": "stdout",
     "output_type": "stream",
     "text": [
      "Saving model to model_100epoch/model_output/save/model.pth with loss = 32.254115031596804.\n",
      "Finished epoch 42 with loss=32.254115031596804.\n"
     ]
    },
    {
     "name": "stderr",
     "output_type": "stream",
     "text": [
      "Epoch 43: 100%|██████████| 58/58 [18:44<00:00, 19.38s/batch, loss=21.6]\n"
     ]
    },
    {
     "name": "stdout",
     "output_type": "stream",
     "text": [
      "Saving model to model_100epoch/model_output/save/model.pth with loss = 24.823333597731313.\n",
      "Finished epoch 43 with loss=24.823333597731313.\n"
     ]
    },
    {
     "name": "stderr",
     "output_type": "stream",
     "text": [
      "Epoch 44: 100%|██████████| 58/58 [18:43<00:00, 19.37s/batch, loss=14.9]\n"
     ]
    },
    {
     "name": "stdout",
     "output_type": "stream",
     "text": [
      "Saving model to model_100epoch/model_output/save/model.pth with loss = 22.918209525360457.\n",
      "Finished epoch 44 with loss=22.918209525360457.\n"
     ]
    },
    {
     "name": "stderr",
     "output_type": "stream",
     "text": [
      "Epoch 45: 100%|██████████| 58/58 [18:38<00:00, 19.29s/batch, loss=36.1]\n"
     ]
    },
    {
     "name": "stdout",
     "output_type": "stream",
     "text": [
      "Saving model to model_100epoch/model_output/save/model.pth with loss = 19.68129222877181.\n",
      "Finished epoch 45 with loss=19.68129222877181.\n"
     ]
    },
    {
     "name": "stderr",
     "output_type": "stream",
     "text": [
      "Epoch 46: 100%|██████████| 58/58 [18:47<00:00, 19.44s/batch, loss=19.1]\n"
     ]
    },
    {
     "name": "stdout",
     "output_type": "stream",
     "text": [
      "Finished epoch 46 with loss=19.68129222877181.\n"
     ]
    },
    {
     "name": "stderr",
     "output_type": "stream",
     "text": [
      "Epoch 47: 100%|██████████| 58/58 [18:46<00:00, 19.42s/batch, loss=17.4]\n"
     ]
    },
    {
     "name": "stdout",
     "output_type": "stream",
     "text": [
      "Saving model to model_100epoch/model_output/save/model.pth with loss = 17.8544129082983.\n",
      "Finished epoch 47 with loss=17.8544129082983.\n"
     ]
    },
    {
     "name": "stderr",
     "output_type": "stream",
     "text": [
      "Epoch 48: 100%|██████████| 58/58 [18:43<00:00, 19.37s/batch, loss=24.8]\n"
     ]
    },
    {
     "name": "stdout",
     "output_type": "stream",
     "text": [
      "Saving model to model_100epoch/model_output/save/model.pth with loss = 17.327408178556013.\n",
      "Finished epoch 48 with loss=17.327408178556013.\n"
     ]
    },
    {
     "name": "stderr",
     "output_type": "stream",
     "text": [
      "Epoch 49: 100%|██████████| 58/58 [18:43<00:00, 19.37s/batch, loss=20.8]\n"
     ]
    },
    {
     "name": "stdout",
     "output_type": "stream",
     "text": [
      "Finished epoch 49 with loss=17.327408178556013.\n"
     ]
    },
    {
     "name": "stderr",
     "output_type": "stream",
     "text": [
      "Epoch 50: 100%|██████████| 58/58 [18:38<00:00, 19.29s/batch, loss=42.7]\n"
     ]
    },
    {
     "name": "stdout",
     "output_type": "stream",
     "text": [
      "Finished epoch 50 with loss=17.327408178556013.\n"
     ]
    },
    {
     "name": "stderr",
     "output_type": "stream",
     "text": [
      "Epoch 51: 100%|██████████| 58/58 [18:43<00:00, 19.37s/batch, loss=37.9]\n"
     ]
    },
    {
     "name": "stdout",
     "output_type": "stream",
     "text": [
      "Finished epoch 51 with loss=17.327408178556013.\n"
     ]
    },
    {
     "name": "stderr",
     "output_type": "stream",
     "text": [
      "Epoch 52: 100%|██████████| 58/58 [18:47<00:00, 19.45s/batch, loss=16.5]\n"
     ]
    },
    {
     "name": "stdout",
     "output_type": "stream",
     "text": [
      "Finished epoch 52 with loss=17.327408178556013.\n"
     ]
    },
    {
     "name": "stderr",
     "output_type": "stream",
     "text": [
      "Epoch 53: 100%|██████████| 58/58 [18:44<00:00, 19.39s/batch, loss=15.1]\n"
     ]
    },
    {
     "name": "stdout",
     "output_type": "stream",
     "text": [
      "Saving model to model_100epoch/model_output/save/model.pth with loss = 16.931240078133186.\n",
      "Finished epoch 53 with loss=16.931240078133186.\n"
     ]
    },
    {
     "name": "stderr",
     "output_type": "stream",
     "text": [
      "Epoch 54: 100%|██████████| 58/58 [18:44<00:00, 19.39s/batch, loss=18.2]\n"
     ]
    },
    {
     "name": "stdout",
     "output_type": "stream",
     "text": [
      "Saving model to model_100epoch/model_output/save/model.pth with loss = 16.64183168849726.\n",
      "Finished epoch 54 with loss=16.64183168849726.\n"
     ]
    },
    {
     "name": "stderr",
     "output_type": "stream",
     "text": [
      "Epoch 55: 100%|██████████| 58/58 [18:30<00:00, 19.14s/batch, loss=14.7]\n"
     ]
    },
    {
     "name": "stdout",
     "output_type": "stream",
     "text": [
      "Saving model to model_100epoch/model_output/save/model.pth with loss = 16.484258587789718.\n",
      "Finished epoch 55 with loss=16.484258587789718.\n"
     ]
    },
    {
     "name": "stderr",
     "output_type": "stream",
     "text": [
      "Epoch 56: 100%|██████████| 58/58 [18:43<00:00, 19.36s/batch, loss=14.6]\n"
     ]
    },
    {
     "name": "stdout",
     "output_type": "stream",
     "text": [
      "Saving model to model_100epoch/model_output/save/model.pth with loss = 15.175137591087957.\n",
      "Finished epoch 56 with loss=15.175137591087957.\n"
     ]
    },
    {
     "name": "stderr",
     "output_type": "stream",
     "text": [
      "Epoch 57: 100%|██████████| 58/58 [18:44<00:00, 19.40s/batch, loss=19.7]\n"
     ]
    },
    {
     "name": "stdout",
     "output_type": "stream",
     "text": [
      "Saving model to model_100epoch/model_output/save/model.pth with loss = 14.560990998571402.\n",
      "Finished epoch 57 with loss=14.560990998571402.\n"
     ]
    },
    {
     "name": "stderr",
     "output_type": "stream",
     "text": [
      "Epoch 58: 100%|██████████| 58/58 [18:41<00:00, 19.33s/batch, loss=9.38]\n"
     ]
    },
    {
     "name": "stdout",
     "output_type": "stream",
     "text": [
      "Saving model to model_100epoch/model_output/save/model.pth with loss = 14.410104457445986.\n",
      "Finished epoch 58 with loss=14.410104457445986.\n"
     ]
    },
    {
     "name": "stderr",
     "output_type": "stream",
     "text": [
      "Epoch 59: 100%|██████████| 58/58 [18:38<00:00, 19.28s/batch, loss=23.9]\n"
     ]
    },
    {
     "name": "stdout",
     "output_type": "stream",
     "text": [
      "Saving model to model_100epoch/model_output/save/model.pth with loss = 14.369300016498201.\n",
      "Finished epoch 59 with loss=14.369300016498201.\n"
     ]
    },
    {
     "name": "stderr",
     "output_type": "stream",
     "text": [
      "Epoch 60: 100%|██████████| 58/58 [18:46<00:00, 19.42s/batch, loss=12.7]\n"
     ]
    },
    {
     "name": "stdout",
     "output_type": "stream",
     "text": [
      "Finished epoch 60 with loss=14.369300016498201.\n"
     ]
    },
    {
     "name": "stderr",
     "output_type": "stream",
     "text": [
      "Epoch 61: 100%|██████████| 58/58 [18:51<00:00, 19.50s/batch, loss=16.7]\n"
     ]
    },
    {
     "name": "stdout",
     "output_type": "stream",
     "text": [
      "Saving model to model_100epoch/model_output/save/model.pth with loss = 13.720293839772543.\n",
      "Finished epoch 61 with loss=13.720293839772543.\n"
     ]
    },
    {
     "name": "stderr",
     "output_type": "stream",
     "text": [
      "Epoch 62: 100%|██████████| 58/58 [18:47<00:00, 19.43s/batch, loss=7.93]\n"
     ]
    },
    {
     "name": "stdout",
     "output_type": "stream",
     "text": [
      "Saving model to model_100epoch/model_output/save/model.pth with loss = 13.489077127756287.\n",
      "Finished epoch 62 with loss=13.489077127756287.\n"
     ]
    },
    {
     "name": "stderr",
     "output_type": "stream",
     "text": [
      "Epoch 63: 100%|██████████| 58/58 [18:48<00:00, 19.45s/batch, loss=14.4]\n"
     ]
    },
    {
     "name": "stdout",
     "output_type": "stream",
     "text": [
      "Finished epoch 63 with loss=13.489077127756287.\n"
     ]
    },
    {
     "name": "stderr",
     "output_type": "stream",
     "text": [
      "Epoch 64: 100%|██████████| 58/58 [18:45<00:00, 19.41s/batch, loss=7.46]\n"
     ]
    },
    {
     "name": "stdout",
     "output_type": "stream",
     "text": [
      "Finished epoch 64 with loss=13.489077127756287.\n"
     ]
    },
    {
     "name": "stderr",
     "output_type": "stream",
     "text": [
      "Epoch 65: 100%|██████████| 58/58 [18:41<00:00, 19.34s/batch, loss=9.76]\n"
     ]
    },
    {
     "name": "stdout",
     "output_type": "stream",
     "text": [
      "Finished epoch 65 with loss=13.489077127756287.\n"
     ]
    },
    {
     "name": "stderr",
     "output_type": "stream",
     "text": [
      "Epoch 66: 100%|██████████| 58/58 [18:40<00:00, 19.32s/batch, loss=17.7]\n"
     ]
    },
    {
     "name": "stdout",
     "output_type": "stream",
     "text": [
      "Saving model to model_100epoch/model_output/save/model.pth with loss = 13.389184207295092.\n",
      "Finished epoch 66 with loss=13.389184207295092.\n"
     ]
    },
    {
     "name": "stderr",
     "output_type": "stream",
     "text": [
      "Epoch 67: 100%|██████████| 58/58 [18:45<00:00, 19.41s/batch, loss=10]  \n"
     ]
    },
    {
     "name": "stdout",
     "output_type": "stream",
     "text": [
      "Saving model to model_100epoch/model_output/save/model.pth with loss = 12.630520065168769.\n",
      "Finished epoch 67 with loss=12.630520065168769.\n"
     ]
    },
    {
     "name": "stderr",
     "output_type": "stream",
     "text": [
      "Epoch 68: 100%|██████████| 58/58 [18:48<00:00, 19.45s/batch, loss=12]  \n"
     ]
    },
    {
     "name": "stdout",
     "output_type": "stream",
     "text": [
      "Finished epoch 68 with loss=12.630520065168769.\n"
     ]
    },
    {
     "name": "stderr",
     "output_type": "stream",
     "text": [
      "Epoch 69: 100%|██████████| 58/58 [18:53<00:00, 19.54s/batch, loss=14.9]\n"
     ]
    },
    {
     "name": "stdout",
     "output_type": "stream",
     "text": [
      "Saving model to model_100epoch/model_output/save/model.pth with loss = 12.246634965655447.\n",
      "Finished epoch 69 with loss=12.246634965655447.\n"
     ]
    },
    {
     "name": "stderr",
     "output_type": "stream",
     "text": [
      "Epoch 70: 100%|██████████| 58/58 [18:57<00:00, 19.61s/batch, loss=9.6] \n"
     ]
    },
    {
     "name": "stdout",
     "output_type": "stream",
     "text": [
      "Saving model to model_100epoch/model_output/save/model.pth with loss = 11.985076929874348.\n",
      "Finished epoch 70 with loss=11.985076929874348.\n"
     ]
    },
    {
     "name": "stderr",
     "output_type": "stream",
     "text": [
      "Epoch 71: 100%|██████████| 58/58 [18:49<00:00, 19.47s/batch, loss=12.5]\n"
     ]
    },
    {
     "name": "stdout",
     "output_type": "stream",
     "text": [
      "Saving model to model_100epoch/model_output/save/model.pth with loss = 11.958101323737953.\n",
      "Finished epoch 71 with loss=11.958101323737953.\n"
     ]
    },
    {
     "name": "stderr",
     "output_type": "stream",
     "text": [
      "Epoch 72: 100%|██████████| 58/58 [18:54<00:00, 19.55s/batch, loss=17.2]\n"
     ]
    },
    {
     "name": "stdout",
     "output_type": "stream",
     "text": [
      "Finished epoch 72 with loss=11.958101323737953.\n"
     ]
    },
    {
     "name": "stderr",
     "output_type": "stream",
     "text": [
      "Epoch 73: 100%|██████████| 58/58 [18:52<00:00, 19.52s/batch, loss=10.5]\n"
     ]
    },
    {
     "name": "stdout",
     "output_type": "stream",
     "text": [
      "Saving model to model_100epoch/model_output/save/model.pth with loss = 11.732660964987744.\n",
      "Finished epoch 73 with loss=11.732660964987744.\n"
     ]
    },
    {
     "name": "stderr",
     "output_type": "stream",
     "text": [
      "Epoch 74: 100%|██████████| 58/58 [18:53<00:00, 19.55s/batch, loss=9.27]\n"
     ]
    },
    {
     "name": "stdout",
     "output_type": "stream",
     "text": [
      "Finished epoch 74 with loss=11.732660964987744.\n"
     ]
    },
    {
     "name": "stderr",
     "output_type": "stream",
     "text": [
      "Epoch 75: 100%|██████████| 58/58 [18:47<00:00, 19.45s/batch, loss=11.4]\n"
     ]
    },
    {
     "name": "stdout",
     "output_type": "stream",
     "text": [
      "Saving model to model_100epoch/model_output/save/model.pth with loss = 11.510182250048466.\n",
      "Finished epoch 75 with loss=11.510182250048466.\n"
     ]
    },
    {
     "name": "stderr",
     "output_type": "stream",
     "text": [
      "Epoch 76: 100%|██████████| 58/58 [18:49<00:00, 19.48s/batch, loss=11.4]\n"
     ]
    },
    {
     "name": "stdout",
     "output_type": "stream",
     "text": [
      "Finished epoch 76 with loss=11.510182250048466.\n"
     ]
    },
    {
     "name": "stderr",
     "output_type": "stream",
     "text": [
      "Epoch 77: 100%|██████████| 58/58 [18:44<00:00, 19.39s/batch, loss=22.4]\n"
     ]
    },
    {
     "name": "stdout",
     "output_type": "stream",
     "text": [
      "Saving model to model_100epoch/model_output/save/model.pth with loss = 11.424039706416515.\n",
      "Finished epoch 77 with loss=11.424039706416515.\n"
     ]
    },
    {
     "name": "stderr",
     "output_type": "stream",
     "text": [
      "Epoch 78: 100%|██████████| 58/58 [18:47<00:00, 19.45s/batch, loss=7.5] \n"
     ]
    },
    {
     "name": "stdout",
     "output_type": "stream",
     "text": [
      "Saving model to model_100epoch/model_output/save/model.pth with loss = 11.40043514441713.\n",
      "Finished epoch 78 with loss=11.40043514441713.\n"
     ]
    },
    {
     "name": "stderr",
     "output_type": "stream",
     "text": [
      "Epoch 79: 100%|██████████| 58/58 [18:41<00:00, 19.33s/batch, loss=10]  \n"
     ]
    },
    {
     "name": "stdout",
     "output_type": "stream",
     "text": [
      "Saving model to model_100epoch/model_output/save/model.pth with loss = 11.362822305197003.\n",
      "Finished epoch 79 with loss=11.362822305197003.\n"
     ]
    },
    {
     "name": "stderr",
     "output_type": "stream",
     "text": [
      "Epoch 80: 100%|██████████| 58/58 [18:48<00:00, 19.45s/batch, loss=13.7]\n"
     ]
    },
    {
     "name": "stdout",
     "output_type": "stream",
     "text": [
      "Finished epoch 80 with loss=11.362822305197003.\n"
     ]
    },
    {
     "name": "stderr",
     "output_type": "stream",
     "text": [
      "Epoch 81: 100%|██████████| 58/58 [18:43<00:00, 19.37s/batch, loss=8.5] \n"
     ]
    },
    {
     "name": "stdout",
     "output_type": "stream",
     "text": [
      "Finished epoch 81 with loss=11.362822305197003.\n"
     ]
    },
    {
     "name": "stderr",
     "output_type": "stream",
     "text": [
      "Epoch 82: 100%|██████████| 58/58 [18:45<00:00, 19.41s/batch, loss=32.9]\n"
     ]
    },
    {
     "name": "stdout",
     "output_type": "stream",
     "text": [
      "Finished epoch 82 with loss=11.362822305197003.\n"
     ]
    },
    {
     "name": "stderr",
     "output_type": "stream",
     "text": [
      "Epoch 83: 100%|██████████| 58/58 [18:42<00:00, 19.35s/batch, loss=11.6]\n"
     ]
    },
    {
     "name": "stdout",
     "output_type": "stream",
     "text": [
      "Finished epoch 83 with loss=11.362822305197003.\n"
     ]
    },
    {
     "name": "stderr",
     "output_type": "stream",
     "text": [
      "Epoch 84: 100%|██████████| 58/58 [18:49<00:00, 19.47s/batch, loss=14.2]\n"
     ]
    },
    {
     "name": "stdout",
     "output_type": "stream",
     "text": [
      "Finished epoch 84 with loss=11.362822305197003.\n"
     ]
    },
    {
     "name": "stderr",
     "output_type": "stream",
     "text": [
      "Epoch 85: 100%|██████████| 58/58 [18:49<00:00, 19.47s/batch, loss=20.3]\n"
     ]
    },
    {
     "name": "stdout",
     "output_type": "stream",
     "text": [
      "Finished epoch 85 with loss=11.362822305197003.\n"
     ]
    },
    {
     "name": "stderr",
     "output_type": "stream",
     "text": [
      "Epoch 86: 100%|██████████| 58/58 [18:49<00:00, 19.47s/batch, loss=9.29]\n"
     ]
    },
    {
     "name": "stdout",
     "output_type": "stream",
     "text": [
      "Saving model to model_100epoch/model_output/save/model.pth with loss = 10.945244050117289.\n",
      "Finished epoch 86 with loss=10.945244050117289.\n"
     ]
    },
    {
     "name": "stderr",
     "output_type": "stream",
     "text": [
      "Epoch 87: 100%|██████████| 58/58 [18:47<00:00, 19.44s/batch, loss=7.69]\n"
     ]
    },
    {
     "name": "stdout",
     "output_type": "stream",
     "text": [
      "Saving model to model_100epoch/model_output/save/model.pth with loss = 10.542892555624134.\n",
      "Finished epoch 87 with loss=10.542892555624134.\n"
     ]
    },
    {
     "name": "stderr",
     "output_type": "stream",
     "text": [
      "Epoch 88: 100%|██████████| 58/58 [18:48<00:00, 19.45s/batch, loss=8.87]\n"
     ]
    },
    {
     "name": "stdout",
     "output_type": "stream",
     "text": [
      "Finished epoch 88 with loss=10.542892555624134.\n"
     ]
    },
    {
     "name": "stderr",
     "output_type": "stream",
     "text": [
      "Epoch 89: 100%|██████████| 58/58 [18:45<00:00, 19.40s/batch, loss=8.72]\n"
     ]
    },
    {
     "name": "stdout",
     "output_type": "stream",
     "text": [
      "Finished epoch 89 with loss=10.542892555624134.\n"
     ]
    },
    {
     "name": "stderr",
     "output_type": "stream",
     "text": [
      "Epoch 90: 100%|██████████| 58/58 [18:44<00:00, 19.38s/batch, loss=25.2]\n"
     ]
    },
    {
     "name": "stdout",
     "output_type": "stream",
     "text": [
      "Finished epoch 90 with loss=10.542892555624134.\n"
     ]
    },
    {
     "name": "stderr",
     "output_type": "stream",
     "text": [
      "Epoch 91: 100%|██████████| 58/58 [18:46<00:00, 19.42s/batch, loss=12.7]\n"
     ]
    },
    {
     "name": "stdout",
     "output_type": "stream",
     "text": [
      "Finished epoch 91 with loss=10.542892555624134.\n"
     ]
    },
    {
     "name": "stderr",
     "output_type": "stream",
     "text": [
      "Epoch 92: 100%|██████████| 58/58 [18:49<00:00, 19.47s/batch, loss=69]  \n"
     ]
    },
    {
     "name": "stdout",
     "output_type": "stream",
     "text": [
      "Finished epoch 92 with loss=10.542892555624134.\n"
     ]
    },
    {
     "name": "stderr",
     "output_type": "stream",
     "text": [
      "Epoch 93: 100%|██████████| 58/58 [18:48<00:00, 19.46s/batch, loss=20.9]\n"
     ]
    },
    {
     "name": "stdout",
     "output_type": "stream",
     "text": [
      "Finished epoch 93 with loss=10.542892555624134.\n"
     ]
    },
    {
     "name": "stderr",
     "output_type": "stream",
     "text": [
      "Epoch 94: 100%|██████████| 58/58 [18:40<00:00, 19.32s/batch, loss=14.2]\n"
     ]
    },
    {
     "name": "stdout",
     "output_type": "stream",
     "text": [
      "Finished epoch 94 with loss=10.542892555624134.\n"
     ]
    },
    {
     "name": "stderr",
     "output_type": "stream",
     "text": [
      "Epoch 95: 100%|██████████| 58/58 [18:50<00:00, 19.48s/batch, loss=33.3]\n"
     ]
    },
    {
     "name": "stdout",
     "output_type": "stream",
     "text": [
      "Finished epoch 95 with loss=10.542892555624134.\n"
     ]
    },
    {
     "name": "stderr",
     "output_type": "stream",
     "text": [
      "Epoch 96: 100%|██████████| 58/58 [18:42<00:00, 19.35s/batch, loss=66.9]\n"
     ]
    },
    {
     "name": "stdout",
     "output_type": "stream",
     "text": [
      "Finished epoch 96 with loss=10.542892555624134.\n"
     ]
    },
    {
     "name": "stderr",
     "output_type": "stream",
     "text": [
      "Epoch 97: 100%|██████████| 58/58 [18:46<00:00, 19.43s/batch, loss=11.4]\n"
     ]
    },
    {
     "name": "stdout",
     "output_type": "stream",
     "text": [
      "Finished epoch 97 with loss=10.542892555624134.\n"
     ]
    },
    {
     "name": "stderr",
     "output_type": "stream",
     "text": [
      "Epoch 98: 100%|██████████| 58/58 [18:40<00:00, 19.32s/batch, loss=9.66]\n"
     ]
    },
    {
     "name": "stdout",
     "output_type": "stream",
     "text": [
      "Finished epoch 98 with loss=10.542892555624134.\n"
     ]
    },
    {
     "name": "stderr",
     "output_type": "stream",
     "text": [
      "Epoch 99: 100%|██████████| 58/58 [18:32<00:00, 19.18s/batch, loss=7.63]"
     ]
    },
    {
     "name": "stdout",
     "output_type": "stream",
     "text": [
      "Finished epoch 99 with loss=10.542892555624134.\n",
      "Finished training 100 epochs.\n"
     ]
    },
    {
     "name": "stderr",
     "output_type": "stream",
     "text": [
      "\n"
     ]
    },
    {
     "data": {
      "text/plain": [
       "(CloudAutoEncoder(\n",
       "   (encoder): DGCNNEncoder(\n",
       "     (conv1): Sequential(\n",
       "       (0): Conv2d(6, 64, kernel_size=(1, 1), stride=(1, 1), bias=False)\n",
       "       (1): BatchNorm2d(64, eps=1e-05, momentum=0.1, affine=True, track_running_stats=True)\n",
       "       (2): LeakyReLU(negative_slope=0.2)\n",
       "     )\n",
       "     (conv2): Sequential(\n",
       "       (0): Conv2d(128, 64, kernel_size=(1, 1), stride=(1, 1), bias=False)\n",
       "       (1): BatchNorm2d(64, eps=1e-05, momentum=0.1, affine=True, track_running_stats=True)\n",
       "       (2): LeakyReLU(negative_slope=0.2)\n",
       "     )\n",
       "     (conv3): Sequential(\n",
       "       (0): Conv2d(128, 128, kernel_size=(1, 1), stride=(1, 1), bias=False)\n",
       "       (1): BatchNorm2d(128, eps=1e-05, momentum=0.1, affine=True, track_running_stats=True)\n",
       "       (2): LeakyReLU(negative_slope=0.2)\n",
       "     )\n",
       "     (conv4): Sequential(\n",
       "       (0): Conv2d(256, 256, kernel_size=(1, 1), stride=(1, 1), bias=False)\n",
       "       (1): BatchNorm2d(256, eps=1e-05, momentum=0.1, affine=True, track_running_stats=True)\n",
       "       (2): LeakyReLU(negative_slope=0.2)\n",
       "     )\n",
       "     (conv5): Sequential(\n",
       "       (0): Conv1d(512, 512, kernel_size=(1,), stride=(1,), bias=False)\n",
       "       (1): BatchNorm1d(512, eps=1e-05, momentum=0.1, affine=True, track_running_stats=True)\n",
       "       (2): LeakyReLU(negative_slope=0.2)\n",
       "     )\n",
       "     (flatten): Flatten()\n",
       "     (embedding): Linear(in_features=512, out_features=128, bias=False)\n",
       "   )\n",
       "   (decoder): FoldNetDecoder(\n",
       "     (folding1): Sequential(\n",
       "       (0): Conv1d(514, 512, kernel_size=(1,), stride=(1,))\n",
       "       (1): ReLU()\n",
       "       (2): Conv1d(512, 512, kernel_size=(1,), stride=(1,))\n",
       "       (3): ReLU()\n",
       "       (4): Conv1d(512, 3, kernel_size=(1,), stride=(1,))\n",
       "     )\n",
       "     (folding2): Sequential(\n",
       "       (0): Conv1d(515, 512, kernel_size=(1,), stride=(1,))\n",
       "       (1): ReLU()\n",
       "       (2): Conv1d(512, 512, kernel_size=(1,), stride=(1,))\n",
       "       (3): ReLU()\n",
       "       (4): Conv1d(512, 3, kernel_size=(1,), stride=(1,))\n",
       "     )\n",
       "     (deembedding): Linear(in_features=128, out_features=512, bias=False)\n",
       "   )\n",
       " ),\n",
       " 'model_100epoch/model_output/logging/directory',\n",
       " 'model_100epoch/model_output/save/model.pth',\n",
       " 'model_100epoch/model_output/tensorboard/logs',\n",
       " 'my_experiment')"
      ]
     },
     "execution_count": 32,
     "metadata": {},
     "output_type": "execute_result"
    }
   ],
   "source": [
    "\n",
    "criterion = ChamferLoss()\n",
    "\n",
    "optimizer = torch.optim.Adam(\n",
    "    model.parameters(),\n",
    "    lr=learning_rate * 16 / batch_size,\n",
    "    betas=(0.9, 0.999),\n",
    "    weight_decay=1e-6,\n",
    ")\n",
    "\n",
    "#passing correct logging_infoto `clou_train` by\n",
    "# Define paths and experiment name\n",
    "name_logging = output_dir + \"logging/directory\"\n",
    "name_model = output_dir + \"save/model.pth\"\n",
    "name_writer = output_dir + \"tensorboard/logs\"\n",
    "name = \"my_experiment\"\n",
    "\n",
    "# Make sure directories exist\n",
    "os.makedirs(name_logging, exist_ok=True)\n",
    "os.makedirs(os.path.dirname(name_model), exist_ok=True)  # Since name_model includes the filename\n",
    "os.makedirs(name_writer, exist_ok=True)\n",
    "\n",
    "# Create the logging_info tuple\n",
    "logging_info = (name_logging, name_model, name_writer, name)\n",
    "\n",
    "cloud.train(model, dataloader, num_epochs, criterion, optimizer, logging_info)\n"
   ]
  },
  {
   "cell_type": "code",
   "execution_count": 24,
   "metadata": {},
   "outputs": [],
   "source": [
    "# read model\n",
    "checkpoint = torch.load('model_100epoch\\model_output\\save\\model.pth')\n",
    "model.load_state_dict(checkpoint['model_state_dict'])\n",
    "#check the model output epoch 100 \n",
    "\n",
    "point_cloud = dataset[0][0]\n",
    "point_cloud = point_cloud.unsqueeze(0)\n",
    "\n",
    "recon, features = model(point_cloud)\n",
    "recon_np = recon.detach().cpu().numpy()"
   ]
  },
  {
   "cell_type": "code",
   "execution_count": 21,
   "metadata": {},
   "outputs": [],
   "source": [
    "mesh_off = trimesh.load(\"data/mesh/1.off\")\n",
    "mesh_ply = trimesh.load(\"data/pointcloud/1.ply\")\n",
    "points_ply = torch.tensor(mesh_ply.vertices, dtype=torch.float32)"
   ]
  },
  {
   "cell_type": "code",
   "execution_count": null,
   "metadata": {},
   "outputs": [],
   "source": []
  },
  {
   "cell_type": "code",
   "execution_count": null,
   "metadata": {},
   "outputs": [
    {
     "ename": "ValueError",
     "evalue": "operands could not be broadcast together with shapes (1,2046,3) (2046,) ",
     "output_type": "error",
     "traceback": [
      "\u001b[1;31m---------------------------------------------------------------------------\u001b[0m",
      "\u001b[1;31mValueError\u001b[0m                                Traceback (most recent call last)",
      "\u001b[1;32mc:\\Users\\ljd567\\Desktop\\cell shape\\cellshape.ipynb Cell 31\u001b[0m line \u001b[0;36m2\n\u001b[0;32m      <a href='vscode-notebook-cell:/c%3A/Users/ljd567/Desktop/cell%20shape/cellshape.ipynb#X56sZmlsZQ%3D%3D?line=0'>1</a>\u001b[0m viewer \u001b[39m=\u001b[39m napari\u001b[39m.\u001b[39mViewer()\n\u001b[1;32m----> <a href='vscode-notebook-cell:/c%3A/Users/ljd567/Desktop/cell%20shape/cellshape.ipynb#X56sZmlsZQ%3D%3D?line=1'>2</a>\u001b[0m viewer\u001b[39m.\u001b[39;49madd_points(point_cloud\u001b[39m.\u001b[39;49mnumpy()\u001b[39m*\u001b[39;49m\u001b[39m20\u001b[39;49m, size\u001b[39m=\u001b[39;49m\u001b[39m1\u001b[39;49m, name\u001b[39m=\u001b[39;49m\u001b[39m\"\u001b[39;49m\u001b[39mTest Points\u001b[39;49m\u001b[39m\"\u001b[39;49m)\n\u001b[0;32m      <a href='vscode-notebook-cell:/c%3A/Users/ljd567/Desktop/cell%20shape/cellshape.ipynb#X56sZmlsZQ%3D%3D?line=2'>3</a>\u001b[0m viewer\u001b[39m.\u001b[39madd_points(recon_np[\u001b[39m0\u001b[39m]\u001b[39m*\u001b[39m\u001b[39m20\u001b[39m, size\u001b[39m=\u001b[39m\u001b[39m1\u001b[39m, name\u001b[39m=\u001b[39m\u001b[39m\"\u001b[39m\u001b[39mrecon Points\u001b[39m\u001b[39m\"\u001b[39m)\n",
      "File \u001b[1;32mc:\\Users\\ljd567\\AppData\\Local\\miniconda3\\envs\\cellshape-env\\lib\\site-packages\\napari\\components\\viewer_model.py:4\u001b[0m, in \u001b[0;36madd_points\u001b[1;34m(self, data, ndim, features, feature_defaults, properties, text, symbol, size, edge_width, edge_width_is_relative, edge_color, edge_color_cycle, edge_colormap, edge_contrast_limits, face_color, face_color_cycle, face_colormap, face_contrast_limits, out_of_slice_display, n_dimensional, name, metadata, scale, translate, rotate, shear, affine, opacity, blending, visible, cache, property_choices, experimental_clipping_planes, shading, canvas_size_limits, antialiasing, shown)\u001b[0m\n\u001b[0;32m      1\u001b[0m \u001b[39mfrom\u001b[39;00m \u001b[39m__future__\u001b[39;00m \u001b[39mimport\u001b[39;00m annotations\n\u001b[0;32m      3\u001b[0m \u001b[39mimport\u001b[39;00m \u001b[39minspect\u001b[39;00m\n\u001b[1;32m----> 4\u001b[0m \u001b[39mimport\u001b[39;00m \u001b[39mitertools\u001b[39;00m\n\u001b[0;32m      5\u001b[0m \u001b[39mimport\u001b[39;00m \u001b[39mos\u001b[39;00m\n\u001b[0;32m      6\u001b[0m \u001b[39mimport\u001b[39;00m \u001b[39mwarnings\u001b[39;00m\n",
      "File \u001b[1;32mc:\\Users\\ljd567\\AppData\\Local\\miniconda3\\envs\\cellshape-env\\lib\\site-packages\\napari\\layers\\points\\points.py:506\u001b[0m, in \u001b[0;36mPoints.__init__\u001b[1;34m(self, data, ndim, features, feature_defaults, properties, text, symbol, size, edge_width, edge_width_is_relative, edge_color, edge_color_cycle, edge_colormap, edge_contrast_limits, face_color, face_color_cycle, face_colormap, face_contrast_limits, out_of_slice_display, n_dimensional, name, metadata, scale, translate, rotate, shear, affine, opacity, blending, visible, cache, property_choices, experimental_clipping_planes, shading, canvas_size_limits, antialiasing, shown)\u001b[0m\n\u001b[0;32m    503\u001b[0m     \u001b[39mself\u001b[39m\u001b[39m.\u001b[39m_out_of_slice_display \u001b[39m=\u001b[39m out_of_slice_display\n\u001b[0;32m    505\u001b[0m \u001b[39m# Save the point style params\u001b[39;00m\n\u001b[1;32m--> 506\u001b[0m \u001b[39mself\u001b[39;49m\u001b[39m.\u001b[39;49msize \u001b[39m=\u001b[39m size\n\u001b[0;32m    507\u001b[0m \u001b[39mself\u001b[39m\u001b[39m.\u001b[39mshown \u001b[39m=\u001b[39m shown\n\u001b[0;32m    508\u001b[0m \u001b[39mself\u001b[39m\u001b[39m.\u001b[39msymbol \u001b[39m=\u001b[39m symbol\n",
      "File \u001b[1;32mc:\\Users\\ljd567\\AppData\\Local\\miniconda3\\envs\\cellshape-env\\lib\\site-packages\\napari\\layers\\points\\points.py:831\u001b[0m, in \u001b[0;36mPoints.size\u001b[1;34m(self, size)\u001b[0m\n\u001b[0;32m    821\u001b[0m         \u001b[39mself\u001b[39m\u001b[39m.\u001b[39m_size \u001b[39m=\u001b[39m np\u001b[39m.\u001b[39mmean(size, axis\u001b[39m=\u001b[39m\u001b[39m1\u001b[39m)\n\u001b[0;32m    822\u001b[0m         warnings\u001b[39m.\u001b[39mwarn(\n\u001b[0;32m    823\u001b[0m             trans\u001b[39m.\u001b[39m_(\n\u001b[0;32m    824\u001b[0m                 \u001b[39m\"\u001b[39m\u001b[39mSince 0.4.18 point sizes must be isotropic; the average from each dimension will be\u001b[39m\u001b[39m\"\u001b[39m\n\u001b[1;32m   (...)\u001b[0m\n\u001b[0;32m    829\u001b[0m             stacklevel\u001b[39m=\u001b[39m\u001b[39m2\u001b[39m,\n\u001b[0;32m    830\u001b[0m         )\n\u001b[1;32m--> 831\u001b[0m \u001b[39mself\u001b[39;49m\u001b[39m.\u001b[39;49mrefresh()\n",
      "File \u001b[1;32mc:\\Users\\ljd567\\AppData\\Local\\miniconda3\\envs\\cellshape-env\\lib\\site-packages\\napari\\layers\\base\\base.py:1264\u001b[0m, in \u001b[0;36mLayer.refresh\u001b[1;34m(self, event)\u001b[0m\n\u001b[0;32m   1262\u001b[0m \u001b[39m\u001b[39m\u001b[39m\"\"\"Refresh all layer data based on current view slice.\"\"\"\u001b[39;00m\n\u001b[0;32m   1263\u001b[0m \u001b[39mif\u001b[39;00m \u001b[39mself\u001b[39m\u001b[39m.\u001b[39mvisible:\n\u001b[1;32m-> 1264\u001b[0m     \u001b[39mself\u001b[39;49m\u001b[39m.\u001b[39;49mset_view_slice()\n\u001b[0;32m   1265\u001b[0m     \u001b[39mself\u001b[39m\u001b[39m.\u001b[39mevents\u001b[39m.\u001b[39mset_data()\n\u001b[0;32m   1266\u001b[0m     \u001b[39mself\u001b[39m\u001b[39m.\u001b[39m_update_thumbnail()\n",
      "File \u001b[1;32mc:\\Users\\ljd567\\AppData\\Local\\miniconda3\\envs\\cellshape-env\\lib\\site-packages\\napari\\layers\\base\\base.py:1029\u001b[0m, in \u001b[0;36mLayer.set_view_slice\u001b[1;34m(self)\u001b[0m\n\u001b[0;32m   1027\u001b[0m \u001b[39mdef\u001b[39;00m \u001b[39mset_view_slice\u001b[39m(\u001b[39mself\u001b[39m):\n\u001b[0;32m   1028\u001b[0m     \u001b[39mwith\u001b[39;00m \u001b[39mself\u001b[39m\u001b[39m.\u001b[39mdask_optimized_slicing():\n\u001b[1;32m-> 1029\u001b[0m         \u001b[39mself\u001b[39;49m\u001b[39m.\u001b[39;49m_set_view_slice()\n",
      "File \u001b[1;32mc:\\Users\\ljd567\\AppData\\Local\\miniconda3\\envs\\cellshape-env\\lib\\site-packages\\napari\\layers\\points\\points.py:1776\u001b[0m, in \u001b[0;36mPoints._set_view_slice\u001b[1;34m(self)\u001b[0m\n\u001b[0;32m   1774\u001b[0m \u001b[39m\u001b[39m\u001b[39m\"\"\"Sets the view given the indices to slice with.\"\"\"\u001b[39;00m\n\u001b[0;32m   1775\u001b[0m \u001b[39m# get the indices of points in view\u001b[39;00m\n\u001b[1;32m-> 1776\u001b[0m indices, scale \u001b[39m=\u001b[39m \u001b[39mself\u001b[39;49m\u001b[39m.\u001b[39;49m_slice_data(\u001b[39mself\u001b[39;49m\u001b[39m.\u001b[39;49m_slice_indices)\n\u001b[0;32m   1778\u001b[0m \u001b[39m# Update the _view_size_scale in accordance to the self._indices_view setter.\u001b[39;00m\n\u001b[0;32m   1779\u001b[0m \u001b[39m# If out_of_slice_display is False, scale is a number and not an array.\u001b[39;00m\n\u001b[0;32m   1780\u001b[0m \u001b[39m# Therefore we have an additional if statement checking for\u001b[39;00m\n\u001b[0;32m   1781\u001b[0m \u001b[39m# self._view_size_scale being an integer.\u001b[39;00m\n\u001b[0;32m   1782\u001b[0m \u001b[39mif\u001b[39;00m \u001b[39mnot\u001b[39;00m \u001b[39misinstance\u001b[39m(scale, np\u001b[39m.\u001b[39mndarray):\n",
      "File \u001b[1;32mc:\\Users\\ljd567\\AppData\\Local\\miniconda3\\envs\\cellshape-env\\lib\\site-packages\\napari\\layers\\points\\points.py:1582\u001b[0m, in \u001b[0;36mPoints._slice_data\u001b[1;34m(self, dims_indices)\u001b[0m\n\u001b[0;32m   1579\u001b[0m     \u001b[39mreturn\u001b[39;00m slice_indices, scale\n\u001b[0;32m   1581\u001b[0m data \u001b[39m=\u001b[39m \u001b[39mself\u001b[39m\u001b[39m.\u001b[39mdata[:, not_disp]\n\u001b[1;32m-> 1582\u001b[0m distances \u001b[39m=\u001b[39m np\u001b[39m.\u001b[39mabs(data \u001b[39m-\u001b[39;49m not_disp_indices)\n\u001b[0;32m   1583\u001b[0m matches \u001b[39m=\u001b[39m np\u001b[39m.\u001b[39mall(distances \u001b[39m<\u001b[39m\u001b[39m=\u001b[39m \u001b[39m0.5\u001b[39m, axis\u001b[39m=\u001b[39m\u001b[39m1\u001b[39m)\n\u001b[0;32m   1584\u001b[0m slice_indices \u001b[39m=\u001b[39m np\u001b[39m.\u001b[39mwhere(matches)[\u001b[39m0\u001b[39m]\u001b[39m.\u001b[39mastype(\u001b[39mint\u001b[39m)\n",
      "\u001b[1;31mValueError\u001b[0m: operands could not be broadcast together with shapes (1,2046,3) (2046,) "
     ]
    }
   ],
   "source": [
    "viewer = napari.Viewer()\n",
    "viewer.add_points(point_cloud.numpy()[0]*20, size=1, name=\"Test Points\")\n",
    "viewer.add_points(recon_np[0]*20, size=1, name=\"recon Points\")"
   ]
  },
  {
   "cell_type": "code",
   "execution_count": null,
   "metadata": {},
   "outputs": [],
   "source": [
    "import numpy as np\n",
    "from skimage.measure import marching_cubes\n",
    "import matplotlib.pyplot as plt\n",
    "from mpl_toolkits.mplot3d.art3d import Poly3DCollection\n",
    "\n",
    "# Create a 3D array (volume)\n",
    "volume = np.zeros((50, 50, 50))\n",
    "\n",
    "# Generate a \"sphere\" in the volume\n",
    "for x in range(50):\n",
    "    for y in range(50):\n",
    "        for z in range(50):\n",
    "            if (x - 25)**2 + (y - 25)**2 + (z - 25)**2 < 20**2:\n",
    "                volume[x, y, z] = 1\n",
    "\n",
    "# Run marching cubes\n",
    "verts, faces, normals, values = marching_cubes(volume, level=0.5)\n",
    "\n",
    "# Plotting\n",
    "fig = plt.figure(figsize=(10, 10))\n",
    "ax = fig.add_subplot(111, projection='3d')\n",
    "\n",
    "# Render the mesh\n",
    "mesh = Poly3DCollection(verts[faces])\n",
    "mesh.set_edgecolor('k')\n",
    "ax.add_collection3d(mesh)\n",
    "\n",
    "ax.set_xlim(0, 50)\n",
    "ax.set_ylim(0, 50)\n",
    "ax.set_zlim(0, 50)\n",
    "\n",
    "plt.show()\n"
   ]
  }
 ],
 "metadata": {
  "kernelspec": {
   "display_name": "Python 3",
   "language": "python",
   "name": "python3"
  },
  "language_info": {
   "codemirror_mode": {
    "name": "ipython",
    "version": 3
   },
   "file_extension": ".py",
   "mimetype": "text/x-python",
   "name": "python",
   "nbconvert_exporter": "python",
   "pygments_lexer": "ipython3",
   "version": "3.8.18"
  }
 },
 "nbformat": 4,
 "nbformat_minor": 2
}
